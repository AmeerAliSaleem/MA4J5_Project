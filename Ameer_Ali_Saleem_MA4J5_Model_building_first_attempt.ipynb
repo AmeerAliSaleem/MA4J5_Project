{
  "nbformat": 4,
  "nbformat_minor": 0,
  "metadata": {
    "colab": {
      "provenance": [],
      "authorship_tag": "ABX9TyOkUCUEm0PLCTF7EFeDTpcy",
      "include_colab_link": true
    },
    "kernelspec": {
      "name": "python3",
      "display_name": "Python 3"
    },
    "language_info": {
      "name": "python"
    }
  },
  "cells": [
    {
      "cell_type": "markdown",
      "metadata": {
        "id": "view-in-github",
        "colab_type": "text"
      },
      "source": [
        "<a href=\"https://colab.research.google.com/github/AmeerAliSaleem/MA4J5_Project/blob/main/Ameer_Ali_Saleem_MA4J5_Model_building_first_attempt.ipynb\" target=\"_parent\"><img src=\"https://colab.research.google.com/assets/colab-badge.svg\" alt=\"Open In Colab\"/></a>"
      ]
    },
    {
      "cell_type": "markdown",
      "source": [
        "# MA4J5 Project: Predicting Amazon Review Scores with neural networks (Model 1)\n",
        "---\n",
        "### Ameer Ali Saleem\n",
        "\n",
        "A Python notebook containing the Python code to support my MA4J5 report. Please note that this notebook has been written in Google Colab: this allows for the use of the TensorFlow package without requiring a direct installation (which would take roughly 1.1GB of storage). If you do not have TensorFlow installed, please click on the \"Open in Colab\" link at the top of the notebook."
      ],
      "metadata": {
        "id": "bBUf5XqO5Rnx"
      }
    },
    {
      "cell_type": "markdown",
      "source": [
        "# Imports and checks"
      ],
      "metadata": {
        "id": "Fcp1qcOT5jPn"
      }
    },
    {
      "cell_type": "code",
      "execution_count": 1,
      "metadata": {
        "colab": {
          "base_uri": "https://localhost:8080/"
        },
        "id": "csIK_sMl5NzY",
        "outputId": "33afca86-b920-467d-d708-0c3f0069b157"
      },
      "outputs": [
        {
          "output_type": "stream",
          "name": "stderr",
          "text": [
            "[nltk_data] Downloading package stopwords to /root/nltk_data...\n",
            "[nltk_data]   Package stopwords is already up-to-date!\n"
          ]
        },
        {
          "output_type": "execute_result",
          "data": {
            "text/plain": [
              "True"
            ]
          },
          "metadata": {},
          "execution_count": 1
        }
      ],
      "source": [
        "# imports\n",
        "import pandas as pd\n",
        "import numpy as np\n",
        "import matplotlib.pyplot as plt\n",
        "import random\n",
        "import tensorflow as tf\n",
        "from tensorflow import keras\n",
        "from tensorflow.keras.preprocessing.text import Tokenizer\n",
        "from tensorflow.keras.preprocessing.sequence import pad_sequences\n",
        "import regex as re\n",
        "import nltk\n",
        "nltk.download('stopwords')"
      ]
    },
    {
      "cell_type": "markdown",
      "source": [
        "Our goal is to build a neural network to predict the rating (out of 5 stars) of an input Amazon Kindle review. The data used in this project can be found at <a href=\"https://nijianmo.github.io/amazon/index.html\">this link</a>. Due to the sheer quantity of data, I have chosen to use just 10% of the 5-core Kindle Store data. We begin by importing and cleaning the data:"
      ],
      "metadata": {
        "id": "ITTbQYvm5g1b"
      }
    },
    {
      "cell_type": "code",
      "source": [
        "df = pd.read_csv(\"kindle_cleaned.csv\")"
      ],
      "metadata": {
        "id": "8Wmm7ydP5m2_"
      },
      "execution_count": 2,
      "outputs": []
    },
    {
      "cell_type": "code",
      "source": [
        "df.head()"
      ],
      "metadata": {
        "colab": {
          "base_uri": "https://localhost:8080/",
          "height": 206
        },
        "id": "8JeF41-gb8U4",
        "outputId": "bc903135-3667-4769-d474-5de2ec7ecb96"
      },
      "execution_count": 3,
      "outputs": [
        {
          "output_type": "execute_result",
          "data": {
            "text/plain": [
              "   Unnamed: 0  overall   reviewTime  \\\n",
              "0           0      5.0  01 24, 2015   \n",
              "1           1      4.0  05 16, 2013   \n",
              "2           2      5.0   01 2, 2013   \n",
              "3           3      5.0  03 23, 2016   \n",
              "4           4      5.0  09 19, 2015   \n",
              "\n",
              "                                          reviewText                  summary  \n",
              "0  Great Classic for free.  only wish they had th...               Five Stars  \n",
              "1  I liked it, wished for more about her grandpar...              Pretty good  \n",
              "2  I really liked this short story, but I really ...  Wished it was longer...  \n",
              "3                             Wow I love this series               Five Stars  \n",
              "4  Great series. Can't wait to read more.  Love t...                  Love it  "
            ],
            "text/html": [
              "\n",
              "  <div id=\"df-2a27538e-9876-4295-9ff1-d66864d9464b\" class=\"colab-df-container\">\n",
              "    <div>\n",
              "<style scoped>\n",
              "    .dataframe tbody tr th:only-of-type {\n",
              "        vertical-align: middle;\n",
              "    }\n",
              "\n",
              "    .dataframe tbody tr th {\n",
              "        vertical-align: top;\n",
              "    }\n",
              "\n",
              "    .dataframe thead th {\n",
              "        text-align: right;\n",
              "    }\n",
              "</style>\n",
              "<table border=\"1\" class=\"dataframe\">\n",
              "  <thead>\n",
              "    <tr style=\"text-align: right;\">\n",
              "      <th></th>\n",
              "      <th>Unnamed: 0</th>\n",
              "      <th>overall</th>\n",
              "      <th>reviewTime</th>\n",
              "      <th>reviewText</th>\n",
              "      <th>summary</th>\n",
              "    </tr>\n",
              "  </thead>\n",
              "  <tbody>\n",
              "    <tr>\n",
              "      <th>0</th>\n",
              "      <td>0</td>\n",
              "      <td>5.0</td>\n",
              "      <td>01 24, 2015</td>\n",
              "      <td>Great Classic for free.  only wish they had th...</td>\n",
              "      <td>Five Stars</td>\n",
              "    </tr>\n",
              "    <tr>\n",
              "      <th>1</th>\n",
              "      <td>1</td>\n",
              "      <td>4.0</td>\n",
              "      <td>05 16, 2013</td>\n",
              "      <td>I liked it, wished for more about her grandpar...</td>\n",
              "      <td>Pretty good</td>\n",
              "    </tr>\n",
              "    <tr>\n",
              "      <th>2</th>\n",
              "      <td>2</td>\n",
              "      <td>5.0</td>\n",
              "      <td>01 2, 2013</td>\n",
              "      <td>I really liked this short story, but I really ...</td>\n",
              "      <td>Wished it was longer...</td>\n",
              "    </tr>\n",
              "    <tr>\n",
              "      <th>3</th>\n",
              "      <td>3</td>\n",
              "      <td>5.0</td>\n",
              "      <td>03 23, 2016</td>\n",
              "      <td>Wow I love this series</td>\n",
              "      <td>Five Stars</td>\n",
              "    </tr>\n",
              "    <tr>\n",
              "      <th>4</th>\n",
              "      <td>4</td>\n",
              "      <td>5.0</td>\n",
              "      <td>09 19, 2015</td>\n",
              "      <td>Great series. Can't wait to read more.  Love t...</td>\n",
              "      <td>Love it</td>\n",
              "    </tr>\n",
              "  </tbody>\n",
              "</table>\n",
              "</div>\n",
              "    <div class=\"colab-df-buttons\">\n",
              "\n",
              "  <div class=\"colab-df-container\">\n",
              "    <button class=\"colab-df-convert\" onclick=\"convertToInteractive('df-2a27538e-9876-4295-9ff1-d66864d9464b')\"\n",
              "            title=\"Convert this dataframe to an interactive table.\"\n",
              "            style=\"display:none;\">\n",
              "\n",
              "  <svg xmlns=\"http://www.w3.org/2000/svg\" height=\"24px\" viewBox=\"0 -960 960 960\">\n",
              "    <path d=\"M120-120v-720h720v720H120Zm60-500h600v-160H180v160Zm220 220h160v-160H400v160Zm0 220h160v-160H400v160ZM180-400h160v-160H180v160Zm440 0h160v-160H620v160ZM180-180h160v-160H180v160Zm440 0h160v-160H620v160Z\"/>\n",
              "  </svg>\n",
              "    </button>\n",
              "\n",
              "  <style>\n",
              "    .colab-df-container {\n",
              "      display:flex;\n",
              "      gap: 12px;\n",
              "    }\n",
              "\n",
              "    .colab-df-convert {\n",
              "      background-color: #E8F0FE;\n",
              "      border: none;\n",
              "      border-radius: 50%;\n",
              "      cursor: pointer;\n",
              "      display: none;\n",
              "      fill: #1967D2;\n",
              "      height: 32px;\n",
              "      padding: 0 0 0 0;\n",
              "      width: 32px;\n",
              "    }\n",
              "\n",
              "    .colab-df-convert:hover {\n",
              "      background-color: #E2EBFA;\n",
              "      box-shadow: 0px 1px 2px rgba(60, 64, 67, 0.3), 0px 1px 3px 1px rgba(60, 64, 67, 0.15);\n",
              "      fill: #174EA6;\n",
              "    }\n",
              "\n",
              "    .colab-df-buttons div {\n",
              "      margin-bottom: 4px;\n",
              "    }\n",
              "\n",
              "    [theme=dark] .colab-df-convert {\n",
              "      background-color: #3B4455;\n",
              "      fill: #D2E3FC;\n",
              "    }\n",
              "\n",
              "    [theme=dark] .colab-df-convert:hover {\n",
              "      background-color: #434B5C;\n",
              "      box-shadow: 0px 1px 3px 1px rgba(0, 0, 0, 0.15);\n",
              "      filter: drop-shadow(0px 1px 2px rgba(0, 0, 0, 0.3));\n",
              "      fill: #FFFFFF;\n",
              "    }\n",
              "  </style>\n",
              "\n",
              "    <script>\n",
              "      const buttonEl =\n",
              "        document.querySelector('#df-2a27538e-9876-4295-9ff1-d66864d9464b button.colab-df-convert');\n",
              "      buttonEl.style.display =\n",
              "        google.colab.kernel.accessAllowed ? 'block' : 'none';\n",
              "\n",
              "      async function convertToInteractive(key) {\n",
              "        const element = document.querySelector('#df-2a27538e-9876-4295-9ff1-d66864d9464b');\n",
              "        const dataTable =\n",
              "          await google.colab.kernel.invokeFunction('convertToInteractive',\n",
              "                                                    [key], {});\n",
              "        if (!dataTable) return;\n",
              "\n",
              "        const docLinkHtml = 'Like what you see? Visit the ' +\n",
              "          '<a target=\"_blank\" href=https://colab.research.google.com/notebooks/data_table.ipynb>data table notebook</a>'\n",
              "          + ' to learn more about interactive tables.';\n",
              "        element.innerHTML = '';\n",
              "        dataTable['output_type'] = 'display_data';\n",
              "        await google.colab.output.renderOutput(dataTable, element);\n",
              "        const docLink = document.createElement('div');\n",
              "        docLink.innerHTML = docLinkHtml;\n",
              "        element.appendChild(docLink);\n",
              "      }\n",
              "    </script>\n",
              "  </div>\n",
              "\n",
              "\n",
              "<div id=\"df-a2030ca6-f084-47a0-92a5-6af7181a3efb\">\n",
              "  <button class=\"colab-df-quickchart\" onclick=\"quickchart('df-a2030ca6-f084-47a0-92a5-6af7181a3efb')\"\n",
              "            title=\"Suggest charts\"\n",
              "            style=\"display:none;\">\n",
              "\n",
              "<svg xmlns=\"http://www.w3.org/2000/svg\" height=\"24px\"viewBox=\"0 0 24 24\"\n",
              "     width=\"24px\">\n",
              "    <g>\n",
              "        <path d=\"M19 3H5c-1.1 0-2 .9-2 2v14c0 1.1.9 2 2 2h14c1.1 0 2-.9 2-2V5c0-1.1-.9-2-2-2zM9 17H7v-7h2v7zm4 0h-2V7h2v10zm4 0h-2v-4h2v4z\"/>\n",
              "    </g>\n",
              "</svg>\n",
              "  </button>\n",
              "\n",
              "<style>\n",
              "  .colab-df-quickchart {\n",
              "      --bg-color: #E8F0FE;\n",
              "      --fill-color: #1967D2;\n",
              "      --hover-bg-color: #E2EBFA;\n",
              "      --hover-fill-color: #174EA6;\n",
              "      --disabled-fill-color: #AAA;\n",
              "      --disabled-bg-color: #DDD;\n",
              "  }\n",
              "\n",
              "  [theme=dark] .colab-df-quickchart {\n",
              "      --bg-color: #3B4455;\n",
              "      --fill-color: #D2E3FC;\n",
              "      --hover-bg-color: #434B5C;\n",
              "      --hover-fill-color: #FFFFFF;\n",
              "      --disabled-bg-color: #3B4455;\n",
              "      --disabled-fill-color: #666;\n",
              "  }\n",
              "\n",
              "  .colab-df-quickchart {\n",
              "    background-color: var(--bg-color);\n",
              "    border: none;\n",
              "    border-radius: 50%;\n",
              "    cursor: pointer;\n",
              "    display: none;\n",
              "    fill: var(--fill-color);\n",
              "    height: 32px;\n",
              "    padding: 0;\n",
              "    width: 32px;\n",
              "  }\n",
              "\n",
              "  .colab-df-quickchart:hover {\n",
              "    background-color: var(--hover-bg-color);\n",
              "    box-shadow: 0 1px 2px rgba(60, 64, 67, 0.3), 0 1px 3px 1px rgba(60, 64, 67, 0.15);\n",
              "    fill: var(--button-hover-fill-color);\n",
              "  }\n",
              "\n",
              "  .colab-df-quickchart-complete:disabled,\n",
              "  .colab-df-quickchart-complete:disabled:hover {\n",
              "    background-color: var(--disabled-bg-color);\n",
              "    fill: var(--disabled-fill-color);\n",
              "    box-shadow: none;\n",
              "  }\n",
              "\n",
              "  .colab-df-spinner {\n",
              "    border: 2px solid var(--fill-color);\n",
              "    border-color: transparent;\n",
              "    border-bottom-color: var(--fill-color);\n",
              "    animation:\n",
              "      spin 1s steps(1) infinite;\n",
              "  }\n",
              "\n",
              "  @keyframes spin {\n",
              "    0% {\n",
              "      border-color: transparent;\n",
              "      border-bottom-color: var(--fill-color);\n",
              "      border-left-color: var(--fill-color);\n",
              "    }\n",
              "    20% {\n",
              "      border-color: transparent;\n",
              "      border-left-color: var(--fill-color);\n",
              "      border-top-color: var(--fill-color);\n",
              "    }\n",
              "    30% {\n",
              "      border-color: transparent;\n",
              "      border-left-color: var(--fill-color);\n",
              "      border-top-color: var(--fill-color);\n",
              "      border-right-color: var(--fill-color);\n",
              "    }\n",
              "    40% {\n",
              "      border-color: transparent;\n",
              "      border-right-color: var(--fill-color);\n",
              "      border-top-color: var(--fill-color);\n",
              "    }\n",
              "    60% {\n",
              "      border-color: transparent;\n",
              "      border-right-color: var(--fill-color);\n",
              "    }\n",
              "    80% {\n",
              "      border-color: transparent;\n",
              "      border-right-color: var(--fill-color);\n",
              "      border-bottom-color: var(--fill-color);\n",
              "    }\n",
              "    90% {\n",
              "      border-color: transparent;\n",
              "      border-bottom-color: var(--fill-color);\n",
              "    }\n",
              "  }\n",
              "</style>\n",
              "\n",
              "  <script>\n",
              "    async function quickchart(key) {\n",
              "      const quickchartButtonEl =\n",
              "        document.querySelector('#' + key + ' button');\n",
              "      quickchartButtonEl.disabled = true;  // To prevent multiple clicks.\n",
              "      quickchartButtonEl.classList.add('colab-df-spinner');\n",
              "      try {\n",
              "        const charts = await google.colab.kernel.invokeFunction(\n",
              "            'suggestCharts', [key], {});\n",
              "      } catch (error) {\n",
              "        console.error('Error during call to suggestCharts:', error);\n",
              "      }\n",
              "      quickchartButtonEl.classList.remove('colab-df-spinner');\n",
              "      quickchartButtonEl.classList.add('colab-df-quickchart-complete');\n",
              "    }\n",
              "    (() => {\n",
              "      let quickchartButtonEl =\n",
              "        document.querySelector('#df-a2030ca6-f084-47a0-92a5-6af7181a3efb button');\n",
              "      quickchartButtonEl.style.display =\n",
              "        google.colab.kernel.accessAllowed ? 'block' : 'none';\n",
              "    })();\n",
              "  </script>\n",
              "</div>\n",
              "    </div>\n",
              "  </div>\n"
            ]
          },
          "metadata": {},
          "execution_count": 3
        }
      ]
    },
    {
      "cell_type": "code",
      "source": [
        "df = df.drop(columns=\"Unnamed: 0\")"
      ],
      "metadata": {
        "id": "HRHjewQMf7bu"
      },
      "execution_count": 4,
      "outputs": []
    },
    {
      "cell_type": "code",
      "source": [
        "df.head()"
      ],
      "metadata": {
        "colab": {
          "base_uri": "https://localhost:8080/",
          "height": 206
        },
        "id": "kqGp2WwSgDfM",
        "outputId": "b5008a96-d24f-44c3-c06c-ac786f6f1a6c"
      },
      "execution_count": 5,
      "outputs": [
        {
          "output_type": "execute_result",
          "data": {
            "text/plain": [
              "   overall   reviewTime                                         reviewText  \\\n",
              "0      5.0  01 24, 2015  Great Classic for free.  only wish they had th...   \n",
              "1      4.0  05 16, 2013  I liked it, wished for more about her grandpar...   \n",
              "2      5.0   01 2, 2013  I really liked this short story, but I really ...   \n",
              "3      5.0  03 23, 2016                             Wow I love this series   \n",
              "4      5.0  09 19, 2015  Great series. Can't wait to read more.  Love t...   \n",
              "\n",
              "                   summary  \n",
              "0               Five Stars  \n",
              "1              Pretty good  \n",
              "2  Wished it was longer...  \n",
              "3               Five Stars  \n",
              "4                  Love it  "
            ],
            "text/html": [
              "\n",
              "  <div id=\"df-db7b5495-dbbc-4362-9205-67258bec3ac3\" class=\"colab-df-container\">\n",
              "    <div>\n",
              "<style scoped>\n",
              "    .dataframe tbody tr th:only-of-type {\n",
              "        vertical-align: middle;\n",
              "    }\n",
              "\n",
              "    .dataframe tbody tr th {\n",
              "        vertical-align: top;\n",
              "    }\n",
              "\n",
              "    .dataframe thead th {\n",
              "        text-align: right;\n",
              "    }\n",
              "</style>\n",
              "<table border=\"1\" class=\"dataframe\">\n",
              "  <thead>\n",
              "    <tr style=\"text-align: right;\">\n",
              "      <th></th>\n",
              "      <th>overall</th>\n",
              "      <th>reviewTime</th>\n",
              "      <th>reviewText</th>\n",
              "      <th>summary</th>\n",
              "    </tr>\n",
              "  </thead>\n",
              "  <tbody>\n",
              "    <tr>\n",
              "      <th>0</th>\n",
              "      <td>5.0</td>\n",
              "      <td>01 24, 2015</td>\n",
              "      <td>Great Classic for free.  only wish they had th...</td>\n",
              "      <td>Five Stars</td>\n",
              "    </tr>\n",
              "    <tr>\n",
              "      <th>1</th>\n",
              "      <td>4.0</td>\n",
              "      <td>05 16, 2013</td>\n",
              "      <td>I liked it, wished for more about her grandpar...</td>\n",
              "      <td>Pretty good</td>\n",
              "    </tr>\n",
              "    <tr>\n",
              "      <th>2</th>\n",
              "      <td>5.0</td>\n",
              "      <td>01 2, 2013</td>\n",
              "      <td>I really liked this short story, but I really ...</td>\n",
              "      <td>Wished it was longer...</td>\n",
              "    </tr>\n",
              "    <tr>\n",
              "      <th>3</th>\n",
              "      <td>5.0</td>\n",
              "      <td>03 23, 2016</td>\n",
              "      <td>Wow I love this series</td>\n",
              "      <td>Five Stars</td>\n",
              "    </tr>\n",
              "    <tr>\n",
              "      <th>4</th>\n",
              "      <td>5.0</td>\n",
              "      <td>09 19, 2015</td>\n",
              "      <td>Great series. Can't wait to read more.  Love t...</td>\n",
              "      <td>Love it</td>\n",
              "    </tr>\n",
              "  </tbody>\n",
              "</table>\n",
              "</div>\n",
              "    <div class=\"colab-df-buttons\">\n",
              "\n",
              "  <div class=\"colab-df-container\">\n",
              "    <button class=\"colab-df-convert\" onclick=\"convertToInteractive('df-db7b5495-dbbc-4362-9205-67258bec3ac3')\"\n",
              "            title=\"Convert this dataframe to an interactive table.\"\n",
              "            style=\"display:none;\">\n",
              "\n",
              "  <svg xmlns=\"http://www.w3.org/2000/svg\" height=\"24px\" viewBox=\"0 -960 960 960\">\n",
              "    <path d=\"M120-120v-720h720v720H120Zm60-500h600v-160H180v160Zm220 220h160v-160H400v160Zm0 220h160v-160H400v160ZM180-400h160v-160H180v160Zm440 0h160v-160H620v160ZM180-180h160v-160H180v160Zm440 0h160v-160H620v160Z\"/>\n",
              "  </svg>\n",
              "    </button>\n",
              "\n",
              "  <style>\n",
              "    .colab-df-container {\n",
              "      display:flex;\n",
              "      gap: 12px;\n",
              "    }\n",
              "\n",
              "    .colab-df-convert {\n",
              "      background-color: #E8F0FE;\n",
              "      border: none;\n",
              "      border-radius: 50%;\n",
              "      cursor: pointer;\n",
              "      display: none;\n",
              "      fill: #1967D2;\n",
              "      height: 32px;\n",
              "      padding: 0 0 0 0;\n",
              "      width: 32px;\n",
              "    }\n",
              "\n",
              "    .colab-df-convert:hover {\n",
              "      background-color: #E2EBFA;\n",
              "      box-shadow: 0px 1px 2px rgba(60, 64, 67, 0.3), 0px 1px 3px 1px rgba(60, 64, 67, 0.15);\n",
              "      fill: #174EA6;\n",
              "    }\n",
              "\n",
              "    .colab-df-buttons div {\n",
              "      margin-bottom: 4px;\n",
              "    }\n",
              "\n",
              "    [theme=dark] .colab-df-convert {\n",
              "      background-color: #3B4455;\n",
              "      fill: #D2E3FC;\n",
              "    }\n",
              "\n",
              "    [theme=dark] .colab-df-convert:hover {\n",
              "      background-color: #434B5C;\n",
              "      box-shadow: 0px 1px 3px 1px rgba(0, 0, 0, 0.15);\n",
              "      filter: drop-shadow(0px 1px 2px rgba(0, 0, 0, 0.3));\n",
              "      fill: #FFFFFF;\n",
              "    }\n",
              "  </style>\n",
              "\n",
              "    <script>\n",
              "      const buttonEl =\n",
              "        document.querySelector('#df-db7b5495-dbbc-4362-9205-67258bec3ac3 button.colab-df-convert');\n",
              "      buttonEl.style.display =\n",
              "        google.colab.kernel.accessAllowed ? 'block' : 'none';\n",
              "\n",
              "      async function convertToInteractive(key) {\n",
              "        const element = document.querySelector('#df-db7b5495-dbbc-4362-9205-67258bec3ac3');\n",
              "        const dataTable =\n",
              "          await google.colab.kernel.invokeFunction('convertToInteractive',\n",
              "                                                    [key], {});\n",
              "        if (!dataTable) return;\n",
              "\n",
              "        const docLinkHtml = 'Like what you see? Visit the ' +\n",
              "          '<a target=\"_blank\" href=https://colab.research.google.com/notebooks/data_table.ipynb>data table notebook</a>'\n",
              "          + ' to learn more about interactive tables.';\n",
              "        element.innerHTML = '';\n",
              "        dataTable['output_type'] = 'display_data';\n",
              "        await google.colab.output.renderOutput(dataTable, element);\n",
              "        const docLink = document.createElement('div');\n",
              "        docLink.innerHTML = docLinkHtml;\n",
              "        element.appendChild(docLink);\n",
              "      }\n",
              "    </script>\n",
              "  </div>\n",
              "\n",
              "\n",
              "<div id=\"df-e19136f2-7934-4846-9253-008fbfcdf9d1\">\n",
              "  <button class=\"colab-df-quickchart\" onclick=\"quickchart('df-e19136f2-7934-4846-9253-008fbfcdf9d1')\"\n",
              "            title=\"Suggest charts\"\n",
              "            style=\"display:none;\">\n",
              "\n",
              "<svg xmlns=\"http://www.w3.org/2000/svg\" height=\"24px\"viewBox=\"0 0 24 24\"\n",
              "     width=\"24px\">\n",
              "    <g>\n",
              "        <path d=\"M19 3H5c-1.1 0-2 .9-2 2v14c0 1.1.9 2 2 2h14c1.1 0 2-.9 2-2V5c0-1.1-.9-2-2-2zM9 17H7v-7h2v7zm4 0h-2V7h2v10zm4 0h-2v-4h2v4z\"/>\n",
              "    </g>\n",
              "</svg>\n",
              "  </button>\n",
              "\n",
              "<style>\n",
              "  .colab-df-quickchart {\n",
              "      --bg-color: #E8F0FE;\n",
              "      --fill-color: #1967D2;\n",
              "      --hover-bg-color: #E2EBFA;\n",
              "      --hover-fill-color: #174EA6;\n",
              "      --disabled-fill-color: #AAA;\n",
              "      --disabled-bg-color: #DDD;\n",
              "  }\n",
              "\n",
              "  [theme=dark] .colab-df-quickchart {\n",
              "      --bg-color: #3B4455;\n",
              "      --fill-color: #D2E3FC;\n",
              "      --hover-bg-color: #434B5C;\n",
              "      --hover-fill-color: #FFFFFF;\n",
              "      --disabled-bg-color: #3B4455;\n",
              "      --disabled-fill-color: #666;\n",
              "  }\n",
              "\n",
              "  .colab-df-quickchart {\n",
              "    background-color: var(--bg-color);\n",
              "    border: none;\n",
              "    border-radius: 50%;\n",
              "    cursor: pointer;\n",
              "    display: none;\n",
              "    fill: var(--fill-color);\n",
              "    height: 32px;\n",
              "    padding: 0;\n",
              "    width: 32px;\n",
              "  }\n",
              "\n",
              "  .colab-df-quickchart:hover {\n",
              "    background-color: var(--hover-bg-color);\n",
              "    box-shadow: 0 1px 2px rgba(60, 64, 67, 0.3), 0 1px 3px 1px rgba(60, 64, 67, 0.15);\n",
              "    fill: var(--button-hover-fill-color);\n",
              "  }\n",
              "\n",
              "  .colab-df-quickchart-complete:disabled,\n",
              "  .colab-df-quickchart-complete:disabled:hover {\n",
              "    background-color: var(--disabled-bg-color);\n",
              "    fill: var(--disabled-fill-color);\n",
              "    box-shadow: none;\n",
              "  }\n",
              "\n",
              "  .colab-df-spinner {\n",
              "    border: 2px solid var(--fill-color);\n",
              "    border-color: transparent;\n",
              "    border-bottom-color: var(--fill-color);\n",
              "    animation:\n",
              "      spin 1s steps(1) infinite;\n",
              "  }\n",
              "\n",
              "  @keyframes spin {\n",
              "    0% {\n",
              "      border-color: transparent;\n",
              "      border-bottom-color: var(--fill-color);\n",
              "      border-left-color: var(--fill-color);\n",
              "    }\n",
              "    20% {\n",
              "      border-color: transparent;\n",
              "      border-left-color: var(--fill-color);\n",
              "      border-top-color: var(--fill-color);\n",
              "    }\n",
              "    30% {\n",
              "      border-color: transparent;\n",
              "      border-left-color: var(--fill-color);\n",
              "      border-top-color: var(--fill-color);\n",
              "      border-right-color: var(--fill-color);\n",
              "    }\n",
              "    40% {\n",
              "      border-color: transparent;\n",
              "      border-right-color: var(--fill-color);\n",
              "      border-top-color: var(--fill-color);\n",
              "    }\n",
              "    60% {\n",
              "      border-color: transparent;\n",
              "      border-right-color: var(--fill-color);\n",
              "    }\n",
              "    80% {\n",
              "      border-color: transparent;\n",
              "      border-right-color: var(--fill-color);\n",
              "      border-bottom-color: var(--fill-color);\n",
              "    }\n",
              "    90% {\n",
              "      border-color: transparent;\n",
              "      border-bottom-color: var(--fill-color);\n",
              "    }\n",
              "  }\n",
              "</style>\n",
              "\n",
              "  <script>\n",
              "    async function quickchart(key) {\n",
              "      const quickchartButtonEl =\n",
              "        document.querySelector('#' + key + ' button');\n",
              "      quickchartButtonEl.disabled = true;  // To prevent multiple clicks.\n",
              "      quickchartButtonEl.classList.add('colab-df-spinner');\n",
              "      try {\n",
              "        const charts = await google.colab.kernel.invokeFunction(\n",
              "            'suggestCharts', [key], {});\n",
              "      } catch (error) {\n",
              "        console.error('Error during call to suggestCharts:', error);\n",
              "      }\n",
              "      quickchartButtonEl.classList.remove('colab-df-spinner');\n",
              "      quickchartButtonEl.classList.add('colab-df-quickchart-complete');\n",
              "    }\n",
              "    (() => {\n",
              "      let quickchartButtonEl =\n",
              "        document.querySelector('#df-e19136f2-7934-4846-9253-008fbfcdf9d1 button');\n",
              "      quickchartButtonEl.style.display =\n",
              "        google.colab.kernel.accessAllowed ? 'block' : 'none';\n",
              "    })();\n",
              "  </script>\n",
              "</div>\n",
              "    </div>\n",
              "  </div>\n"
            ]
          },
          "metadata": {},
          "execution_count": 5
        }
      ]
    },
    {
      "cell_type": "code",
      "source": [
        "df.info()"
      ],
      "metadata": {
        "colab": {
          "base_uri": "https://localhost:8080/"
        },
        "id": "j3Qne-YCgGej",
        "outputId": "ab54cf88-2bb9-4def-a71b-c6a2b2807947"
      },
      "execution_count": 6,
      "outputs": [
        {
          "output_type": "stream",
          "name": "stdout",
          "text": [
            "<class 'pandas.core.frame.DataFrame'>\n",
            "RangeIndex: 141992 entries, 0 to 141991\n",
            "Data columns (total 4 columns):\n",
            " #   Column      Non-Null Count   Dtype  \n",
            "---  ------      --------------   -----  \n",
            " 0   overall     141992 non-null  float64\n",
            " 1   reviewTime  141992 non-null  object \n",
            " 2   reviewText  141961 non-null  object \n",
            " 3   summary     141895 non-null  object \n",
            "dtypes: float64(1), object(3)\n",
            "memory usage: 4.3+ MB\n"
          ]
        }
      ]
    },
    {
      "cell_type": "markdown",
      "source": [
        "# Text Preprocessing"
      ],
      "metadata": {
        "id": "QW7Wqapxgox7"
      }
    },
    {
      "cell_type": "code",
      "source": [
        "df.info()"
      ],
      "metadata": {
        "colab": {
          "base_uri": "https://localhost:8080/"
        },
        "id": "mN9r6KzVjYN1",
        "outputId": "10030c7f-9600-455b-e1a2-0025e47a27f7"
      },
      "execution_count": 8,
      "outputs": [
        {
          "output_type": "stream",
          "name": "stdout",
          "text": [
            "<class 'pandas.core.frame.DataFrame'>\n",
            "RangeIndex: 141992 entries, 0 to 141991\n",
            "Data columns (total 4 columns):\n",
            " #   Column      Non-Null Count   Dtype  \n",
            "---  ------      --------------   -----  \n",
            " 0   overall     141992 non-null  float64\n",
            " 1   reviewTime  141992 non-null  object \n",
            " 2   reviewText  141961 non-null  object \n",
            " 3   summary     141895 non-null  object \n",
            "dtypes: float64(1), object(3)\n",
            "memory usage: 4.3+ MB\n"
          ]
        }
      ]
    },
    {
      "cell_type": "code",
      "source": [
        "type(df[\"reviewText\"].values)"
      ],
      "metadata": {
        "colab": {
          "base_uri": "https://localhost:8080/"
        },
        "id": "jaKuiIX4ivCd",
        "outputId": "e636f42e-6c7a-4a9e-c54d-ca46fbd310db"
      },
      "execution_count": 9,
      "outputs": [
        {
          "output_type": "execute_result",
          "data": {
            "text/plain": [
              "numpy.ndarray"
            ]
          },
          "metadata": {},
          "execution_count": 9
        }
      ]
    },
    {
      "cell_type": "code",
      "source": [
        "print(type(df[\"reviewText\"].iloc[0]))"
      ],
      "metadata": {
        "colab": {
          "base_uri": "https://localhost:8080/"
        },
        "id": "SYBJNbbri0f1",
        "outputId": "0ca89722-df49-4c1c-d646-336cb771da99"
      },
      "execution_count": 10,
      "outputs": [
        {
          "output_type": "stream",
          "name": "stdout",
          "text": [
            "<class 'str'>\n"
          ]
        }
      ]
    },
    {
      "cell_type": "code",
      "source": [
        "df[\"reviewText\"] = df[\"reviewText\"].astype(str)"
      ],
      "metadata": {
        "id": "JGlj1A6TjMAZ"
      },
      "execution_count": 11,
      "outputs": []
    },
    {
      "cell_type": "code",
      "source": [
        "stopwords = nltk.corpus.stopwords.words('english')\n",
        "print(stopwords)"
      ],
      "metadata": {
        "colab": {
          "base_uri": "https://localhost:8080/"
        },
        "id": "ar_Ve3-Vgvef",
        "outputId": "4fc59d3b-14a1-40b3-9205-053c73333d17"
      },
      "execution_count": 12,
      "outputs": [
        {
          "output_type": "stream",
          "name": "stdout",
          "text": [
            "['i', 'me', 'my', 'myself', 'we', 'our', 'ours', 'ourselves', 'you', \"you're\", \"you've\", \"you'll\", \"you'd\", 'your', 'yours', 'yourself', 'yourselves', 'he', 'him', 'his', 'himself', 'she', \"she's\", 'her', 'hers', 'herself', 'it', \"it's\", 'its', 'itself', 'they', 'them', 'their', 'theirs', 'themselves', 'what', 'which', 'who', 'whom', 'this', 'that', \"that'll\", 'these', 'those', 'am', 'is', 'are', 'was', 'were', 'be', 'been', 'being', 'have', 'has', 'had', 'having', 'do', 'does', 'did', 'doing', 'a', 'an', 'the', 'and', 'but', 'if', 'or', 'because', 'as', 'until', 'while', 'of', 'at', 'by', 'for', 'with', 'about', 'against', 'between', 'into', 'through', 'during', 'before', 'after', 'above', 'below', 'to', 'from', 'up', 'down', 'in', 'out', 'on', 'off', 'over', 'under', 'again', 'further', 'then', 'once', 'here', 'there', 'when', 'where', 'why', 'how', 'all', 'any', 'both', 'each', 'few', 'more', 'most', 'other', 'some', 'such', 'no', 'nor', 'not', 'only', 'own', 'same', 'so', 'than', 'too', 'very', 's', 't', 'can', 'will', 'just', 'don', \"don't\", 'should', \"should've\", 'now', 'd', 'll', 'm', 'o', 're', 've', 'y', 'ain', 'aren', \"aren't\", 'couldn', \"couldn't\", 'didn', \"didn't\", 'doesn', \"doesn't\", 'hadn', \"hadn't\", 'hasn', \"hasn't\", 'haven', \"haven't\", 'isn', \"isn't\", 'ma', 'mightn', \"mightn't\", 'mustn', \"mustn't\", 'needn', \"needn't\", 'shan', \"shan't\", 'shouldn', \"shouldn't\", 'wasn', \"wasn't\", 'weren', \"weren't\", 'won', \"won't\", 'wouldn', \"wouldn't\"]\n"
          ]
        }
      ]
    },
    {
      "cell_type": "code",
      "source": [
        "reviews_cleaned = []\n",
        "\n",
        "for i in range(len(df[\"reviewText\"])):\n",
        "  reviews_raw = df[\"reviewText\"].iloc[i]\n",
        "  reviews_edit_1 = reviews_raw.lower()\n",
        "  reviews_edit_2 = re.sub(r\"[^a-zA-Z0-9\\s\\.]\", \"\", reviews_edit_1) # Filter punctuation\n",
        "  # reviews_edit_3 = re.sub(\" \\.|\\. \", \"\", reviews_edit_2) # Get rid of fullstops that are outside of words\n",
        "  reviews_cleaned.append(reviews_edit_2.strip()) # remove unnecessary whitespace and append to list of cleaned reviews"
      ],
      "metadata": {
        "id": "OyGJovZOg_gA"
      },
      "execution_count": 13,
      "outputs": []
    },
    {
      "cell_type": "code",
      "source": [
        "# remove stopwords from the cleaned list\n",
        "filtered_reviews = [\n",
        "    ' '.join(word for word in sentence.split() if word.lower() not in stopwords)\n",
        "    for sentence in reviews_cleaned\n",
        "]"
      ],
      "metadata": {
        "id": "nlCL0e-OjZM4"
      },
      "execution_count": 14,
      "outputs": []
    },
    {
      "cell_type": "code",
      "source": [
        "# take a look at some sample data\n",
        "reviews_cleaned[:5]"
      ],
      "metadata": {
        "colab": {
          "base_uri": "https://localhost:8080/"
        },
        "id": "VHPBs6b3jqmR",
        "outputId": "96d3125c-9e7b-47b5-8aaa-7b6802c4b0dc"
      },
      "execution_count": 15,
      "outputs": [
        {
          "output_type": "execute_result",
          "data": {
            "text/plain": [
              "['great classic for free.  only wish they had the whole pepper set',\n",
              " 'i liked it wished for more about her grandparents n his family history but it was enough. enjoy the read',\n",
              " 'i really liked this short story but i really do wish it was longer. it was like reading a book and getting to the end and the rest of the book is missing. it left me wanting more and to me personally that means it was a very good story. i have several of stephen king s books and this story is now one of my favorites. i would recommend it to everyone',\n",
              " 'wow i love this series',\n",
              " 'great series. cant wait to read more.  love the family and the terrific group of amazing characters.  already bought the rest.  cant wait to read them']"
            ]
          },
          "metadata": {},
          "execution_count": 15
        }
      ]
    },
    {
      "cell_type": "code",
      "source": [
        "# compare the above with stopwords removed\n",
        "filtered_reviews[:5]"
      ],
      "metadata": {
        "colab": {
          "base_uri": "https://localhost:8080/"
        },
        "id": "T9iXNBNSjT8u",
        "outputId": "4554a084-c1e8-4727-a130-53e89e7c3d2e"
      },
      "execution_count": 16,
      "outputs": [
        {
          "output_type": "execute_result",
          "data": {
            "text/plain": [
              "['great classic free. wish whole pepper set',\n",
              " 'liked wished grandparents n family history enough. enjoy read',\n",
              " 'really liked short story really wish longer. like reading book getting end rest book missing. left wanting personally means good story. several stephen king books story one favorites. would recommend everyone',\n",
              " 'wow love series',\n",
              " 'great series. cant wait read more. love family terrific group amazing characters. already bought rest. cant wait read']"
            ]
          },
          "metadata": {},
          "execution_count": 16
        }
      ]
    },
    {
      "cell_type": "markdown",
      "source": [
        "## Train-test split"
      ],
      "metadata": {
        "id": "qfzrVTJruTYL"
      }
    },
    {
      "cell_type": "code",
      "source": [
        "labels = list(df[\"overall\"])\n",
        "\n",
        "# Shuffle the data.\n",
        "\n",
        "filtered_reviews, labels = zip(*random.sample(list(zip(filtered_reviews,labels)), len(filtered_reviews)))\n",
        "filtered_reviews = list(filtered_reviews)\n",
        "labels = list(labels)\n",
        "\n",
        "# Train-test split (80:20)\n",
        "\n",
        "trainsize = int(len(filtered_reviews)*0.8)\n",
        "\n",
        "train_reviews, train_labels = filtered_reviews[:trainsize], labels[:trainsize]\n",
        "test_reviews, test_labels = filtered_reviews[trainsize:], labels[trainsize:]"
      ],
      "metadata": {
        "id": "nHTzWDGdlom1"
      },
      "execution_count": 17,
      "outputs": []
    },
    {
      "cell_type": "code",
      "source": [
        "# Check distribution reviews (1,2,3,4,5) in the training set\n",
        "\n",
        "print(\"TRAINING SET\")\n",
        "print(\"Number of reviews to use for training is: {}.\".format(len(train_labels)))\n",
        "print(\"Number of 5-star reviews is: {} (or {:.1f}%).\".format(sum(np.array(train_labels)==5),100*sum(np.array(train_labels)==5)/len(train_labels)))\n",
        "print(\"Number of 4-star reviews is: {} (or {:.1f}%).\".format(sum(np.array(train_labels)==4),100*sum(np.array(train_labels)==4)/len(train_labels)))\n",
        "print(\"Number of 3-star reviews is: {} (or {:.1f}%).\".format(sum(np.array(train_labels)==3),100*sum(np.array(train_labels)==3)/len(train_labels)))\n",
        "print(\"Number of 2-star reviews is: {} (or {:.1f}%).\".format(sum(np.array(train_labels)==2),100*sum(np.array(train_labels)==2)/len(train_labels)))\n",
        "print(\"Number of 1-star reviews is: {} (or {:.1f}%).\".format(sum(np.array(train_labels)==1),100*sum(np.array(train_labels)==1)/len(train_labels)))"
      ],
      "metadata": {
        "colab": {
          "base_uri": "https://localhost:8080/"
        },
        "id": "CjQEuP6rmwOB",
        "outputId": "8622bbc0-d051-48c6-b9a9-4b870ad7b74f"
      },
      "execution_count": 18,
      "outputs": [
        {
          "output_type": "stream",
          "name": "stdout",
          "text": [
            "TRAINING SET\n",
            "Number of reviews to use for training is: 113593.\n",
            "Number of 5-star reviews is: 69153 (or 60.9%).\n",
            "Number of 4-star reviews is: 26791 (or 23.6%).\n",
            "Number of 3-star reviews is: 10836 (or 9.5%).\n",
            "Number of 2-star reviews is: 3885 (or 3.4%).\n",
            "Number of 1-star reviews is: 2928 (or 2.6%).\n"
          ]
        }
      ]
    },
    {
      "cell_type": "markdown",
      "source": [
        "## Tokenisation"
      ],
      "metadata": {
        "id": "r4QydSEQtf3M"
      }
    },
    {
      "cell_type": "markdown",
      "source": [
        "The word tokenizer provided by the Keras package will be able to deal with full stops for us, e.g. \"missing.\" and \"missing\" will be treated as the same token.\n",
        "\n",
        "Now for the tokenisation. In particular, we must conduct this separately on the training and test sets. The reason for this is due to so-called \"data leakage\": we do not want to introduce any elements of the testing data to the network before or during training. These two sets should be kept as separate as possible."
      ],
      "metadata": {
        "id": "QataMTyhj8fo"
      }
    },
    {
      "cell_type": "code",
      "source": [
        "# max size of our vectorised corpus\n",
        "vocab_size = 20000\n",
        "\n",
        "# maximum allowed length for each vectorised sentence into our neural network\n",
        "# max_length = 50\n",
        "max_length = 20\n",
        "\n",
        "# Tokenization\n",
        "# OOV token deals with words that our tokenizer has not seen before (e.g. in the test set)\n",
        "tokenizer = Tokenizer(num_words = vocab_size, oov_token=\"<OOV>\")\n",
        "tokenizer.fit_on_texts(train_reviews)\n",
        "word_index = tokenizer.word_index\n",
        "\n",
        "# print out our dictionary of vectors\n",
        "# print(word_index)\n",
        "\n",
        "\n",
        "train_sequences = tokenizer.texts_to_sequences(train_reviews)\n",
        "test_sequences = tokenizer.texts_to_sequences(test_reviews)\n",
        "\n",
        "# padding sequences to standardise the input size of each row of data for our NN\n",
        "train_padded = pad_sequences(train_sequences, maxlen=max_length)\n",
        "test_padded = pad_sequences(test_sequences, maxlen=max_length)"
      ],
      "metadata": {
        "id": "eoGcq-nglXmN"
      },
      "execution_count": 21,
      "outputs": []
    },
    {
      "cell_type": "code",
      "source": [
        "print(len(word_index))"
      ],
      "metadata": {
        "colab": {
          "base_uri": "https://localhost:8080/"
        },
        "id": "6Sj8xx9ZrXbU",
        "outputId": "ee01044d-732c-4996-b8f7-c4fd2fa380a2"
      },
      "execution_count": 20,
      "outputs": [
        {
          "output_type": "stream",
          "name": "stdout",
          "text": [
            "90467\n"
          ]
        }
      ]
    },
    {
      "cell_type": "markdown",
      "source": [
        "# Model Building and Evaluation"
      ],
      "metadata": {
        "id": "n8l1ukCN5pH7"
      }
    },
    {
      "cell_type": "markdown",
      "source": [
        "We now experiment with a variety of neural network architectures, with the aim of maximising the accuracy of our model on the *testing set*."
      ],
      "metadata": {
        "id": "UshqXWBduifv"
      }
    },
    {
      "cell_type": "code",
      "source": [
        "# more model parameters\n",
        "embedding_dim = 16\n",
        "num_epochs = 15"
      ],
      "metadata": {
        "id": "SPWUlsJ7vU6L"
      },
      "execution_count": 22,
      "outputs": []
    },
    {
      "cell_type": "code",
      "source": [
        "model1 = tf.keras.Sequential([\n",
        "    tf.keras.layers.Embedding(vocab_size, embedding_dim, input_length=max_length),\n",
        "    tf.keras.layers.GlobalAveragePooling1D(),\n",
        "    tf.keras.layers.Dense(24, activation='relu'),\n",
        "    tf.keras.layers.Dense(5, activation='softmax')\n",
        "])\n",
        "model1.compile(loss='categorical_crossentropy',optimizer='adam',metrics=['accuracy'])"
      ],
      "metadata": {
        "id": "NbPvhTlNgCMI"
      },
      "execution_count": 29,
      "outputs": []
    },
    {
      "cell_type": "code",
      "source": [
        "model1.summary()"
      ],
      "metadata": {
        "id": "81KhCtd25uSg",
        "colab": {
          "base_uri": "https://localhost:8080/"
        },
        "outputId": "84251b8c-b276-4ffc-fa57-ea8a6814a7e3"
      },
      "execution_count": 30,
      "outputs": [
        {
          "output_type": "stream",
          "name": "stdout",
          "text": [
            "Model: \"sequential_1\"\n",
            "_________________________________________________________________\n",
            " Layer (type)                Output Shape              Param #   \n",
            "=================================================================\n",
            " embedding_1 (Embedding)     (None, 20, 16)            320000    \n",
            "                                                                 \n",
            " global_average_pooling1d (  (None, 16)                0         \n",
            " GlobalAveragePooling1D)                                         \n",
            "                                                                 \n",
            " dense_2 (Dense)             (None, 24)                408       \n",
            "                                                                 \n",
            " dense_3 (Dense)             (None, 5)                 125       \n",
            "                                                                 \n",
            "=================================================================\n",
            "Total params: 320533 (1.22 MB)\n",
            "Trainable params: 320533 (1.22 MB)\n",
            "Non-trainable params: 0 (0.00 Byte)\n",
            "_________________________________________________________________\n"
          ]
        }
      ]
    },
    {
      "cell_type": "code",
      "source": [
        "train_labels_int = [int(x) for x in train_labels]\n",
        "test_labels_int = [int(x) for x in test_labels]"
      ],
      "metadata": {
        "id": "lY7f8nAuw8xZ"
      },
      "execution_count": 32,
      "outputs": []
    },
    {
      "cell_type": "code",
      "source": [
        "history = model1.fit(train_padded, tf.one_hot(train_labels_int,5), epochs=num_epochs, validation_data=(test_padded, tf.one_hot(test_labels_int,5)), verbose=2)"
      ],
      "metadata": {
        "colab": {
          "base_uri": "https://localhost:8080/"
        },
        "id": "-uMsyQZgvmc3",
        "outputId": "0376b642-77c5-4a20-d414-2c7c1310741c"
      },
      "execution_count": 34,
      "outputs": [
        {
          "output_type": "stream",
          "name": "stdout",
          "text": [
            "Epoch 1/15\n",
            "3550/3550 - 23s - loss: 0.4480 - accuracy: 0.2223 - val_loss: 0.4406 - val_accuracy: 0.2350 - 23s/epoch - 6ms/step\n",
            "Epoch 2/15\n",
            "3550/3550 - 20s - loss: 0.5266 - accuracy: 0.1785 - val_loss: 0.8390 - val_accuracy: 0.0250 - 20s/epoch - 6ms/step\n",
            "Epoch 3/15\n",
            "3550/3550 - 22s - loss: 1.0093 - accuracy: 0.1719 - val_loss: 0.6157 - val_accuracy: 0.1173 - 22s/epoch - 6ms/step\n",
            "Epoch 4/15\n",
            "3550/3550 - 22s - loss: 2.1828 - accuracy: 0.1811 - val_loss: 3.3143 - val_accuracy: 0.0352 - 22s/epoch - 6ms/step\n",
            "Epoch 5/15\n",
            "3550/3550 - 27s - loss: 3.7571 - accuracy: 0.1831 - val_loss: 4.1778 - val_accuracy: 0.2348 - 27s/epoch - 8ms/step\n",
            "Epoch 6/15\n",
            "3550/3550 - 29s - loss: 5.8590 - accuracy: 0.1802 - val_loss: 8.6882 - val_accuracy: 0.6070 - 29s/epoch - 8ms/step\n",
            "Epoch 7/15\n",
            "3550/3550 - 27s - loss: 8.2548 - accuracy: 0.1795 - val_loss: 15.3437 - val_accuracy: 0.6070 - 27s/epoch - 7ms/step\n",
            "Epoch 8/15\n",
            "3550/3550 - 27s - loss: 9.9325 - accuracy: 0.1816 - val_loss: 8.4099 - val_accuracy: 0.2348 - 27s/epoch - 8ms/step\n",
            "Epoch 9/15\n",
            "3550/3550 - 27s - loss: 13.1235 - accuracy: 0.1802 - val_loss: 6.3857 - val_accuracy: 0.6070 - 27s/epoch - 8ms/step\n",
            "Epoch 10/15\n",
            "3550/3550 - 26s - loss: 15.9472 - accuracy: 0.1810 - val_loss: 8.6980 - val_accuracy: 0.0980 - 26s/epoch - 7ms/step\n",
            "Epoch 11/15\n",
            "3550/3550 - 23s - loss: 19.6691 - accuracy: 0.1813 - val_loss: 9.6741 - val_accuracy: 0.2348 - 23s/epoch - 6ms/step\n",
            "Epoch 12/15\n",
            "3550/3550 - 20s - loss: 22.6528 - accuracy: 0.1826 - val_loss: 9.8972 - val_accuracy: 0.2348 - 20s/epoch - 6ms/step\n",
            "Epoch 13/15\n",
            "3550/3550 - 21s - loss: 25.6871 - accuracy: 0.1811 - val_loss: 13.8939 - val_accuracy: 0.2348 - 21s/epoch - 6ms/step\n",
            "Epoch 14/15\n",
            "3550/3550 - 21s - loss: 31.7998 - accuracy: 0.1804 - val_loss: 30.2323 - val_accuracy: 0.0352 - 21s/epoch - 6ms/step\n",
            "Epoch 15/15\n",
            "3550/3550 - 22s - loss: 34.4592 - accuracy: 0.1802 - val_loss: 62.0163 - val_accuracy: 0.0250 - 22s/epoch - 6ms/step\n"
          ]
        }
      ]
    },
    {
      "cell_type": "code",
      "source": [
        "def learning_curve(history):\n",
        "    plt.figure(figsize=(10,12))\n",
        "\n",
        "    # Loss subplot.\n",
        "    plt.subplot(2,1,1)\n",
        "    plt.plot(history.history['loss'], label='loss')\n",
        "    plt.plot(history.history['val_loss'], label='val_loss')\n",
        "    plt.title('Learning Curve')\n",
        "    plt.xlabel('epoch')\n",
        "    plt.ylabel('loss')\n",
        "    plt.legend()\n",
        "\n",
        "    # Accuracy subplot.\n",
        "    plt.subplot(2,1,2)\n",
        "    plt.plot(history.history['accuracy'], label='accuracy')\n",
        "    plt.plot(history.history['val_accuracy'], label='val_accuracy')\n",
        "    plt.title('Learning Curve')\n",
        "    plt.xlabel('epoch')\n",
        "    plt.ylabel('accuracy')\n",
        "    plt.legend()\n",
        "\n",
        "    plt.show()"
      ],
      "metadata": {
        "id": "RmanHzRVo4MQ"
      },
      "execution_count": 35,
      "outputs": []
    },
    {
      "cell_type": "code",
      "source": [
        "# plot learning curves of first model\n",
        "learning_curve(history)"
      ],
      "metadata": {
        "colab": {
          "base_uri": "https://localhost:8080/",
          "height": 1000
        },
        "id": "Eek21g9wo5XO",
        "outputId": "f30659c1-e92f-4960-9645-59d0279f3fb9"
      },
      "execution_count": 37,
      "outputs": [
        {
          "output_type": "display_data",
          "data": {
            "text/plain": [
              "<Figure size 1000x1200 with 2 Axes>"
            ],
            "image/png": "[encoded data removed]"
          },
          "metadata": {}
        }
      ]
    },
    {
      "cell_type": "markdown",
      "source": [
        "# Evaluation of the first model\n",
        "\n",
        "It appears that our initial model yields a very low accuracy. This is most likely due to the extreme class imbalance present in the dataset: we have far more positive reviews that negative reviews and, as such, the model is struggling to learn the details between these two main semantics. To rectify this, we will use a technique called undersampling, in which we use fewer positive samples to provide a larger relative proportion of negative reviews."
      ],
      "metadata": {
        "id": "uava9y_mns2g"
      }
    },
    {
      "cell_type": "markdown",
      "source": [
        "# Model Applicaton"
      ],
      "metadata": {
        "id": "jFJAf57w5vIr"
      }
    },
    {
      "cell_type": "code",
      "source": [],
      "metadata": {
        "id": "TyWjKHp15xI3"
      },
      "execution_count": null,
      "outputs": []
    },
    {
      "cell_type": "markdown",
      "source": [
        "# Model Extensions"
      ],
      "metadata": {
        "id": "1PZA70ZE7G9L"
      }
    },
    {
      "cell_type": "code",
      "source": [],
      "metadata": {
        "id": "Zu6csAiv7MZG"
      },
      "execution_count": null,
      "outputs": []
    }
  ]
}