{
  "nbformat": 4,
  "nbformat_minor": 0,
  "metadata": {
    "colab": {
      "provenance": [],
      "authorship_tag": "ABX9TyMQ734aaWAo0QUdmvWW0B3i",
      "include_colab_link": true
    },
    "kernelspec": {
      "name": "python3",
      "display_name": "Python 3"
    },
    "language_info": {
      "name": "python"
    }
  },
  "cells": [
    {
      "cell_type": "markdown",
      "metadata": {
        "id": "view-in-github",
        "colab_type": "text"
      },
      "source": [
        "<a href=\"https://colab.research.google.com/github/AmeerAliSaleem/MA4J5_Project/blob/main/Ameer_Ali_Saleem_MA4J5_three_class_setup.ipynb\" target=\"_parent\"><img src=\"https://colab.research.google.com/assets/colab-badge.svg\" alt=\"Open In Colab\"/></a>"
      ]
    },
    {
      "cell_type": "code",
      "execution_count": 1,
      "metadata": {
        "colab": {
          "base_uri": "https://localhost:8080/"
        },
        "id": "TymAzcr3dcX_",
        "outputId": "3f7a1ded-7ed1-4275-e85b-61f4c1cf8ac3"
      },
      "outputs": [
        {
          "output_type": "stream",
          "name": "stderr",
          "text": [
            "[nltk_data] Downloading package stopwords to /root/nltk_data...\n",
            "[nltk_data]   Unzipping corpora/stopwords.zip.\n"
          ]
        },
        {
          "output_type": "execute_result",
          "data": {
            "text/plain": [
              "True"
            ]
          },
          "metadata": {},
          "execution_count": 1
        }
      ],
      "source": [
        "# imports\n",
        "import pandas as pd\n",
        "import numpy as np\n",
        "import matplotlib.pyplot as plt\n",
        "import random\n",
        "import tensorflow as tf\n",
        "from tensorflow import keras\n",
        "from tensorflow.keras.preprocessing.text import Tokenizer\n",
        "from tensorflow.keras.preprocessing.sequence import pad_sequences\n",
        "import regex as re\n",
        "import nltk\n",
        "nltk.download('stopwords')"
      ]
    },
    {
      "cell_type": "code",
      "source": [
        "df = pd.read_csv(\"three_class_balanced.csv\")"
      ],
      "metadata": {
        "id": "VFD_O2awdnVx"
      },
      "execution_count": 2,
      "outputs": []
    },
    {
      "cell_type": "code",
      "source": [
        "df.head()"
      ],
      "metadata": {
        "colab": {
          "base_uri": "https://localhost:8080/",
          "height": 206
        },
        "id": "IQ3E3ZdCd22o",
        "outputId": "490b4279-2cdd-41a1-d066-16059073f81b"
      },
      "execution_count": 3,
      "outputs": [
        {
          "output_type": "execute_result",
          "data": {
            "text/plain": [
              "    overall   reviewTime                                         reviewText  \\\n",
              "0  Negative  11 12, 2013  I could not read the entire story. The book wa...   \n",
              "1   Neutral   10 7, 2014  This was a sweet read.....i recommend if your ...   \n",
              "2  Positive   09 9, 2013  Greetings from Australia. A brilliant story. W...   \n",
              "3  Positive  01 25, 2014  My first book from this author and I really li...   \n",
              "4  Positive  02 24, 2016  Dark City is quite a dark novel, chilling and ...   \n",
              "\n",
              "                         summary  \n",
              "0                           nope  \n",
              "1                  A sweet read.  \n",
              "2                      Brilliant  \n",
              "3                      Beautiful  \n",
              "4  Dark thriller, worth reading.  "
            ],
            "text/html": [
              "\n",
              "  <div id=\"df-f9812bdb-3e5e-4043-be0c-d9af95151078\" class=\"colab-df-container\">\n",
              "    <div>\n",
              "<style scoped>\n",
              "    .dataframe tbody tr th:only-of-type {\n",
              "        vertical-align: middle;\n",
              "    }\n",
              "\n",
              "    .dataframe tbody tr th {\n",
              "        vertical-align: top;\n",
              "    }\n",
              "\n",
              "    .dataframe thead th {\n",
              "        text-align: right;\n",
              "    }\n",
              "</style>\n",
              "<table border=\"1\" class=\"dataframe\">\n",
              "  <thead>\n",
              "    <tr style=\"text-align: right;\">\n",
              "      <th></th>\n",
              "      <th>overall</th>\n",
              "      <th>reviewTime</th>\n",
              "      <th>reviewText</th>\n",
              "      <th>summary</th>\n",
              "    </tr>\n",
              "  </thead>\n",
              "  <tbody>\n",
              "    <tr>\n",
              "      <th>0</th>\n",
              "      <td>Negative</td>\n",
              "      <td>11 12, 2013</td>\n",
              "      <td>I could not read the entire story. The book wa...</td>\n",
              "      <td>nope</td>\n",
              "    </tr>\n",
              "    <tr>\n",
              "      <th>1</th>\n",
              "      <td>Neutral</td>\n",
              "      <td>10 7, 2014</td>\n",
              "      <td>This was a sweet read.....i recommend if your ...</td>\n",
              "      <td>A sweet read.</td>\n",
              "    </tr>\n",
              "    <tr>\n",
              "      <th>2</th>\n",
              "      <td>Positive</td>\n",
              "      <td>09 9, 2013</td>\n",
              "      <td>Greetings from Australia. A brilliant story. W...</td>\n",
              "      <td>Brilliant</td>\n",
              "    </tr>\n",
              "    <tr>\n",
              "      <th>3</th>\n",
              "      <td>Positive</td>\n",
              "      <td>01 25, 2014</td>\n",
              "      <td>My first book from this author and I really li...</td>\n",
              "      <td>Beautiful</td>\n",
              "    </tr>\n",
              "    <tr>\n",
              "      <th>4</th>\n",
              "      <td>Positive</td>\n",
              "      <td>02 24, 2016</td>\n",
              "      <td>Dark City is quite a dark novel, chilling and ...</td>\n",
              "      <td>Dark thriller, worth reading.</td>\n",
              "    </tr>\n",
              "  </tbody>\n",
              "</table>\n",
              "</div>\n",
              "    <div class=\"colab-df-buttons\">\n",
              "\n",
              "  <div class=\"colab-df-container\">\n",
              "    <button class=\"colab-df-convert\" onclick=\"convertToInteractive('df-f9812bdb-3e5e-4043-be0c-d9af95151078')\"\n",
              "            title=\"Convert this dataframe to an interactive table.\"\n",
              "            style=\"display:none;\">\n",
              "\n",
              "  <svg xmlns=\"http://www.w3.org/2000/svg\" height=\"24px\" viewBox=\"0 -960 960 960\">\n",
              "    <path d=\"M120-120v-720h720v720H120Zm60-500h600v-160H180v160Zm220 220h160v-160H400v160Zm0 220h160v-160H400v160ZM180-400h160v-160H180v160Zm440 0h160v-160H620v160ZM180-180h160v-160H180v160Zm440 0h160v-160H620v160Z\"/>\n",
              "  </svg>\n",
              "    </button>\n",
              "\n",
              "  <style>\n",
              "    .colab-df-container {\n",
              "      display:flex;\n",
              "      gap: 12px;\n",
              "    }\n",
              "\n",
              "    .colab-df-convert {\n",
              "      background-color: #E8F0FE;\n",
              "      border: none;\n",
              "      border-radius: 50%;\n",
              "      cursor: pointer;\n",
              "      display: none;\n",
              "      fill: #1967D2;\n",
              "      height: 32px;\n",
              "      padding: 0 0 0 0;\n",
              "      width: 32px;\n",
              "    }\n",
              "\n",
              "    .colab-df-convert:hover {\n",
              "      background-color: #E2EBFA;\n",
              "      box-shadow: 0px 1px 2px rgba(60, 64, 67, 0.3), 0px 1px 3px 1px rgba(60, 64, 67, 0.15);\n",
              "      fill: #174EA6;\n",
              "    }\n",
              "\n",
              "    .colab-df-buttons div {\n",
              "      margin-bottom: 4px;\n",
              "    }\n",
              "\n",
              "    [theme=dark] .colab-df-convert {\n",
              "      background-color: #3B4455;\n",
              "      fill: #D2E3FC;\n",
              "    }\n",
              "\n",
              "    [theme=dark] .colab-df-convert:hover {\n",
              "      background-color: #434B5C;\n",
              "      box-shadow: 0px 1px 3px 1px rgba(0, 0, 0, 0.15);\n",
              "      filter: drop-shadow(0px 1px 2px rgba(0, 0, 0, 0.3));\n",
              "      fill: #FFFFFF;\n",
              "    }\n",
              "  </style>\n",
              "\n",
              "    <script>\n",
              "      const buttonEl =\n",
              "        document.querySelector('#df-f9812bdb-3e5e-4043-be0c-d9af95151078 button.colab-df-convert');\n",
              "      buttonEl.style.display =\n",
              "        google.colab.kernel.accessAllowed ? 'block' : 'none';\n",
              "\n",
              "      async function convertToInteractive(key) {\n",
              "        const element = document.querySelector('#df-f9812bdb-3e5e-4043-be0c-d9af95151078');\n",
              "        const dataTable =\n",
              "          await google.colab.kernel.invokeFunction('convertToInteractive',\n",
              "                                                    [key], {});\n",
              "        if (!dataTable) return;\n",
              "\n",
              "        const docLinkHtml = 'Like what you see? Visit the ' +\n",
              "          '<a target=\"_blank\" href=https://colab.research.google.com/notebooks/data_table.ipynb>data table notebook</a>'\n",
              "          + ' to learn more about interactive tables.';\n",
              "        element.innerHTML = '';\n",
              "        dataTable['output_type'] = 'display_data';\n",
              "        await google.colab.output.renderOutput(dataTable, element);\n",
              "        const docLink = document.createElement('div');\n",
              "        docLink.innerHTML = docLinkHtml;\n",
              "        element.appendChild(docLink);\n",
              "      }\n",
              "    </script>\n",
              "  </div>\n",
              "\n",
              "\n",
              "<div id=\"df-01db7c70-91e3-4f33-afc4-33318667476d\">\n",
              "  <button class=\"colab-df-quickchart\" onclick=\"quickchart('df-01db7c70-91e3-4f33-afc4-33318667476d')\"\n",
              "            title=\"Suggest charts\"\n",
              "            style=\"display:none;\">\n",
              "\n",
              "<svg xmlns=\"http://www.w3.org/2000/svg\" height=\"24px\"viewBox=\"0 0 24 24\"\n",
              "     width=\"24px\">\n",
              "    <g>\n",
              "        <path d=\"M19 3H5c-1.1 0-2 .9-2 2v14c0 1.1.9 2 2 2h14c1.1 0 2-.9 2-2V5c0-1.1-.9-2-2-2zM9 17H7v-7h2v7zm4 0h-2V7h2v10zm4 0h-2v-4h2v4z\"/>\n",
              "    </g>\n",
              "</svg>\n",
              "  </button>\n",
              "\n",
              "<style>\n",
              "  .colab-df-quickchart {\n",
              "      --bg-color: #E8F0FE;\n",
              "      --fill-color: #1967D2;\n",
              "      --hover-bg-color: #E2EBFA;\n",
              "      --hover-fill-color: #174EA6;\n",
              "      --disabled-fill-color: #AAA;\n",
              "      --disabled-bg-color: #DDD;\n",
              "  }\n",
              "\n",
              "  [theme=dark] .colab-df-quickchart {\n",
              "      --bg-color: #3B4455;\n",
              "      --fill-color: #D2E3FC;\n",
              "      --hover-bg-color: #434B5C;\n",
              "      --hover-fill-color: #FFFFFF;\n",
              "      --disabled-bg-color: #3B4455;\n",
              "      --disabled-fill-color: #666;\n",
              "  }\n",
              "\n",
              "  .colab-df-quickchart {\n",
              "    background-color: var(--bg-color);\n",
              "    border: none;\n",
              "    border-radius: 50%;\n",
              "    cursor: pointer;\n",
              "    display: none;\n",
              "    fill: var(--fill-color);\n",
              "    height: 32px;\n",
              "    padding: 0;\n",
              "    width: 32px;\n",
              "  }\n",
              "\n",
              "  .colab-df-quickchart:hover {\n",
              "    background-color: var(--hover-bg-color);\n",
              "    box-shadow: 0 1px 2px rgba(60, 64, 67, 0.3), 0 1px 3px 1px rgba(60, 64, 67, 0.15);\n",
              "    fill: var(--button-hover-fill-color);\n",
              "  }\n",
              "\n",
              "  .colab-df-quickchart-complete:disabled,\n",
              "  .colab-df-quickchart-complete:disabled:hover {\n",
              "    background-color: var(--disabled-bg-color);\n",
              "    fill: var(--disabled-fill-color);\n",
              "    box-shadow: none;\n",
              "  }\n",
              "\n",
              "  .colab-df-spinner {\n",
              "    border: 2px solid var(--fill-color);\n",
              "    border-color: transparent;\n",
              "    border-bottom-color: var(--fill-color);\n",
              "    animation:\n",
              "      spin 1s steps(1) infinite;\n",
              "  }\n",
              "\n",
              "  @keyframes spin {\n",
              "    0% {\n",
              "      border-color: transparent;\n",
              "      border-bottom-color: var(--fill-color);\n",
              "      border-left-color: var(--fill-color);\n",
              "    }\n",
              "    20% {\n",
              "      border-color: transparent;\n",
              "      border-left-color: var(--fill-color);\n",
              "      border-top-color: var(--fill-color);\n",
              "    }\n",
              "    30% {\n",
              "      border-color: transparent;\n",
              "      border-left-color: var(--fill-color);\n",
              "      border-top-color: var(--fill-color);\n",
              "      border-right-color: var(--fill-color);\n",
              "    }\n",
              "    40% {\n",
              "      border-color: transparent;\n",
              "      border-right-color: var(--fill-color);\n",
              "      border-top-color: var(--fill-color);\n",
              "    }\n",
              "    60% {\n",
              "      border-color: transparent;\n",
              "      border-right-color: var(--fill-color);\n",
              "    }\n",
              "    80% {\n",
              "      border-color: transparent;\n",
              "      border-right-color: var(--fill-color);\n",
              "      border-bottom-color: var(--fill-color);\n",
              "    }\n",
              "    90% {\n",
              "      border-color: transparent;\n",
              "      border-bottom-color: var(--fill-color);\n",
              "    }\n",
              "  }\n",
              "</style>\n",
              "\n",
              "  <script>\n",
              "    async function quickchart(key) {\n",
              "      const quickchartButtonEl =\n",
              "        document.querySelector('#' + key + ' button');\n",
              "      quickchartButtonEl.disabled = true;  // To prevent multiple clicks.\n",
              "      quickchartButtonEl.classList.add('colab-df-spinner');\n",
              "      try {\n",
              "        const charts = await google.colab.kernel.invokeFunction(\n",
              "            'suggestCharts', [key], {});\n",
              "      } catch (error) {\n",
              "        console.error('Error during call to suggestCharts:', error);\n",
              "      }\n",
              "      quickchartButtonEl.classList.remove('colab-df-spinner');\n",
              "      quickchartButtonEl.classList.add('colab-df-quickchart-complete');\n",
              "    }\n",
              "    (() => {\n",
              "      let quickchartButtonEl =\n",
              "        document.querySelector('#df-01db7c70-91e3-4f33-afc4-33318667476d button');\n",
              "      quickchartButtonEl.style.display =\n",
              "        google.colab.kernel.accessAllowed ? 'block' : 'none';\n",
              "    })();\n",
              "  </script>\n",
              "</div>\n",
              "    </div>\n",
              "  </div>\n"
            ]
          },
          "metadata": {},
          "execution_count": 3
        }
      ]
    },
    {
      "cell_type": "code",
      "source": [
        "df.info()"
      ],
      "metadata": {
        "colab": {
          "base_uri": "https://localhost:8080/"
        },
        "id": "jYRkcj-Ld4V4",
        "outputId": "a51880d0-98a4-4d64-d19d-4b9363f8de28"
      },
      "execution_count": 4,
      "outputs": [
        {
          "output_type": "stream",
          "name": "stdout",
          "text": [
            "<class 'pandas.core.frame.DataFrame'>\n",
            "RangeIndex: 257070 entries, 0 to 257069\n",
            "Data columns (total 4 columns):\n",
            " #   Column      Non-Null Count   Dtype \n",
            "---  ------      --------------   ----- \n",
            " 0   overall     257070 non-null  object\n",
            " 1   reviewTime  257070 non-null  object\n",
            " 2   reviewText  257020 non-null  object\n",
            " 3   summary     256972 non-null  object\n",
            "dtypes: object(4)\n",
            "memory usage: 7.8+ MB\n"
          ]
        }
      ]
    },
    {
      "cell_type": "markdown",
      "source": [
        "# Text Preprocessing"
      ],
      "metadata": {
        "id": "QW7Wqapxgox7"
      }
    },
    {
      "cell_type": "code",
      "source": [
        "df[\"reviewText\"] = df[\"reviewText\"].astype(str)"
      ],
      "metadata": {
        "id": "zJEKdZLleISN"
      },
      "execution_count": 5,
      "outputs": []
    },
    {
      "cell_type": "code",
      "source": [
        "stopwords = nltk.corpus.stopwords.words('english')\n",
        "print(stopwords)"
      ],
      "metadata": {
        "colab": {
          "base_uri": "https://localhost:8080/"
        },
        "id": "u3YSR9s5eKPB",
        "outputId": "925f6349-6b0a-4d13-feea-efba40d63784"
      },
      "execution_count": 6,
      "outputs": [
        {
          "output_type": "stream",
          "name": "stdout",
          "text": [
            "['i', 'me', 'my', 'myself', 'we', 'our', 'ours', 'ourselves', 'you', \"you're\", \"you've\", \"you'll\", \"you'd\", 'your', 'yours', 'yourself', 'yourselves', 'he', 'him', 'his', 'himself', 'she', \"she's\", 'her', 'hers', 'herself', 'it', \"it's\", 'its', 'itself', 'they', 'them', 'their', 'theirs', 'themselves', 'what', 'which', 'who', 'whom', 'this', 'that', \"that'll\", 'these', 'those', 'am', 'is', 'are', 'was', 'were', 'be', 'been', 'being', 'have', 'has', 'had', 'having', 'do', 'does', 'did', 'doing', 'a', 'an', 'the', 'and', 'but', 'if', 'or', 'because', 'as', 'until', 'while', 'of', 'at', 'by', 'for', 'with', 'about', 'against', 'between', 'into', 'through', 'during', 'before', 'after', 'above', 'below', 'to', 'from', 'up', 'down', 'in', 'out', 'on', 'off', 'over', 'under', 'again', 'further', 'then', 'once', 'here', 'there', 'when', 'where', 'why', 'how', 'all', 'any', 'both', 'each', 'few', 'more', 'most', 'other', 'some', 'such', 'no', 'nor', 'not', 'only', 'own', 'same', 'so', 'than', 'too', 'very', 's', 't', 'can', 'will', 'just', 'don', \"don't\", 'should', \"should've\", 'now', 'd', 'll', 'm', 'o', 're', 've', 'y', 'ain', 'aren', \"aren't\", 'couldn', \"couldn't\", 'didn', \"didn't\", 'doesn', \"doesn't\", 'hadn', \"hadn't\", 'hasn', \"hasn't\", 'haven', \"haven't\", 'isn', \"isn't\", 'ma', 'mightn', \"mightn't\", 'mustn', \"mustn't\", 'needn', \"needn't\", 'shan', \"shan't\", 'shouldn', \"shouldn't\", 'wasn', \"wasn't\", 'weren', \"weren't\", 'won', \"won't\", 'wouldn', \"wouldn't\"]\n"
          ]
        }
      ]
    },
    {
      "cell_type": "code",
      "source": [
        "reviews_cleaned = []\n",
        "\n",
        "for i in range(len(df[\"reviewText\"])):\n",
        "  reviews_raw = df[\"reviewText\"].iloc[i]\n",
        "  reviews_edit_1 = reviews_raw.lower()\n",
        "  reviews_edit_2 = re.sub(r\"[^a-zA-Z0-9\\s\\.]\", \"\", reviews_edit_1) # Filter punctuation\n",
        "  # reviews_edit_3 = re.sub(\" \\.|\\. \", \"\", reviews_edit_2) # Get rid of fullstops that are outside of words\n",
        "  reviews_cleaned.append(reviews_edit_2.strip()) # remove unnecessary whitespace and append to list of cleaned reviews\n",
        "\n",
        "\n",
        "# vectorised code\n",
        "# reviews_edit_1 = df[\"reviewText\"].str.lower() # Convert all reviewText to lowercase\n",
        "# reviews_edit_2 = reviews_edit_1.str.replace(r\"[^a-zA-Z0-9\\s\\.]\", \"\") # Filter that punctuation g\n",
        "# reviews_cleaned = reviews_edit_2.str.strip().tolist() # Remove unnecessary whitespace"
      ],
      "metadata": {
        "id": "zpM3qnoqeLrr"
      },
      "execution_count": 7,
      "outputs": []
    },
    {
      "cell_type": "code",
      "source": [
        "# remove stopwords from the cleaned list\n",
        "filtered_reviews = [\n",
        "    ' '.join(word for word in sentence.split() if word.lower() not in stopwords)\n",
        "    for sentence in reviews_cleaned\n",
        "]"
      ],
      "metadata": {
        "id": "bS6lSTSQeNIp"
      },
      "execution_count": 8,
      "outputs": []
    },
    {
      "cell_type": "code",
      "source": [
        "# compare first record vs record with stopwords removed\n",
        "print(reviews_cleaned[0])\n",
        "print(filtered_reviews[0])"
      ],
      "metadata": {
        "colab": {
          "base_uri": "https://localhost:8080/"
        },
        "id": "w6mmfDu2eRrR",
        "outputId": "601f6a21-e7c3-4266-a999-0db9cb8afc40"
      },
      "execution_count": 9,
      "outputs": [
        {
          "output_type": "stream",
          "name": "stdout",
          "text": [
            "i could not read the entire story. the book was a complete waste of my time glad i got it as a freebie.\n",
            "could read entire story. book complete waste time glad got freebie.\n"
          ]
        }
      ]
    },
    {
      "cell_type": "code",
      "source": [
        "# observe first five filtered reviews + scores\n",
        "for i in range(5):\n",
        "  print(filtered_reviews[i])\n",
        "  print(df[\"overall\"][i])"
      ],
      "metadata": {
        "colab": {
          "base_uri": "https://localhost:8080/"
        },
        "id": "XFmDZ0zqeTEf",
        "outputId": "fbb8b292-f5c8-4d84-e8b2-c610ff1ba3bc"
      },
      "execution_count": 10,
      "outputs": [
        {
          "output_type": "stream",
          "name": "stdout",
          "text": [
            "could read entire story. book complete waste time glad got freebie.\n",
            "Negative\n",
            "sweet read.....i recommend looking something simple uncomplicated.\n",
            "Neutral\n",
            "greetings australia. brilliant story. knew could maintain interest tension conversation waitress old man. stephen king better job writing interesting prose seemingly mundane. highly recommended.\n",
            "Positive\n",
            "first book author really like her. follow writings. like dynamics work. characters easy understand follow. must read .\n",
            "Positive\n",
            "dark city quite dark novel chilling intricate kind read through. even havent read previous novels series case stand alone piece. starts somewhat familiar scenario private detective drinks smokes capable outwitting local police enforcement. yet typical really. even protagonist seems familiar rest characters quite different youd expect theyre interesting follow. plot interesting emotional twists turns bring feeling uneasiness alertness one loves getting good thriller. london atmosphere quite attractive well. enjoyed authors sense humor darkish strong. would recommend novel specially readers like dark plots noir settings. im looking forward next book series.\n",
            "Positive\n"
          ]
        }
      ]
    },
    {
      "cell_type": "markdown",
      "source": [
        "## Train-test split"
      ],
      "metadata": {
        "id": "fpJLfV8QeVIN"
      }
    },
    {
      "cell_type": "code",
      "source": [
        "labels = list(df[\"overall\"])\n",
        "\n",
        "# Shuffle the data.\n",
        "\n",
        "filtered_reviews, labels = zip(*random.sample(list(zip(filtered_reviews,labels)), len(filtered_reviews)))\n",
        "filtered_reviews = list(filtered_reviews)\n",
        "labels = list(labels)\n",
        "\n",
        "# Train-test split (66:33)\n",
        "\n",
        "trainsize = int(len(filtered_reviews)*0.66)\n",
        "\n",
        "train_reviews, train_labels = filtered_reviews[:trainsize], labels[:trainsize]\n",
        "test_reviews, test_labels = filtered_reviews[trainsize:], labels[trainsize:]"
      ],
      "metadata": {
        "id": "wbVj6d4GeVnR"
      },
      "execution_count": 11,
      "outputs": []
    },
    {
      "cell_type": "code",
      "source": [
        "# Check distribution reviews in the training set\n",
        "\n",
        "print(\"TRAINING SET\")\n",
        "print(\"Number of reviews to use for training is: {}.\".format(len(train_labels)))\n",
        "print(\"Number of positive reviews is: {} (or {:.1f}%).\".format(sum(np.array(train_labels)=='Positive'),100*sum(np.array(train_labels)=='Positive')/len(train_labels)))\n",
        "print(\"Number of neutral reviews is: {} (or {:.1f}%).\".format(sum(np.array(train_labels)=='Neutral'),100*sum(np.array(train_labels)=='Neutral')/len(train_labels)))\n",
        "print(\"Number of 3-negative reviews is: {} (or {:.1f}%).\".format(sum(np.array(train_labels)=='Negative'),100*sum(np.array(train_labels)=='Negative')/len(train_labels)))"
      ],
      "metadata": {
        "colab": {
          "base_uri": "https://localhost:8080/"
        },
        "id": "HpgrNwFueY7R",
        "outputId": "6e68a6e0-8290-4322-811d-5c534f6532f3"
      },
      "execution_count": 12,
      "outputs": [
        {
          "output_type": "stream",
          "name": "stdout",
          "text": [
            "TRAINING SET\n",
            "Number of reviews to use for training is: 169666.\n",
            "Number of positive reviews is: 56504 (or 33.3%).\n",
            "Number of neutral reviews is: 56682 (or 33.4%).\n",
            "Number of 3-negative reviews is: 56480 (or 33.3%).\n"
          ]
        }
      ]
    },
    {
      "cell_type": "markdown",
      "source": [
        "## Tokenisation"
      ],
      "metadata": {
        "id": "dyJOmexgesX5"
      }
    },
    {
      "cell_type": "markdown",
      "source": [
        "The word tokenizer provided by the Keras package will be able to deal with full stops for us, e.g. \"missing.\" and \"missing\" will be treated as the same token.\n",
        "\n",
        "Now for the tokenisation. In particular, we must conduct this separately on the training and test sets. The reason for this is due to so-called \"data leakage\": we do not want to introduce any elements of the testing data to the network before or during training. These two sets should be kept as separate as possible."
      ],
      "metadata": {
        "id": "Lg3p2sGKetzf"
      }
    },
    {
      "cell_type": "code",
      "source": [
        "# max size of our vectorised corpus\n",
        "vocab_size = 20000\n",
        "\n",
        "# maximum allowed length for each vectorised sentence into our neural network\n",
        "max_length = 50\n",
        "\n",
        "# Tokenization\n",
        "# OOV token deals with words that our tokenizer has not seen before (e.g. in the test set)\n",
        "tokenizer = Tokenizer(num_words = vocab_size, oov_token=\"<OOV>\")\n",
        "tokenizer.fit_on_texts(train_reviews)\n",
        "word_index = tokenizer.word_index\n",
        "\n",
        "# print out our dictionary of vectors\n",
        "# print(word_index)\n",
        "\n",
        "\n",
        "train_sequences = tokenizer.texts_to_sequences(train_reviews)\n",
        "test_sequences = tokenizer.texts_to_sequences(test_reviews)\n",
        "\n",
        "# padding sequences to standardise the input size of each row of data for our NN\n",
        "train_padded = pad_sequences(train_sequences, maxlen=max_length)\n",
        "test_padded = pad_sequences(test_sequences, maxlen=max_length)"
      ],
      "metadata": {
        "id": "XgtKmS4ieuJt"
      },
      "execution_count": 13,
      "outputs": []
    },
    {
      "cell_type": "code",
      "source": [
        "type(train_labels[0])"
      ],
      "metadata": {
        "colab": {
          "base_uri": "https://localhost:8080/"
        },
        "id": "h3lwPHAKgqMw",
        "outputId": "226dbeae-1dbf-4917-93bb-d07474903621"
      },
      "execution_count": 21,
      "outputs": [
        {
          "output_type": "execute_result",
          "data": {
            "text/plain": [
              "str"
            ]
          },
          "metadata": {},
          "execution_count": 21
        }
      ]
    },
    {
      "cell_type": "code",
      "source": [
        "# convert sentiment classes to numbers\n",
        "\n",
        "sentiment_to_number = {'Positive':2, 'Neutral':1, 'Negative':0}\n",
        "\n",
        "train_labels = [sentiment_to_number.get(item, item) for item in train_labels]\n",
        "test_labels = [sentiment_to_number.get(item, item) for item in test_labels]"
      ],
      "metadata": {
        "id": "8tL_YurufFxs"
      },
      "execution_count": 23,
      "outputs": []
    },
    {
      "cell_type": "code",
      "source": [
        "# print(test_labels)"
      ],
      "metadata": {
        "id": "C7rA1LndhJlk"
      },
      "execution_count": 25,
      "outputs": []
    },
    {
      "cell_type": "markdown",
      "source": [
        "# Model Building and Evaluation: 5-class setup"
      ],
      "metadata": {
        "id": "K8J0AsHPf7up"
      }
    },
    {
      "cell_type": "markdown",
      "source": [
        "We now experiment with a variety of neural network architectures, with the aim of maximising the accuracy of our model on the *testing set*."
      ],
      "metadata": {
        "id": "f6pcB8EFgAb1"
      }
    },
    {
      "cell_type": "code",
      "source": [
        "# function to plot and analyse the learning of each neural network\n",
        "def learning_curve(history):\n",
        "    plt.figure(figsize=(10,12))\n",
        "\n",
        "    # Loss subplot.\n",
        "    plt.subplot(2,1,1)\n",
        "    plt.plot(history.history['loss'], label='Training loss')\n",
        "    plt.plot(history.history['val_loss'], label='Testing loss')\n",
        "    plt.title('Learning Curve')\n",
        "    plt.xlabel('Epoch')\n",
        "    plt.ylabel('Loss')\n",
        "    plt.legend()\n",
        "\n",
        "    # Accuracy subplot.\n",
        "    plt.subplot(2,1,2)\n",
        "    plt.plot(history.history['accuracy'], label='Training accuracy')\n",
        "    plt.plot(history.history['val_accuracy'], label='Validation accuracy')\n",
        "    plt.title('Learning Curve')\n",
        "    plt.xlabel('Epoch')\n",
        "    plt.ylabel('Accuracy')\n",
        "    plt.legend()\n",
        "\n",
        "    plt.show()"
      ],
      "metadata": {
        "id": "tQDI8Gwsf9Rr"
      },
      "execution_count": 15,
      "outputs": []
    },
    {
      "cell_type": "code",
      "source": [
        "# more model parameters\n",
        "embedding_dim = 16\n",
        "num_epochs = 15\n",
        "batch_size = 1000"
      ],
      "metadata": {
        "id": "iKWrAI9TgFLk"
      },
      "execution_count": 16,
      "outputs": []
    },
    {
      "cell_type": "markdown",
      "source": [
        "### Experimenting with model architectures\n",
        "---"
      ],
      "metadata": {
        "id": "kFuag1oJgI-r"
      }
    },
    {
      "cell_type": "code",
      "source": [
        "model0 = tf.keras.Sequential([\n",
        "    tf.keras.layers.Embedding(vocab_size, embedding_dim, input_length=max_length),\n",
        "    tf.keras.layers.GlobalAveragePooling1D(),\n",
        "    tf.keras.layers.Dense(3, activation='softmax')\n",
        "])\n",
        "model0.compile(loss='categorical_crossentropy',optimizer='adam',metrics=['accuracy'])"
      ],
      "metadata": {
        "id": "exmwlHmYgJT3"
      },
      "execution_count": 17,
      "outputs": []
    },
    {
      "cell_type": "code",
      "source": [
        "model0.summary()"
      ],
      "metadata": {
        "colab": {
          "base_uri": "https://localhost:8080/"
        },
        "id": "VXITDnMIgNS-",
        "outputId": "0700f385-8939-4f51-b9e0-068320cd0c21"
      },
      "execution_count": 18,
      "outputs": [
        {
          "output_type": "stream",
          "name": "stdout",
          "text": [
            "Model: \"sequential\"\n",
            "_________________________________________________________________\n",
            " Layer (type)                Output Shape              Param #   \n",
            "=================================================================\n",
            " embedding (Embedding)       (None, 50, 16)            320000    \n",
            "                                                                 \n",
            " global_average_pooling1d (  (None, 16)                0         \n",
            " GlobalAveragePooling1D)                                         \n",
            "                                                                 \n",
            " dense (Dense)               (None, 3)                 51        \n",
            "                                                                 \n",
            "=================================================================\n",
            "Total params: 320051 (1.22 MB)\n",
            "Trainable params: 320051 (1.22 MB)\n",
            "Non-trainable params: 0 (0.00 Byte)\n",
            "_________________________________________________________________\n"
          ]
        }
      ]
    },
    {
      "cell_type": "code",
      "source": [
        "history0 = model0.fit(train_padded, tf.one_hot(train_labels,3), batch_size=batch_size, epochs=num_epochs, validation_data=(test_padded, tf.one_hot(test_labels,3)), verbose=2)"
      ],
      "metadata": {
        "colab": {
          "base_uri": "https://localhost:8080/"
        },
        "id": "LQrEs5HJgR6a",
        "outputId": "3e6e30f9-40d0-490d-e5bf-0f1de7597101"
      },
      "execution_count": 26,
      "outputs": [
        {
          "output_type": "stream",
          "name": "stdout",
          "text": [
            "Epoch 1/15\n",
            "170/170 - 3s - loss: 1.0760 - accuracy: 0.5104 - val_loss: 1.0399 - val_accuracy: 0.5725 - 3s/epoch - 18ms/step\n",
            "Epoch 2/15\n",
            "170/170 - 2s - loss: 0.9844 - accuracy: 0.6300 - val_loss: 0.9296 - val_accuracy: 0.6596 - 2s/epoch - 12ms/step\n",
            "Epoch 3/15\n",
            "170/170 - 2s - loss: 0.8784 - accuracy: 0.6677 - val_loss: 0.8413 - val_accuracy: 0.6646 - 2s/epoch - 12ms/step\n",
            "Epoch 4/15\n",
            "170/170 - 3s - loss: 0.8044 - accuracy: 0.6818 - val_loss: 0.7869 - val_accuracy: 0.6803 - 3s/epoch - 19ms/step\n",
            "Epoch 5/15\n",
            "170/170 - 2s - loss: 0.7578 - accuracy: 0.6933 - val_loss: 0.7541 - val_accuracy: 0.6884 - 2s/epoch - 12ms/step\n",
            "Epoch 6/15\n",
            "170/170 - 3s - loss: 0.7273 - accuracy: 0.7011 - val_loss: 0.7336 - val_accuracy: 0.6929 - 3s/epoch - 18ms/step\n",
            "Epoch 7/15\n",
            "170/170 - 3s - loss: 0.7063 - accuracy: 0.7075 - val_loss: 0.7201 - val_accuracy: 0.6946 - 3s/epoch - 18ms/step\n",
            "Epoch 8/15\n",
            "170/170 - 2s - loss: 0.6907 - accuracy: 0.7126 - val_loss: 0.7108 - val_accuracy: 0.6979 - 2s/epoch - 12ms/step\n",
            "Epoch 9/15\n",
            "170/170 - 3s - loss: 0.6786 - accuracy: 0.7176 - val_loss: 0.7045 - val_accuracy: 0.7000 - 3s/epoch - 20ms/step\n",
            "Epoch 10/15\n",
            "170/170 - 2s - loss: 0.6689 - accuracy: 0.7205 - val_loss: 0.7003 - val_accuracy: 0.7017 - 2s/epoch - 12ms/step\n",
            "Epoch 11/15\n",
            "170/170 - 2s - loss: 0.6608 - accuracy: 0.7236 - val_loss: 0.6972 - val_accuracy: 0.7025 - 2s/epoch - 12ms/step\n",
            "Epoch 12/15\n",
            "170/170 - 2s - loss: 0.6538 - accuracy: 0.7258 - val_loss: 0.6950 - val_accuracy: 0.7034 - 2s/epoch - 13ms/step\n",
            "Epoch 13/15\n",
            "170/170 - 2s - loss: 0.6478 - accuracy: 0.7282 - val_loss: 0.6938 - val_accuracy: 0.7038 - 2s/epoch - 12ms/step\n",
            "Epoch 14/15\n",
            "170/170 - 2s - loss: 0.6424 - accuracy: 0.7305 - val_loss: 0.6932 - val_accuracy: 0.7032 - 2s/epoch - 14ms/step\n",
            "Epoch 15/15\n",
            "170/170 - 3s - loss: 0.6375 - accuracy: 0.7330 - val_loss: 0.6928 - val_accuracy: 0.7044 - 3s/epoch - 17ms/step\n"
          ]
        }
      ]
    },
    {
      "cell_type": "code",
      "source": [
        "learning_curve(history0)"
      ],
      "metadata": {
        "colab": {
          "base_uri": "https://localhost:8080/",
          "height": 1000
        },
        "id": "rhUOWFX1ghLp",
        "outputId": "a30983b7-7421-4a6b-e18d-37364856c493"
      },
      "execution_count": 27,
      "outputs": [
        {
          "output_type": "display_data",
          "data": {
            "text/plain": [
              "<Figure size 1000x1200 with 2 Axes>"
            ],
            "image/png": "[encoded data removed]"
          },
          "metadata": {}
        }
      ]
    },
    {
      "cell_type": "code",
      "source": [
        "model1 = tf.keras.Sequential([\n",
        "    tf.keras.layers.Embedding(vocab_size, embedding_dim, input_length=max_length),\n",
        "    tf.keras.layers.Bidirectional(tf.keras.layers.LSTM(8)),\n",
        "    tf.keras.layers.Dense(8, activation='relu'),\n",
        "    tf.keras.layers.Dense(3, activation='softmax')\n",
        "])\n",
        "model1.compile(loss='categorical_crossentropy',optimizer='adam',metrics=['accuracy'])"
      ],
      "metadata": {
        "id": "UaTIUMIJhaaU"
      },
      "execution_count": 38,
      "outputs": []
    },
    {
      "cell_type": "code",
      "source": [
        "model1.summary()"
      ],
      "metadata": {
        "colab": {
          "base_uri": "https://localhost:8080/"
        },
        "id": "QIXfSKdSiIkP",
        "outputId": "affe745a-92a9-4a08-b9fa-f3db828b590b"
      },
      "execution_count": 39,
      "outputs": [
        {
          "output_type": "stream",
          "name": "stdout",
          "text": [
            "Model: \"sequential_5\"\n",
            "_________________________________________________________________\n",
            " Layer (type)                Output Shape              Param #   \n",
            "=================================================================\n",
            " embedding_5 (Embedding)     (None, 50, 16)            320000    \n",
            "                                                                 \n",
            " bidirectional_4 (Bidirecti  (None, 16)                1600      \n",
            " onal)                                                           \n",
            "                                                                 \n",
            " dense_9 (Dense)             (None, 8)                 136       \n",
            "                                                                 \n",
            " dense_10 (Dense)            (None, 3)                 27        \n",
            "                                                                 \n",
            "=================================================================\n",
            "Total params: 321763 (1.23 MB)\n",
            "Trainable params: 321763 (1.23 MB)\n",
            "Non-trainable params: 0 (0.00 Byte)\n",
            "_________________________________________________________________\n"
          ]
        }
      ]
    },
    {
      "cell_type": "code",
      "source": [
        "history1 = model1.fit(train_padded, tf.one_hot(train_labels,3), batch_size=batch_size, epochs=num_epochs, validation_data=(test_padded, tf.one_hot(test_labels,3)), verbose=2)"
      ],
      "metadata": {
        "colab": {
          "base_uri": "https://localhost:8080/"
        },
        "id": "wAomIN_TiM1k",
        "outputId": "83a20c3b-7cd3-4c02-8f0d-a8d1d9ed3eb9"
      },
      "execution_count": 40,
      "outputs": [
        {
          "output_type": "stream",
          "name": "stdout",
          "text": [
            "Epoch 1/15\n",
            "170/170 - 26s - loss: 0.9608 - accuracy: 0.4593 - val_loss: 0.8177 - val_accuracy: 0.6285 - 26s/epoch - 154ms/step\n",
            "Epoch 2/15\n",
            "170/170 - 20s - loss: 0.7358 - accuracy: 0.6736 - val_loss: 0.7023 - val_accuracy: 0.6894 - 20s/epoch - 120ms/step\n",
            "Epoch 3/15\n",
            "170/170 - 20s - loss: 0.6507 - accuracy: 0.7209 - val_loss: 0.6843 - val_accuracy: 0.7001 - 20s/epoch - 116ms/step\n",
            "Epoch 4/15\n",
            "170/170 - 20s - loss: 0.6169 - accuracy: 0.7402 - val_loss: 0.6873 - val_accuracy: 0.6995 - 20s/epoch - 115ms/step\n",
            "Epoch 5/15\n",
            "170/170 - 17s - loss: 0.5963 - accuracy: 0.7511 - val_loss: 0.6945 - val_accuracy: 0.6972 - 17s/epoch - 102ms/step\n",
            "Epoch 6/15\n",
            "170/170 - 17s - loss: 0.5799 - accuracy: 0.7596 - val_loss: 0.7032 - val_accuracy: 0.6924 - 17s/epoch - 101ms/step\n",
            "Epoch 7/15\n",
            "170/170 - 20s - loss: 0.5675 - accuracy: 0.7663 - val_loss: 0.7184 - val_accuracy: 0.6934 - 20s/epoch - 117ms/step\n",
            "Epoch 8/15\n",
            "170/170 - 18s - loss: 0.5541 - accuracy: 0.7728 - val_loss: 0.7255 - val_accuracy: 0.6812 - 18s/epoch - 104ms/step\n",
            "Epoch 9/15\n",
            "170/170 - 17s - loss: 0.5408 - accuracy: 0.7805 - val_loss: 0.7351 - val_accuracy: 0.6876 - 17s/epoch - 102ms/step\n",
            "Epoch 10/15\n",
            "170/170 - 19s - loss: 0.5260 - accuracy: 0.7880 - val_loss: 0.7554 - val_accuracy: 0.6863 - 19s/epoch - 114ms/step\n",
            "Epoch 11/15\n",
            "170/170 - 16s - loss: 0.5147 - accuracy: 0.7942 - val_loss: 0.7654 - val_accuracy: 0.6812 - 16s/epoch - 96ms/step\n",
            "Epoch 12/15\n",
            "170/170 - 17s - loss: 0.5018 - accuracy: 0.8009 - val_loss: 0.7721 - val_accuracy: 0.6809 - 17s/epoch - 97ms/step\n",
            "Epoch 13/15\n",
            "170/170 - 19s - loss: 0.4881 - accuracy: 0.8080 - val_loss: 0.7953 - val_accuracy: 0.6743 - 19s/epoch - 111ms/step\n",
            "Epoch 14/15\n",
            "170/170 - 17s - loss: 0.4766 - accuracy: 0.8138 - val_loss: 0.8138 - val_accuracy: 0.6765 - 17s/epoch - 97ms/step\n",
            "Epoch 15/15\n",
            "170/170 - 20s - loss: 0.4643 - accuracy: 0.8199 - val_loss: 0.8340 - val_accuracy: 0.6689 - 20s/epoch - 115ms/step\n"
          ]
        }
      ]
    },
    {
      "cell_type": "code",
      "source": [
        "learning_curve(history1)"
      ],
      "metadata": {
        "colab": {
          "base_uri": "https://localhost:8080/",
          "height": 1000
        },
        "id": "bZBIvliCiqPs",
        "outputId": "0c87cf04-2145-4e62-ef8e-1160c7ec7b18"
      },
      "execution_count": 41,
      "outputs": [
        {
          "output_type": "display_data",
          "data": {
            "text/plain": [
              "<Figure size 1000x1200 with 2 Axes>"
            ],
            "image/png": "[encoded data removed]"
          },
          "metadata": {}
        }
      ]
    },
    {
      "cell_type": "code",
      "source": [],
      "metadata": {
        "id": "jquAloRrlQMA"
      },
      "execution_count": null,
      "outputs": []
    }
  ]
}