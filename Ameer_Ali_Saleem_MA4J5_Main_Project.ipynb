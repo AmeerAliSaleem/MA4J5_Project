{
  "nbformat": 4,
  "nbformat_minor": 0,
  "metadata": {
    "colab": {
      "provenance": [],
      "toc_visible": true,
      "authorship_tag": "ABX9TyN4GyvfCxIys5R4VfaXpyvV",
      "include_colab_link": true
    },
    "kernelspec": {
      "name": "python3",
      "display_name": "Python 3"
    },
    "language_info": {
      "name": "python"
    }
  },
  "cells": [
    {
      "cell_type": "markdown",
      "metadata": {
        "id": "view-in-github",
        "colab_type": "text"
      },
      "source": [
        "<a href=\"https://colab.research.google.com/github/AmeerAliSaleem/MA4J5_Project/blob/main/Ameer_Ali_Saleem_MA4J5_Main_Project.ipynb\" target=\"_parent\"><img src=\"https://colab.research.google.com/assets/colab-badge.svg\" alt=\"Open In Colab\"/></a>"
      ]
    },
    {
      "cell_type": "markdown",
      "source": [
        "# MA4J5 Project: Investigating the Utility of Natural Language Processing for Sentiment Analysis\n",
        "---\n",
        "### Ameer Ali Saleem\n",
        "\n",
        "A Python notebook containing the Python code to support my MA4J5 report. Please note that this notebook has been written in Google Colab: this allows for the use of the TensorFlow package without requiring a direct installation (which would take roughly 1.1GB of storage)."
      ],
      "metadata": {
        "id": "bBUf5XqO5Rnx"
      }
    },
    {
      "cell_type": "code",
      "execution_count": 1,
      "metadata": {
        "colab": {
          "base_uri": "https://localhost:8080/"
        },
        "id": "csIK_sMl5NzY",
        "outputId": "651115fb-60db-4755-a5c1-7bfec1078eaa"
      },
      "outputs": [
        {
          "output_type": "stream",
          "name": "stderr",
          "text": [
            "[nltk_data] Downloading package stopwords to /root/nltk_data...\n",
            "[nltk_data]   Unzipping corpora/stopwords.zip.\n"
          ]
        },
        {
          "output_type": "execute_result",
          "data": {
            "text/plain": [
              "True"
            ]
          },
          "metadata": {},
          "execution_count": 1
        }
      ],
      "source": [
        "# imports\n",
        "import pandas as pd\n",
        "import numpy as np\n",
        "import matplotlib.pyplot as plt\n",
        "import random\n",
        "import tensorflow as tf\n",
        "from tensorflow.keras.preprocessing.text import Tokenizer\n",
        "from tensorflow.keras.preprocessing.sequence import pad_sequences\n",
        "import regex as re\n",
        "import nltk\n",
        "nltk.download('stopwords')"
      ]
    },
    {
      "cell_type": "markdown",
      "source": [],
      "metadata": {
        "id": "ITTbQYvm5g1b"
      }
    },
    {
      "cell_type": "markdown",
      "source": [
        "# Data Imports and Cleaning"
      ],
      "metadata": {
        "id": "Fcp1qcOT5jPn"
      }
    },
    {
      "cell_type": "code",
      "source": [],
      "metadata": {
        "id": "8Wmm7ydP5m2_"
      },
      "execution_count": null,
      "outputs": []
    },
    {
      "cell_type": "markdown",
      "source": [
        "# Model Building and Evaluation"
      ],
      "metadata": {
        "id": "n8l1ukCN5pH7"
      }
    },
    {
      "cell_type": "code",
      "source": [],
      "metadata": {
        "id": "81KhCtd25uSg"
      },
      "execution_count": null,
      "outputs": []
    },
    {
      "cell_type": "markdown",
      "source": [
        "# Model Applicaton"
      ],
      "metadata": {
        "id": "jFJAf57w5vIr"
      }
    },
    {
      "cell_type": "code",
      "source": [],
      "metadata": {
        "id": "TyWjKHp15xI3"
      },
      "execution_count": null,
      "outputs": []
    }
  ]
}