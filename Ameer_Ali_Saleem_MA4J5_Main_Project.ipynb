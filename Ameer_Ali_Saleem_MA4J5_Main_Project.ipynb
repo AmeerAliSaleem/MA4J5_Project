{
  "nbformat": 4,
  "nbformat_minor": 0,
  "metadata": {
    "colab": {
      "provenance": [],
      "collapsed_sections": [
        "jFJAf57w5vIr",
        "1PZA70ZE7G9L"
      ],
      "authorship_tag": "ABX9TyMopxhKAyuH1OdcWsQvjcJs",
      "include_colab_link": true
    },
    "kernelspec": {
      "name": "python3",
      "display_name": "Python 3"
    },
    "language_info": {
      "name": "python"
    }
  },
  "cells": [
    {
      "cell_type": "markdown",
      "metadata": {
        "id": "view-in-github",
        "colab_type": "text"
      },
      "source": [
        "<a href=\"https://colab.research.google.com/github/AmeerAliSaleem/MA4J5_Project/blob/main/Ameer_Ali_Saleem_MA4J5_Main_Project.ipynb\" target=\"_parent\"><img src=\"https://colab.research.google.com/assets/colab-badge.svg\" alt=\"Open In Colab\"/></a>"
      ]
    },
    {
      "cell_type": "markdown",
      "source": [
        "# MA4J5 Project: Predicting Amazon Review Scores with neural networks\n",
        "---\n",
        "### Ameer Ali Saleem\n",
        "\n",
        "A Python notebook containing the Python code to support my MA4J5 report. Please note that this notebook has been written in Google Colab: this allows for the use of the TensorFlow package without requiring a direct installation (which would take roughly 1.1GB of storage). If you do not have TensorFlow installed, please click on the \"Open in Colab\" link at the top of the notebook."
      ],
      "metadata": {
        "id": "bBUf5XqO5Rnx"
      }
    },
    {
      "cell_type": "markdown",
      "source": [
        "# Imports and checks"
      ],
      "metadata": {
        "id": "Fcp1qcOT5jPn"
      }
    },
    {
      "cell_type": "code",
      "execution_count": 1,
      "metadata": {
        "colab": {
          "base_uri": "https://localhost:8080/"
        },
        "id": "csIK_sMl5NzY",
        "outputId": "192e8673-fb2e-45a1-c28b-9c04e85eb06b"
      },
      "outputs": [
        {
          "output_type": "stream",
          "name": "stderr",
          "text": [
            "[nltk_data] Downloading package stopwords to /root/nltk_data...\n",
            "[nltk_data]   Unzipping corpora/stopwords.zip.\n"
          ]
        },
        {
          "output_type": "execute_result",
          "data": {
            "text/plain": [
              "True"
            ]
          },
          "metadata": {},
          "execution_count": 1
        }
      ],
      "source": [
        "# imports\n",
        "import pandas as pd\n",
        "import numpy as np\n",
        "import matplotlib.pyplot as plt\n",
        "import random\n",
        "import tensorflow as tf\n",
        "from tensorflow import keras\n",
        "from tensorflow.keras.preprocessing.text import Tokenizer\n",
        "from tensorflow.keras.preprocessing.sequence import pad_sequences\n",
        "import regex as re\n",
        "import nltk\n",
        "nltk.download('stopwords')"
      ]
    },
    {
      "cell_type": "markdown",
      "source": [
        "Our goal is to build a neural network to predict the rating (out of 5 stars) of an input Amazon Kindle review. The data used in this project can be found at <a href=\"https://nijianmo.github.io/amazon/index.html\">this link</a>. In this notebook, we use the undersampled dataset, which should help alleviate the issue of class imbalance."
      ],
      "metadata": {
        "id": "ITTbQYvm5g1b"
      }
    },
    {
      "cell_type": "code",
      "source": [
        "df = pd.read_csv(\"kindle_balanced.csv\")"
      ],
      "metadata": {
        "id": "8Wmm7ydP5m2_"
      },
      "execution_count": 2,
      "outputs": []
    },
    {
      "cell_type": "code",
      "source": [
        "df.head()"
      ],
      "metadata": {
        "colab": {
          "base_uri": "https://localhost:8080/",
          "height": 206
        },
        "id": "8JeF41-gb8U4",
        "outputId": "d2479104-62dc-4b7d-f71d-5d7b42d2dd08"
      },
      "execution_count": 3,
      "outputs": [
        {
          "output_type": "execute_result",
          "data": {
            "text/plain": [
              "   Unnamed: 0  overall   reviewTime  \\\n",
              "0           0      4.0  08 19, 2014   \n",
              "1           1      4.0  08 23, 2014   \n",
              "2           2      3.0  07 24, 2013   \n",
              "3           3      5.0  02 23, 2014   \n",
              "4           4      4.0  11 24, 2013   \n",
              "\n",
              "                                          reviewText  \\\n",
              "0  Very helpful on healing plants, could read it ...   \n",
              "1                                          Good read   \n",
              "2  Some of the chapters in this book were very us...   \n",
              "3  L.O.V.E.D!!!!!!  I absolutely love this erotic...   \n",
              "4  I am not sure why I got sucked in to this from...   \n",
              "\n",
              "                                             summary  \n",
              "0  Good reference book for anyone wanting to know...  \n",
              "1                                         Four Stars  \n",
              "2                        Some good, some not so.....  \n",
              "3                                          L.O.V.E.D  \n",
              "4                                  very good start..  "
            ],
            "text/html": [
              "\n",
              "  <div id=\"df-f5bd2f3f-f629-4eed-968c-593caba1e48d\" class=\"colab-df-container\">\n",
              "    <div>\n",
              "<style scoped>\n",
              "    .dataframe tbody tr th:only-of-type {\n",
              "        vertical-align: middle;\n",
              "    }\n",
              "\n",
              "    .dataframe tbody tr th {\n",
              "        vertical-align: top;\n",
              "    }\n",
              "\n",
              "    .dataframe thead th {\n",
              "        text-align: right;\n",
              "    }\n",
              "</style>\n",
              "<table border=\"1\" class=\"dataframe\">\n",
              "  <thead>\n",
              "    <tr style=\"text-align: right;\">\n",
              "      <th></th>\n",
              "      <th>Unnamed: 0</th>\n",
              "      <th>overall</th>\n",
              "      <th>reviewTime</th>\n",
              "      <th>reviewText</th>\n",
              "      <th>summary</th>\n",
              "    </tr>\n",
              "  </thead>\n",
              "  <tbody>\n",
              "    <tr>\n",
              "      <th>0</th>\n",
              "      <td>0</td>\n",
              "      <td>4.0</td>\n",
              "      <td>08 19, 2014</td>\n",
              "      <td>Very helpful on healing plants, could read it ...</td>\n",
              "      <td>Good reference book for anyone wanting to know...</td>\n",
              "    </tr>\n",
              "    <tr>\n",
              "      <th>1</th>\n",
              "      <td>1</td>\n",
              "      <td>4.0</td>\n",
              "      <td>08 23, 2014</td>\n",
              "      <td>Good read</td>\n",
              "      <td>Four Stars</td>\n",
              "    </tr>\n",
              "    <tr>\n",
              "      <th>2</th>\n",
              "      <td>2</td>\n",
              "      <td>3.0</td>\n",
              "      <td>07 24, 2013</td>\n",
              "      <td>Some of the chapters in this book were very us...</td>\n",
              "      <td>Some good, some not so.....</td>\n",
              "    </tr>\n",
              "    <tr>\n",
              "      <th>3</th>\n",
              "      <td>3</td>\n",
              "      <td>5.0</td>\n",
              "      <td>02 23, 2014</td>\n",
              "      <td>L.O.V.E.D!!!!!!  I absolutely love this erotic...</td>\n",
              "      <td>L.O.V.E.D</td>\n",
              "    </tr>\n",
              "    <tr>\n",
              "      <th>4</th>\n",
              "      <td>4</td>\n",
              "      <td>4.0</td>\n",
              "      <td>11 24, 2013</td>\n",
              "      <td>I am not sure why I got sucked in to this from...</td>\n",
              "      <td>very good start..</td>\n",
              "    </tr>\n",
              "  </tbody>\n",
              "</table>\n",
              "</div>\n",
              "    <div class=\"colab-df-buttons\">\n",
              "\n",
              "  <div class=\"colab-df-container\">\n",
              "    <button class=\"colab-df-convert\" onclick=\"convertToInteractive('df-f5bd2f3f-f629-4eed-968c-593caba1e48d')\"\n",
              "            title=\"Convert this dataframe to an interactive table.\"\n",
              "            style=\"display:none;\">\n",
              "\n",
              "  <svg xmlns=\"http://www.w3.org/2000/svg\" height=\"24px\" viewBox=\"0 -960 960 960\">\n",
              "    <path d=\"M120-120v-720h720v720H120Zm60-500h600v-160H180v160Zm220 220h160v-160H400v160Zm0 220h160v-160H400v160ZM180-400h160v-160H180v160Zm440 0h160v-160H620v160ZM180-180h160v-160H180v160Zm440 0h160v-160H620v160Z\"/>\n",
              "  </svg>\n",
              "    </button>\n",
              "\n",
              "  <style>\n",
              "    .colab-df-container {\n",
              "      display:flex;\n",
              "      gap: 12px;\n",
              "    }\n",
              "\n",
              "    .colab-df-convert {\n",
              "      background-color: #E8F0FE;\n",
              "      border: none;\n",
              "      border-radius: 50%;\n",
              "      cursor: pointer;\n",
              "      display: none;\n",
              "      fill: #1967D2;\n",
              "      height: 32px;\n",
              "      padding: 0 0 0 0;\n",
              "      width: 32px;\n",
              "    }\n",
              "\n",
              "    .colab-df-convert:hover {\n",
              "      background-color: #E2EBFA;\n",
              "      box-shadow: 0px 1px 2px rgba(60, 64, 67, 0.3), 0px 1px 3px 1px rgba(60, 64, 67, 0.15);\n",
              "      fill: #174EA6;\n",
              "    }\n",
              "\n",
              "    .colab-df-buttons div {\n",
              "      margin-bottom: 4px;\n",
              "    }\n",
              "\n",
              "    [theme=dark] .colab-df-convert {\n",
              "      background-color: #3B4455;\n",
              "      fill: #D2E3FC;\n",
              "    }\n",
              "\n",
              "    [theme=dark] .colab-df-convert:hover {\n",
              "      background-color: #434B5C;\n",
              "      box-shadow: 0px 1px 3px 1px rgba(0, 0, 0, 0.15);\n",
              "      filter: drop-shadow(0px 1px 2px rgba(0, 0, 0, 0.3));\n",
              "      fill: #FFFFFF;\n",
              "    }\n",
              "  </style>\n",
              "\n",
              "    <script>\n",
              "      const buttonEl =\n",
              "        document.querySelector('#df-f5bd2f3f-f629-4eed-968c-593caba1e48d button.colab-df-convert');\n",
              "      buttonEl.style.display =\n",
              "        google.colab.kernel.accessAllowed ? 'block' : 'none';\n",
              "\n",
              "      async function convertToInteractive(key) {\n",
              "        const element = document.querySelector('#df-f5bd2f3f-f629-4eed-968c-593caba1e48d');\n",
              "        const dataTable =\n",
              "          await google.colab.kernel.invokeFunction('convertToInteractive',\n",
              "                                                    [key], {});\n",
              "        if (!dataTable) return;\n",
              "\n",
              "        const docLinkHtml = 'Like what you see? Visit the ' +\n",
              "          '<a target=\"_blank\" href=https://colab.research.google.com/notebooks/data_table.ipynb>data table notebook</a>'\n",
              "          + ' to learn more about interactive tables.';\n",
              "        element.innerHTML = '';\n",
              "        dataTable['output_type'] = 'display_data';\n",
              "        await google.colab.output.renderOutput(dataTable, element);\n",
              "        const docLink = document.createElement('div');\n",
              "        docLink.innerHTML = docLinkHtml;\n",
              "        element.appendChild(docLink);\n",
              "      }\n",
              "    </script>\n",
              "  </div>\n",
              "\n",
              "\n",
              "<div id=\"df-5c07e498-86c7-4be4-b818-3cc325ae3886\">\n",
              "  <button class=\"colab-df-quickchart\" onclick=\"quickchart('df-5c07e498-86c7-4be4-b818-3cc325ae3886')\"\n",
              "            title=\"Suggest charts\"\n",
              "            style=\"display:none;\">\n",
              "\n",
              "<svg xmlns=\"http://www.w3.org/2000/svg\" height=\"24px\"viewBox=\"0 0 24 24\"\n",
              "     width=\"24px\">\n",
              "    <g>\n",
              "        <path d=\"M19 3H5c-1.1 0-2 .9-2 2v14c0 1.1.9 2 2 2h14c1.1 0 2-.9 2-2V5c0-1.1-.9-2-2-2zM9 17H7v-7h2v7zm4 0h-2V7h2v10zm4 0h-2v-4h2v4z\"/>\n",
              "    </g>\n",
              "</svg>\n",
              "  </button>\n",
              "\n",
              "<style>\n",
              "  .colab-df-quickchart {\n",
              "      --bg-color: #E8F0FE;\n",
              "      --fill-color: #1967D2;\n",
              "      --hover-bg-color: #E2EBFA;\n",
              "      --hover-fill-color: #174EA6;\n",
              "      --disabled-fill-color: #AAA;\n",
              "      --disabled-bg-color: #DDD;\n",
              "  }\n",
              "\n",
              "  [theme=dark] .colab-df-quickchart {\n",
              "      --bg-color: #3B4455;\n",
              "      --fill-color: #D2E3FC;\n",
              "      --hover-bg-color: #434B5C;\n",
              "      --hover-fill-color: #FFFFFF;\n",
              "      --disabled-bg-color: #3B4455;\n",
              "      --disabled-fill-color: #666;\n",
              "  }\n",
              "\n",
              "  .colab-df-quickchart {\n",
              "    background-color: var(--bg-color);\n",
              "    border: none;\n",
              "    border-radius: 50%;\n",
              "    cursor: pointer;\n",
              "    display: none;\n",
              "    fill: var(--fill-color);\n",
              "    height: 32px;\n",
              "    padding: 0;\n",
              "    width: 32px;\n",
              "  }\n",
              "\n",
              "  .colab-df-quickchart:hover {\n",
              "    background-color: var(--hover-bg-color);\n",
              "    box-shadow: 0 1px 2px rgba(60, 64, 67, 0.3), 0 1px 3px 1px rgba(60, 64, 67, 0.15);\n",
              "    fill: var(--button-hover-fill-color);\n",
              "  }\n",
              "\n",
              "  .colab-df-quickchart-complete:disabled,\n",
              "  .colab-df-quickchart-complete:disabled:hover {\n",
              "    background-color: var(--disabled-bg-color);\n",
              "    fill: var(--disabled-fill-color);\n",
              "    box-shadow: none;\n",
              "  }\n",
              "\n",
              "  .colab-df-spinner {\n",
              "    border: 2px solid var(--fill-color);\n",
              "    border-color: transparent;\n",
              "    border-bottom-color: var(--fill-color);\n",
              "    animation:\n",
              "      spin 1s steps(1) infinite;\n",
              "  }\n",
              "\n",
              "  @keyframes spin {\n",
              "    0% {\n",
              "      border-color: transparent;\n",
              "      border-bottom-color: var(--fill-color);\n",
              "      border-left-color: var(--fill-color);\n",
              "    }\n",
              "    20% {\n",
              "      border-color: transparent;\n",
              "      border-left-color: var(--fill-color);\n",
              "      border-top-color: var(--fill-color);\n",
              "    }\n",
              "    30% {\n",
              "      border-color: transparent;\n",
              "      border-left-color: var(--fill-color);\n",
              "      border-top-color: var(--fill-color);\n",
              "      border-right-color: var(--fill-color);\n",
              "    }\n",
              "    40% {\n",
              "      border-color: transparent;\n",
              "      border-right-color: var(--fill-color);\n",
              "      border-top-color: var(--fill-color);\n",
              "    }\n",
              "    60% {\n",
              "      border-color: transparent;\n",
              "      border-right-color: var(--fill-color);\n",
              "    }\n",
              "    80% {\n",
              "      border-color: transparent;\n",
              "      border-right-color: var(--fill-color);\n",
              "      border-bottom-color: var(--fill-color);\n",
              "    }\n",
              "    90% {\n",
              "      border-color: transparent;\n",
              "      border-bottom-color: var(--fill-color);\n",
              "    }\n",
              "  }\n",
              "</style>\n",
              "\n",
              "  <script>\n",
              "    async function quickchart(key) {\n",
              "      const quickchartButtonEl =\n",
              "        document.querySelector('#' + key + ' button');\n",
              "      quickchartButtonEl.disabled = true;  // To prevent multiple clicks.\n",
              "      quickchartButtonEl.classList.add('colab-df-spinner');\n",
              "      try {\n",
              "        const charts = await google.colab.kernel.invokeFunction(\n",
              "            'suggestCharts', [key], {});\n",
              "      } catch (error) {\n",
              "        console.error('Error during call to suggestCharts:', error);\n",
              "      }\n",
              "      quickchartButtonEl.classList.remove('colab-df-spinner');\n",
              "      quickchartButtonEl.classList.add('colab-df-quickchart-complete');\n",
              "    }\n",
              "    (() => {\n",
              "      let quickchartButtonEl =\n",
              "        document.querySelector('#df-5c07e498-86c7-4be4-b818-3cc325ae3886 button');\n",
              "      quickchartButtonEl.style.display =\n",
              "        google.colab.kernel.accessAllowed ? 'block' : 'none';\n",
              "    })();\n",
              "  </script>\n",
              "</div>\n",
              "    </div>\n",
              "  </div>\n"
            ]
          },
          "metadata": {},
          "execution_count": 3
        }
      ]
    },
    {
      "cell_type": "code",
      "source": [
        "df = df.drop(columns=\"Unnamed: 0\")"
      ],
      "metadata": {
        "id": "HRHjewQMf7bu"
      },
      "execution_count": 4,
      "outputs": []
    },
    {
      "cell_type": "code",
      "source": [
        "df.head()"
      ],
      "metadata": {
        "colab": {
          "base_uri": "https://localhost:8080/",
          "height": 206
        },
        "id": "kqGp2WwSgDfM",
        "outputId": "2f869320-ef9a-4d2c-f125-4d1a6d16cfe7"
      },
      "execution_count": 5,
      "outputs": [
        {
          "output_type": "execute_result",
          "data": {
            "text/plain": [
              "   overall   reviewTime                                         reviewText  \\\n",
              "0      4.0  08 19, 2014  Very helpful on healing plants, could read it ...   \n",
              "1      4.0  08 23, 2014                                          Good read   \n",
              "2      3.0  07 24, 2013  Some of the chapters in this book were very us...   \n",
              "3      5.0  02 23, 2014  L.O.V.E.D!!!!!!  I absolutely love this erotic...   \n",
              "4      4.0  11 24, 2013  I am not sure why I got sucked in to this from...   \n",
              "\n",
              "                                             summary  \n",
              "0  Good reference book for anyone wanting to know...  \n",
              "1                                         Four Stars  \n",
              "2                        Some good, some not so.....  \n",
              "3                                          L.O.V.E.D  \n",
              "4                                  very good start..  "
            ],
            "text/html": [
              "\n",
              "  <div id=\"df-3bfb4e06-8bde-4611-a605-40378496d013\" class=\"colab-df-container\">\n",
              "    <div>\n",
              "<style scoped>\n",
              "    .dataframe tbody tr th:only-of-type {\n",
              "        vertical-align: middle;\n",
              "    }\n",
              "\n",
              "    .dataframe tbody tr th {\n",
              "        vertical-align: top;\n",
              "    }\n",
              "\n",
              "    .dataframe thead th {\n",
              "        text-align: right;\n",
              "    }\n",
              "</style>\n",
              "<table border=\"1\" class=\"dataframe\">\n",
              "  <thead>\n",
              "    <tr style=\"text-align: right;\">\n",
              "      <th></th>\n",
              "      <th>overall</th>\n",
              "      <th>reviewTime</th>\n",
              "      <th>reviewText</th>\n",
              "      <th>summary</th>\n",
              "    </tr>\n",
              "  </thead>\n",
              "  <tbody>\n",
              "    <tr>\n",
              "      <th>0</th>\n",
              "      <td>4.0</td>\n",
              "      <td>08 19, 2014</td>\n",
              "      <td>Very helpful on healing plants, could read it ...</td>\n",
              "      <td>Good reference book for anyone wanting to know...</td>\n",
              "    </tr>\n",
              "    <tr>\n",
              "      <th>1</th>\n",
              "      <td>4.0</td>\n",
              "      <td>08 23, 2014</td>\n",
              "      <td>Good read</td>\n",
              "      <td>Four Stars</td>\n",
              "    </tr>\n",
              "    <tr>\n",
              "      <th>2</th>\n",
              "      <td>3.0</td>\n",
              "      <td>07 24, 2013</td>\n",
              "      <td>Some of the chapters in this book were very us...</td>\n",
              "      <td>Some good, some not so.....</td>\n",
              "    </tr>\n",
              "    <tr>\n",
              "      <th>3</th>\n",
              "      <td>5.0</td>\n",
              "      <td>02 23, 2014</td>\n",
              "      <td>L.O.V.E.D!!!!!!  I absolutely love this erotic...</td>\n",
              "      <td>L.O.V.E.D</td>\n",
              "    </tr>\n",
              "    <tr>\n",
              "      <th>4</th>\n",
              "      <td>4.0</td>\n",
              "      <td>11 24, 2013</td>\n",
              "      <td>I am not sure why I got sucked in to this from...</td>\n",
              "      <td>very good start..</td>\n",
              "    </tr>\n",
              "  </tbody>\n",
              "</table>\n",
              "</div>\n",
              "    <div class=\"colab-df-buttons\">\n",
              "\n",
              "  <div class=\"colab-df-container\">\n",
              "    <button class=\"colab-df-convert\" onclick=\"convertToInteractive('df-3bfb4e06-8bde-4611-a605-40378496d013')\"\n",
              "            title=\"Convert this dataframe to an interactive table.\"\n",
              "            style=\"display:none;\">\n",
              "\n",
              "  <svg xmlns=\"http://www.w3.org/2000/svg\" height=\"24px\" viewBox=\"0 -960 960 960\">\n",
              "    <path d=\"M120-120v-720h720v720H120Zm60-500h600v-160H180v160Zm220 220h160v-160H400v160Zm0 220h160v-160H400v160ZM180-400h160v-160H180v160Zm440 0h160v-160H620v160ZM180-180h160v-160H180v160Zm440 0h160v-160H620v160Z\"/>\n",
              "  </svg>\n",
              "    </button>\n",
              "\n",
              "  <style>\n",
              "    .colab-df-container {\n",
              "      display:flex;\n",
              "      gap: 12px;\n",
              "    }\n",
              "\n",
              "    .colab-df-convert {\n",
              "      background-color: #E8F0FE;\n",
              "      border: none;\n",
              "      border-radius: 50%;\n",
              "      cursor: pointer;\n",
              "      display: none;\n",
              "      fill: #1967D2;\n",
              "      height: 32px;\n",
              "      padding: 0 0 0 0;\n",
              "      width: 32px;\n",
              "    }\n",
              "\n",
              "    .colab-df-convert:hover {\n",
              "      background-color: #E2EBFA;\n",
              "      box-shadow: 0px 1px 2px rgba(60, 64, 67, 0.3), 0px 1px 3px 1px rgba(60, 64, 67, 0.15);\n",
              "      fill: #174EA6;\n",
              "    }\n",
              "\n",
              "    .colab-df-buttons div {\n",
              "      margin-bottom: 4px;\n",
              "    }\n",
              "\n",
              "    [theme=dark] .colab-df-convert {\n",
              "      background-color: #3B4455;\n",
              "      fill: #D2E3FC;\n",
              "    }\n",
              "\n",
              "    [theme=dark] .colab-df-convert:hover {\n",
              "      background-color: #434B5C;\n",
              "      box-shadow: 0px 1px 3px 1px rgba(0, 0, 0, 0.15);\n",
              "      filter: drop-shadow(0px 1px 2px rgba(0, 0, 0, 0.3));\n",
              "      fill: #FFFFFF;\n",
              "    }\n",
              "  </style>\n",
              "\n",
              "    <script>\n",
              "      const buttonEl =\n",
              "        document.querySelector('#df-3bfb4e06-8bde-4611-a605-40378496d013 button.colab-df-convert');\n",
              "      buttonEl.style.display =\n",
              "        google.colab.kernel.accessAllowed ? 'block' : 'none';\n",
              "\n",
              "      async function convertToInteractive(key) {\n",
              "        const element = document.querySelector('#df-3bfb4e06-8bde-4611-a605-40378496d013');\n",
              "        const dataTable =\n",
              "          await google.colab.kernel.invokeFunction('convertToInteractive',\n",
              "                                                    [key], {});\n",
              "        if (!dataTable) return;\n",
              "\n",
              "        const docLinkHtml = 'Like what you see? Visit the ' +\n",
              "          '<a target=\"_blank\" href=https://colab.research.google.com/notebooks/data_table.ipynb>data table notebook</a>'\n",
              "          + ' to learn more about interactive tables.';\n",
              "        element.innerHTML = '';\n",
              "        dataTable['output_type'] = 'display_data';\n",
              "        await google.colab.output.renderOutput(dataTable, element);\n",
              "        const docLink = document.createElement('div');\n",
              "        docLink.innerHTML = docLinkHtml;\n",
              "        element.appendChild(docLink);\n",
              "      }\n",
              "    </script>\n",
              "  </div>\n",
              "\n",
              "\n",
              "<div id=\"df-e803b2a1-e0ac-4835-a7a2-7c25ca80a456\">\n",
              "  <button class=\"colab-df-quickchart\" onclick=\"quickchart('df-e803b2a1-e0ac-4835-a7a2-7c25ca80a456')\"\n",
              "            title=\"Suggest charts\"\n",
              "            style=\"display:none;\">\n",
              "\n",
              "<svg xmlns=\"http://www.w3.org/2000/svg\" height=\"24px\"viewBox=\"0 0 24 24\"\n",
              "     width=\"24px\">\n",
              "    <g>\n",
              "        <path d=\"M19 3H5c-1.1 0-2 .9-2 2v14c0 1.1.9 2 2 2h14c1.1 0 2-.9 2-2V5c0-1.1-.9-2-2-2zM9 17H7v-7h2v7zm4 0h-2V7h2v10zm4 0h-2v-4h2v4z\"/>\n",
              "    </g>\n",
              "</svg>\n",
              "  </button>\n",
              "\n",
              "<style>\n",
              "  .colab-df-quickchart {\n",
              "      --bg-color: #E8F0FE;\n",
              "      --fill-color: #1967D2;\n",
              "      --hover-bg-color: #E2EBFA;\n",
              "      --hover-fill-color: #174EA6;\n",
              "      --disabled-fill-color: #AAA;\n",
              "      --disabled-bg-color: #DDD;\n",
              "  }\n",
              "\n",
              "  [theme=dark] .colab-df-quickchart {\n",
              "      --bg-color: #3B4455;\n",
              "      --fill-color: #D2E3FC;\n",
              "      --hover-bg-color: #434B5C;\n",
              "      --hover-fill-color: #FFFFFF;\n",
              "      --disabled-bg-color: #3B4455;\n",
              "      --disabled-fill-color: #666;\n",
              "  }\n",
              "\n",
              "  .colab-df-quickchart {\n",
              "    background-color: var(--bg-color);\n",
              "    border: none;\n",
              "    border-radius: 50%;\n",
              "    cursor: pointer;\n",
              "    display: none;\n",
              "    fill: var(--fill-color);\n",
              "    height: 32px;\n",
              "    padding: 0;\n",
              "    width: 32px;\n",
              "  }\n",
              "\n",
              "  .colab-df-quickchart:hover {\n",
              "    background-color: var(--hover-bg-color);\n",
              "    box-shadow: 0 1px 2px rgba(60, 64, 67, 0.3), 0 1px 3px 1px rgba(60, 64, 67, 0.15);\n",
              "    fill: var(--button-hover-fill-color);\n",
              "  }\n",
              "\n",
              "  .colab-df-quickchart-complete:disabled,\n",
              "  .colab-df-quickchart-complete:disabled:hover {\n",
              "    background-color: var(--disabled-bg-color);\n",
              "    fill: var(--disabled-fill-color);\n",
              "    box-shadow: none;\n",
              "  }\n",
              "\n",
              "  .colab-df-spinner {\n",
              "    border: 2px solid var(--fill-color);\n",
              "    border-color: transparent;\n",
              "    border-bottom-color: var(--fill-color);\n",
              "    animation:\n",
              "      spin 1s steps(1) infinite;\n",
              "  }\n",
              "\n",
              "  @keyframes spin {\n",
              "    0% {\n",
              "      border-color: transparent;\n",
              "      border-bottom-color: var(--fill-color);\n",
              "      border-left-color: var(--fill-color);\n",
              "    }\n",
              "    20% {\n",
              "      border-color: transparent;\n",
              "      border-left-color: var(--fill-color);\n",
              "      border-top-color: var(--fill-color);\n",
              "    }\n",
              "    30% {\n",
              "      border-color: transparent;\n",
              "      border-left-color: var(--fill-color);\n",
              "      border-top-color: var(--fill-color);\n",
              "      border-right-color: var(--fill-color);\n",
              "    }\n",
              "    40% {\n",
              "      border-color: transparent;\n",
              "      border-right-color: var(--fill-color);\n",
              "      border-top-color: var(--fill-color);\n",
              "    }\n",
              "    60% {\n",
              "      border-color: transparent;\n",
              "      border-right-color: var(--fill-color);\n",
              "    }\n",
              "    80% {\n",
              "      border-color: transparent;\n",
              "      border-right-color: var(--fill-color);\n",
              "      border-bottom-color: var(--fill-color);\n",
              "    }\n",
              "    90% {\n",
              "      border-color: transparent;\n",
              "      border-bottom-color: var(--fill-color);\n",
              "    }\n",
              "  }\n",
              "</style>\n",
              "\n",
              "  <script>\n",
              "    async function quickchart(key) {\n",
              "      const quickchartButtonEl =\n",
              "        document.querySelector('#' + key + ' button');\n",
              "      quickchartButtonEl.disabled = true;  // To prevent multiple clicks.\n",
              "      quickchartButtonEl.classList.add('colab-df-spinner');\n",
              "      try {\n",
              "        const charts = await google.colab.kernel.invokeFunction(\n",
              "            'suggestCharts', [key], {});\n",
              "      } catch (error) {\n",
              "        console.error('Error during call to suggestCharts:', error);\n",
              "      }\n",
              "      quickchartButtonEl.classList.remove('colab-df-spinner');\n",
              "      quickchartButtonEl.classList.add('colab-df-quickchart-complete');\n",
              "    }\n",
              "    (() => {\n",
              "      let quickchartButtonEl =\n",
              "        document.querySelector('#df-e803b2a1-e0ac-4835-a7a2-7c25ca80a456 button');\n",
              "      quickchartButtonEl.style.display =\n",
              "        google.colab.kernel.accessAllowed ? 'block' : 'none';\n",
              "    })();\n",
              "  </script>\n",
              "</div>\n",
              "    </div>\n",
              "  </div>\n"
            ]
          },
          "metadata": {},
          "execution_count": 5
        }
      ]
    },
    {
      "cell_type": "code",
      "source": [
        "df.info()"
      ],
      "metadata": {
        "colab": {
          "base_uri": "https://localhost:8080/"
        },
        "id": "j3Qne-YCgGej",
        "outputId": "0a1cd19e-0208-42f2-fa6d-e77912f68714"
      },
      "execution_count": 6,
      "outputs": [
        {
          "output_type": "stream",
          "name": "stdout",
          "text": [
            "<class 'pandas.core.frame.DataFrame'>\n",
            "RangeIndex: 181465 entries, 0 to 181464\n",
            "Data columns (total 4 columns):\n",
            " #   Column      Non-Null Count   Dtype  \n",
            "---  ------      --------------   -----  \n",
            " 0   overall     181465 non-null  float64\n",
            " 1   reviewTime  181465 non-null  object \n",
            " 2   reviewText  181439 non-null  object \n",
            " 3   summary     181395 non-null  object \n",
            "dtypes: float64(1), object(3)\n",
            "memory usage: 5.5+ MB\n"
          ]
        }
      ]
    },
    {
      "cell_type": "markdown",
      "source": [
        "# Text Preprocessing"
      ],
      "metadata": {
        "id": "QW7Wqapxgox7"
      }
    },
    {
      "cell_type": "code",
      "source": [
        "type(df[\"reviewText\"].values)"
      ],
      "metadata": {
        "colab": {
          "base_uri": "https://localhost:8080/"
        },
        "id": "jaKuiIX4ivCd",
        "outputId": "3c838e2c-4b7e-4f7e-aec6-82756dd7d8a5"
      },
      "execution_count": 7,
      "outputs": [
        {
          "output_type": "execute_result",
          "data": {
            "text/plain": [
              "numpy.ndarray"
            ]
          },
          "metadata": {},
          "execution_count": 7
        }
      ]
    },
    {
      "cell_type": "code",
      "source": [
        "print(type(df[\"reviewText\"].iloc[0]))"
      ],
      "metadata": {
        "colab": {
          "base_uri": "https://localhost:8080/"
        },
        "id": "SYBJNbbri0f1",
        "outputId": "f559cd97-0652-497e-c51f-113b5e7d8dfa"
      },
      "execution_count": 8,
      "outputs": [
        {
          "output_type": "stream",
          "name": "stdout",
          "text": [
            "<class 'str'>\n"
          ]
        }
      ]
    },
    {
      "cell_type": "code",
      "source": [
        "df[\"reviewText\"] = df[\"reviewText\"].astype(str)"
      ],
      "metadata": {
        "id": "JGlj1A6TjMAZ"
      },
      "execution_count": 9,
      "outputs": []
    },
    {
      "cell_type": "code",
      "source": [
        "stopwords = nltk.corpus.stopwords.words('english')\n",
        "print(stopwords)"
      ],
      "metadata": {
        "colab": {
          "base_uri": "https://localhost:8080/"
        },
        "id": "ar_Ve3-Vgvef",
        "outputId": "edbd3307-3155-4792-eae5-7343c1c4993c"
      },
      "execution_count": 10,
      "outputs": [
        {
          "output_type": "stream",
          "name": "stdout",
          "text": [
            "['i', 'me', 'my', 'myself', 'we', 'our', 'ours', 'ourselves', 'you', \"you're\", \"you've\", \"you'll\", \"you'd\", 'your', 'yours', 'yourself', 'yourselves', 'he', 'him', 'his', 'himself', 'she', \"she's\", 'her', 'hers', 'herself', 'it', \"it's\", 'its', 'itself', 'they', 'them', 'their', 'theirs', 'themselves', 'what', 'which', 'who', 'whom', 'this', 'that', \"that'll\", 'these', 'those', 'am', 'is', 'are', 'was', 'were', 'be', 'been', 'being', 'have', 'has', 'had', 'having', 'do', 'does', 'did', 'doing', 'a', 'an', 'the', 'and', 'but', 'if', 'or', 'because', 'as', 'until', 'while', 'of', 'at', 'by', 'for', 'with', 'about', 'against', 'between', 'into', 'through', 'during', 'before', 'after', 'above', 'below', 'to', 'from', 'up', 'down', 'in', 'out', 'on', 'off', 'over', 'under', 'again', 'further', 'then', 'once', 'here', 'there', 'when', 'where', 'why', 'how', 'all', 'any', 'both', 'each', 'few', 'more', 'most', 'other', 'some', 'such', 'no', 'nor', 'not', 'only', 'own', 'same', 'so', 'than', 'too', 'very', 's', 't', 'can', 'will', 'just', 'don', \"don't\", 'should', \"should've\", 'now', 'd', 'll', 'm', 'o', 're', 've', 'y', 'ain', 'aren', \"aren't\", 'couldn', \"couldn't\", 'didn', \"didn't\", 'doesn', \"doesn't\", 'hadn', \"hadn't\", 'hasn', \"hasn't\", 'haven', \"haven't\", 'isn', \"isn't\", 'ma', 'mightn', \"mightn't\", 'mustn', \"mustn't\", 'needn', \"needn't\", 'shan', \"shan't\", 'shouldn', \"shouldn't\", 'wasn', \"wasn't\", 'weren', \"weren't\", 'won', \"won't\", 'wouldn', \"wouldn't\"]\n"
          ]
        }
      ]
    },
    {
      "cell_type": "code",
      "source": [
        "reviews_cleaned = []\n",
        "\n",
        "for i in range(len(df[\"reviewText\"])):\n",
        "  reviews_raw = df[\"reviewText\"].iloc[i]\n",
        "  reviews_edit_1 = reviews_raw.lower()\n",
        "  reviews_edit_2 = re.sub(r\"[^a-zA-Z0-9\\s\\.]\", \"\", reviews_edit_1) # Filter punctuation\n",
        "  # reviews_edit_3 = re.sub(\" \\.|\\. \", \"\", reviews_edit_2) # Get rid of fullstops that are outside of words\n",
        "  reviews_cleaned.append(reviews_edit_2.strip()) # remove unnecessary whitespace and append to list of cleaned reviews\n",
        "\n",
        "\n",
        "# vectorised code\n",
        "# reviews_edit_1 = df[\"reviewText\"].str.lower() # Convert all reviewText to lowercase\n",
        "# reviews_edit_2 = reviews_edit_1.str.replace(r\"[^a-zA-Z0-9\\s\\.]\", \"\") # Filter that punctuation g\n",
        "# reviews_cleaned = reviews_edit_2.str.strip().tolist() # Remove unnecessary whitespace"
      ],
      "metadata": {
        "id": "OyGJovZOg_gA"
      },
      "execution_count": 14,
      "outputs": []
    },
    {
      "cell_type": "code",
      "source": [
        "# remove stopwords from the cleaned list\n",
        "filtered_reviews = [\n",
        "    ' '.join(word for word in sentence.split() if word.lower() not in stopwords)\n",
        "    for sentence in reviews_cleaned\n",
        "]"
      ],
      "metadata": {
        "id": "nlCL0e-OjZM4"
      },
      "execution_count": 12,
      "outputs": []
    },
    {
      "cell_type": "code",
      "source": [
        "# take a look at some sample data\n",
        "reviews_cleaned[:5]"
      ],
      "metadata": {
        "colab": {
          "base_uri": "https://localhost:8080/"
        },
        "id": "VHPBs6b3jqmR",
        "outputId": "9a22d0ae-1e66-4ae4-8c52-fe65dd709353"
      },
      "execution_count": 15,
      "outputs": [
        {
          "output_type": "execute_result",
          "data": {
            "text/plain": [
              "['very helpful on healing plants could read it only for a short time then digest it.\\ngood book to have around.',\n",
              " 'good read',\n",
              " 'some of the chapters in this book were very useful.  others not so much.  the good thing about these dummies books is that you dont have to read every chapter.  you can read only what interests you so it wasnt a problem for me.  perhaps others with wider fields of interest will find it much more useful.  i would try another book like this again if it had different subjects.',\n",
              " 'l.o.v.e.d  i absolutely love this erotic romance by scarlet wolfe hot and great story line downloading one plea as soon as i finish my review of one urge  damon will frustrate you but you cant help but fall in love with him and then alayna is an awesome heroine that you cant help but love i cant wait to read more of their story ... i am sooo hoping for an hea  just a heads up  one plea can be found under erotica on amazon',\n",
              " 'i am not sure why i got sucked in to this from the first page i needed to know more about this world. the story line was interesting  was easy to fall into. i do agree with some reviews on that i think she needed to do a little more detail with the world the life they live in the moment. we do get some back ground on the dystopian world however this is really a good fast read kept me wanting more  you will not be disappointed']"
            ]
          },
          "metadata": {},
          "execution_count": 15
        }
      ]
    },
    {
      "cell_type": "code",
      "source": [
        "# compare the above with stopwords removed\n",
        "filtered_reviews[:5]"
      ],
      "metadata": {
        "colab": {
          "base_uri": "https://localhost:8080/"
        },
        "id": "T9iXNBNSjT8u",
        "outputId": "51fb67be-4f52-4605-9338-9b628cba5a67"
      },
      "execution_count": 16,
      "outputs": [
        {
          "output_type": "execute_result",
          "data": {
            "text/plain": [
              "['helpful healing plants could read short time digest it. good book around.',\n",
              " 'good read',\n",
              " 'chapters book useful. others much. good thing dummies books dont read every chapter. read interests wasnt problem me. perhaps others wider fields interest find much useful. would try another book like different subjects.',\n",
              " 'l.o.v.e.d absolutely love erotic romance scarlet wolfe hot great story line downloading one plea soon finish review one urge damon frustrate cant help fall love alayna awesome heroine cant help love cant wait read story ... sooo hoping hea heads one plea found erotica amazon',\n",
              " 'sure got sucked first page needed know world. story line interesting easy fall into. agree reviews think needed little detail world life live moment. get back ground dystopian world however really good fast read kept wanting disappointed']"
            ]
          },
          "metadata": {},
          "execution_count": 16
        }
      ]
    },
    {
      "cell_type": "markdown",
      "source": [
        "## Train-test split"
      ],
      "metadata": {
        "id": "qfzrVTJruTYL"
      }
    },
    {
      "cell_type": "code",
      "source": [
        "labels = list(df[\"overall\"])\n",
        "\n",
        "# Shuffle the data.\n",
        "\n",
        "filtered_reviews, labels = zip(*random.sample(list(zip(filtered_reviews,labels)), len(filtered_reviews)))\n",
        "filtered_reviews = list(filtered_reviews)\n",
        "labels = list(labels)\n",
        "\n",
        "# Train-test split (80:20)\n",
        "\n",
        "trainsize = int(len(filtered_reviews)*0.8)\n",
        "\n",
        "train_reviews, train_labels = filtered_reviews[:trainsize], labels[:trainsize]\n",
        "test_reviews, test_labels = filtered_reviews[trainsize:], labels[trainsize:]"
      ],
      "metadata": {
        "id": "nHTzWDGdlom1"
      },
      "execution_count": 17,
      "outputs": []
    },
    {
      "cell_type": "code",
      "source": [
        "# Check distribution reviews (1,2,3,4,5) in the training set\n",
        "\n",
        "print(\"TRAINING SET\")\n",
        "print(\"Number of reviews to use for training is: {}.\".format(len(train_labels)))\n",
        "print(\"Number of 5-star reviews is: {} (or {:.1f}%).\".format(sum(np.array(train_labels)==5),100*sum(np.array(train_labels)==5)/len(train_labels)))\n",
        "print(\"Number of 4-star reviews is: {} (or {:.1f}%).\".format(sum(np.array(train_labels)==4),100*sum(np.array(train_labels)==4)/len(train_labels)))\n",
        "print(\"Number of 3-star reviews is: {} (or {:.1f}%).\".format(sum(np.array(train_labels)==3),100*sum(np.array(train_labels)==3)/len(train_labels)))\n",
        "print(\"Number of 2-star reviews is: {} (or {:.1f}%).\".format(sum(np.array(train_labels)==2),100*sum(np.array(train_labels)==2)/len(train_labels)))\n",
        "print(\"Number of 1-star reviews is: {} (or {:.1f}%).\".format(sum(np.array(train_labels)==1),100*sum(np.array(train_labels)==1)/len(train_labels)))"
      ],
      "metadata": {
        "colab": {
          "base_uri": "https://localhost:8080/"
        },
        "id": "CjQEuP6rmwOB",
        "outputId": "c44eaa7c-3159-4e27-8771-d604d6c7c185"
      },
      "execution_count": 18,
      "outputs": [
        {
          "output_type": "stream",
          "name": "stdout",
          "text": [
            "TRAINING SET\n",
            "Number of reviews to use for training is: 145172.\n",
            "Number of 5-star reviews is: 28992 (or 20.0%).\n",
            "Number of 4-star reviews is: 29115 (or 20.1%).\n",
            "Number of 3-star reviews is: 29009 (or 20.0%).\n",
            "Number of 2-star reviews is: 28919 (or 19.9%).\n",
            "Number of 1-star reviews is: 29137 (or 20.1%).\n"
          ]
        }
      ]
    },
    {
      "cell_type": "markdown",
      "source": [
        "## Tokenisation"
      ],
      "metadata": {
        "id": "r4QydSEQtf3M"
      }
    },
    {
      "cell_type": "markdown",
      "source": [
        "The word tokenizer provided by the Keras package will be able to deal with full stops for us, e.g. \"missing.\" and \"missing\" will be treated as the same token.\n",
        "\n",
        "Now for the tokenisation. In particular, we must conduct this separately on the training and test sets. The reason for this is due to so-called \"data leakage\": we do not want to introduce any elements of the testing data to the network before or during training. These two sets should be kept as separate as possible."
      ],
      "metadata": {
        "id": "QataMTyhj8fo"
      }
    },
    {
      "cell_type": "code",
      "source": [
        "# max size of our vectorised corpus\n",
        "vocab_size = 20000\n",
        "\n",
        "# maximum allowed length for each vectorised sentence into our neural network\n",
        "max_length = 50\n",
        "\n",
        "# Tokenization\n",
        "# OOV token deals with words that our tokenizer has not seen before (e.g. in the test set)\n",
        "tokenizer = Tokenizer(num_words = vocab_size, oov_token=\"<OOV>\")\n",
        "tokenizer.fit_on_texts(train_reviews)\n",
        "word_index = tokenizer.word_index\n",
        "\n",
        "# print out our dictionary of vectors\n",
        "# print(word_index)\n",
        "\n",
        "\n",
        "train_sequences = tokenizer.texts_to_sequences(train_reviews)\n",
        "test_sequences = tokenizer.texts_to_sequences(test_reviews)\n",
        "\n",
        "# padding sequences to standardise the input size of each row of data for our NN\n",
        "train_padded = pad_sequences(train_sequences, maxlen=max_length)\n",
        "test_padded = pad_sequences(test_sequences, maxlen=max_length)"
      ],
      "metadata": {
        "id": "eoGcq-nglXmN"
      },
      "execution_count": 19,
      "outputs": []
    },
    {
      "cell_type": "code",
      "source": [
        "print(len(word_index))"
      ],
      "metadata": {
        "colab": {
          "base_uri": "https://localhost:8080/"
        },
        "id": "6Sj8xx9ZrXbU",
        "outputId": "2826e99e-8a8f-401b-be9d-0f8b8290d20e"
      },
      "execution_count": 20,
      "outputs": [
        {
          "output_type": "stream",
          "name": "stdout",
          "text": [
            "104903\n"
          ]
        }
      ]
    },
    {
      "cell_type": "markdown",
      "source": [
        "# Model Building and Evaluation"
      ],
      "metadata": {
        "id": "n8l1ukCN5pH7"
      }
    },
    {
      "cell_type": "markdown",
      "source": [
        "We now experiment with a variety of neural network architectures, with the aim of maximising the accuracy of our model on the *testing set*."
      ],
      "metadata": {
        "id": "UshqXWBduifv"
      }
    },
    {
      "cell_type": "code",
      "source": [
        "# function to plot and analyse the learning of each neural network\n",
        "def learning_curve(history):\n",
        "    plt.figure(figsize=(10,12))\n",
        "\n",
        "    # Loss subplot.\n",
        "    plt.subplot(2,1,1)\n",
        "    plt.plot(history.history['loss'], label='loss')\n",
        "    plt.plot(history.history['val_loss'], label='val_loss')\n",
        "    plt.title('Learning Curve')\n",
        "    plt.xlabel('epoch')\n",
        "    plt.ylabel('loss')\n",
        "    plt.legend()\n",
        "\n",
        "    # Accuracy subplot.\n",
        "    plt.subplot(2,1,2)\n",
        "    plt.plot(history.history['accuracy'], label='accuracy')\n",
        "    plt.plot(history.history['val_accuracy'], label='val_accuracy')\n",
        "    plt.title('Learning Curve')\n",
        "    plt.xlabel('epoch')\n",
        "    plt.ylabel('accuracy')\n",
        "    plt.legend()\n",
        "\n",
        "    plt.show()"
      ],
      "metadata": {
        "id": "TPKds82K62AJ"
      },
      "execution_count": 21,
      "outputs": []
    },
    {
      "cell_type": "code",
      "source": [
        "# more model parameters\n",
        "embedding_dim = 16\n",
        "num_epochs = 15"
      ],
      "metadata": {
        "id": "SPWUlsJ7vU6L"
      },
      "execution_count": 22,
      "outputs": []
    },
    {
      "cell_type": "code",
      "source": [
        "model1 = tf.keras.Sequential([\n",
        "    tf.keras.layers.Embedding(vocab_size, embedding_dim, input_length=max_length),\n",
        "    tf.keras.layers.GlobalAveragePooling1D(),\n",
        "    tf.keras.layers.Dense(24, activation='relu'),\n",
        "    tf.keras.layers.Dense(5, activation='softmax')\n",
        "])\n",
        "model1.compile(loss='categorical_crossentropy',optimizer='adam',metrics=['accuracy'])"
      ],
      "metadata": {
        "id": "NbPvhTlNgCMI"
      },
      "execution_count": 29,
      "outputs": []
    },
    {
      "cell_type": "code",
      "source": [
        "model1.summary()"
      ],
      "metadata": {
        "id": "81KhCtd25uSg",
        "colab": {
          "base_uri": "https://localhost:8080/"
        },
        "outputId": "b852662b-447e-4375-9baa-f84fe715f24c"
      },
      "execution_count": 30,
      "outputs": [
        {
          "output_type": "stream",
          "name": "stdout",
          "text": [
            "Model: \"sequential_1\"\n",
            "_________________________________________________________________\n",
            " Layer (type)                Output Shape              Param #   \n",
            "=================================================================\n",
            " embedding_1 (Embedding)     (None, 50, 16)            320000    \n",
            "                                                                 \n",
            " global_average_pooling1d (  (None, 16)                0         \n",
            " GlobalAveragePooling1D)                                         \n",
            "                                                                 \n",
            " dense_2 (Dense)             (None, 24)                408       \n",
            "                                                                 \n",
            " dense_3 (Dense)             (None, 5)                 125       \n",
            "                                                                 \n",
            "=================================================================\n",
            "Total params: 320533 (1.22 MB)\n",
            "Trainable params: 320533 (1.22 MB)\n",
            "Non-trainable params: 0 (0.00 Byte)\n",
            "_________________________________________________________________\n"
          ]
        }
      ]
    },
    {
      "cell_type": "code",
      "source": [
        "type(train_labels[0])"
      ],
      "metadata": {
        "colab": {
          "base_uri": "https://localhost:8080/"
        },
        "id": "rtvZChXUwvkE",
        "outputId": "752fff15-e889-49a2-b2f9-002032bf4e6e"
      },
      "execution_count": 31,
      "outputs": [
        {
          "output_type": "execute_result",
          "data": {
            "text/plain": [
              "float"
            ]
          },
          "metadata": {},
          "execution_count": 31
        }
      ]
    },
    {
      "cell_type": "code",
      "source": [
        "train_labels_int = [int(x) for x in train_labels]\n",
        "test_labels_int = [int(x) for x in test_labels]"
      ],
      "metadata": {
        "id": "lY7f8nAuw8xZ"
      },
      "execution_count": 32,
      "outputs": []
    },
    {
      "cell_type": "code",
      "source": [
        "type(train_labels_int[0])"
      ],
      "metadata": {
        "colab": {
          "base_uri": "https://localhost:8080/"
        },
        "id": "JijXRV3fxIeP",
        "outputId": "fd2c6769-1c64-41e7-cccf-d6fcf4cf252a"
      },
      "execution_count": 33,
      "outputs": [
        {
          "output_type": "execute_result",
          "data": {
            "text/plain": [
              "int"
            ]
          },
          "metadata": {},
          "execution_count": 33
        }
      ]
    },
    {
      "cell_type": "code",
      "source": [
        "history = model1.fit(train_padded, tf.one_hot(train_labels_int,5), epochs=num_epochs, validation_data=(test_padded, tf.one_hot(test_labels_int,5)), verbose=2)"
      ],
      "metadata": {
        "colab": {
          "base_uri": "https://localhost:8080/"
        },
        "id": "-uMsyQZgvmc3",
        "outputId": "7923ff01-a6f1-4bc2-ef9e-a952e2de9bcc"
      },
      "execution_count": 34,
      "outputs": [
        {
          "output_type": "stream",
          "name": "stdout",
          "text": [
            "Epoch 1/15\n",
            "4537/4537 - 31s - loss: 1.2552 - accuracy: 0.2138 - val_loss: 1.2758 - val_accuracy: 0.2032 - 31s/epoch - 7ms/step\n",
            "Epoch 2/15\n",
            "4537/4537 - 29s - loss: 2.5352 - accuracy: 0.2055 - val_loss: 1.8439 - val_accuracy: 0.2129 - 29s/epoch - 6ms/step\n",
            "Epoch 3/15\n",
            "4537/4537 - 33s - loss: 6.3784 - accuracy: 0.2029 - val_loss: 7.1463 - val_accuracy: 0.1972 - 33s/epoch - 7ms/step\n",
            "Epoch 4/15\n",
            "4537/4537 - 30s - loss: 12.6696 - accuracy: 0.2008 - val_loss: 10.0517 - val_accuracy: 0.1972 - 30s/epoch - 7ms/step\n",
            "Epoch 5/15\n",
            "4537/4537 - 31s - loss: 21.3433 - accuracy: 0.2000 - val_loss: 43.7924 - val_accuracy: 0.1972 - 31s/epoch - 7ms/step\n",
            "Epoch 6/15\n",
            "4537/4537 - 28s - loss: 29.6045 - accuracy: 0.2000 - val_loss: 49.6859 - val_accuracy: 0.1978 - 28s/epoch - 6ms/step\n",
            "Epoch 7/15\n",
            "4537/4537 - 29s - loss: 41.0817 - accuracy: 0.1991 - val_loss: 15.1670 - val_accuracy: 0.2032 - 29s/epoch - 6ms/step\n",
            "Epoch 8/15\n",
            "4537/4537 - 27s - loss: 53.3397 - accuracy: 0.2014 - val_loss: 87.6250 - val_accuracy: 0.2032 - 27s/epoch - 6ms/step\n",
            "Epoch 9/15\n",
            "4537/4537 - 29s - loss: 68.9794 - accuracy: 0.1988 - val_loss: 36.0282 - val_accuracy: 0.2007 - 29s/epoch - 6ms/step\n",
            "Epoch 10/15\n",
            "4537/4537 - 39s - loss: 85.0864 - accuracy: 0.2002 - val_loss: 134.1263 - val_accuracy: 0.2032 - 39s/epoch - 9ms/step\n",
            "Epoch 11/15\n",
            "4537/4537 - 33s - loss: 98.5080 - accuracy: 0.2001 - val_loss: 109.7905 - val_accuracy: 0.1978 - 33s/epoch - 7ms/step\n",
            "Epoch 12/15\n",
            "4537/4537 - 30s - loss: 121.6969 - accuracy: 0.1986 - val_loss: 246.5050 - val_accuracy: 0.2007 - 30s/epoch - 7ms/step\n",
            "Epoch 13/15\n",
            "4537/4537 - 30s - loss: 137.4216 - accuracy: 0.1999 - val_loss: 248.2751 - val_accuracy: 0.1972 - 30s/epoch - 7ms/step\n",
            "Epoch 14/15\n",
            "4537/4537 - 34s - loss: 157.6678 - accuracy: 0.2003 - val_loss: 147.9120 - val_accuracy: 0.1978 - 34s/epoch - 7ms/step\n",
            "Epoch 15/15\n",
            "4537/4537 - 34s - loss: 181.5096 - accuracy: 0.2002 - val_loss: 141.9230 - val_accuracy: 0.1978 - 34s/epoch - 7ms/step\n"
          ]
        }
      ]
    },
    {
      "cell_type": "code",
      "source": [
        "learning_curve(history)"
      ],
      "metadata": {
        "id": "nm34sdaW9hHJ",
        "outputId": "59135963-1d3d-414b-cd81-2ea9fa96dcee",
        "colab": {
          "base_uri": "https://localhost:8080/",
          "height": 1000
        }
      },
      "execution_count": 35,
      "outputs": [
        {
          "output_type": "display_data",
          "data": {
            "text/plain": [
              "<Figure size 1000x1200 with 2 Axes>"
            ],
            "image/png": "[encoded data removed]"
          },
          "metadata": {}
        }
      ]
    },
    {
      "cell_type": "code",
      "source": [
        "model2 = tf.keras.Sequential([\n",
        "    tf.keras.layers.Embedding(vocab_size, embedding_dim, input_length=max_length),\n",
        "    tf.keras.layers.GlobalAveragePooling1D(),\n",
        "    tf.keras.layers.Dense(5, activation='softmax')\n",
        "])\n",
        "model2.compile(loss='categorical_crossentropy',optimizer='adam',metrics=['accuracy'])"
      ],
      "metadata": {
        "id": "y8DO4hgUApzX"
      },
      "execution_count": 46,
      "outputs": []
    },
    {
      "cell_type": "code",
      "source": [
        "history2 = model2.fit(train_padded, tf.one_hot(train_labels_int,5), epochs=num_epochs, validation_data=(test_padded, tf.one_hot(test_labels_int,5)), verbose=2)"
      ],
      "metadata": {
        "id": "NElYMbbGA9hw",
        "outputId": "d50c68d8-1270-44a3-eb66-010c8af69a6e",
        "colab": {
          "base_uri": "https://localhost:8080/"
        }
      },
      "execution_count": 47,
      "outputs": [
        {
          "output_type": "stream",
          "name": "stdout",
          "text": [
            "Epoch 1/15\n",
            "4537/4537 - 52s - loss: 1.0532 - accuracy: 0.3578 - val_loss: 0.9927 - val_accuracy: 0.3878 - 52s/epoch - 12ms/step\n",
            "Epoch 2/15\n",
            "4537/4537 - 32s - loss: 0.9711 - accuracy: 0.3911 - val_loss: 0.9539 - val_accuracy: 0.4059 - 32s/epoch - 7ms/step\n",
            "Epoch 3/15\n",
            "4537/4537 - 32s - loss: 0.9450 - accuracy: 0.3951 - val_loss: 0.9480 - val_accuracy: 0.3684 - 32s/epoch - 7ms/step\n",
            "Epoch 4/15\n",
            "4537/4537 - 31s - loss: 0.9307 - accuracy: 0.3958 - val_loss: 0.9335 - val_accuracy: 0.3653 - 31s/epoch - 7ms/step\n",
            "Epoch 5/15\n",
            "4537/4537 - 29s - loss: 0.9204 - accuracy: 0.3996 - val_loss: 0.9213 - val_accuracy: 0.3892 - 29s/epoch - 6ms/step\n",
            "Epoch 6/15\n",
            "4537/4537 - 31s - loss: 0.9148 - accuracy: 0.3968 - val_loss: 0.9073 - val_accuracy: 0.4130 - 31s/epoch - 7ms/step\n",
            "Epoch 7/15\n",
            "4537/4537 - 31s - loss: 0.9099 - accuracy: 0.3970 - val_loss: 0.9075 - val_accuracy: 0.4003 - 31s/epoch - 7ms/step\n",
            "Epoch 8/15\n",
            "4537/4537 - 30s - loss: 0.9044 - accuracy: 0.3984 - val_loss: 0.9187 - val_accuracy: 0.3694 - 30s/epoch - 7ms/step\n",
            "Epoch 9/15\n",
            "4537/4537 - 28s - loss: 0.9022 - accuracy: 0.3985 - val_loss: 0.9075 - val_accuracy: 0.3883 - 28s/epoch - 6ms/step\n",
            "Epoch 10/15\n",
            "4537/4537 - 34s - loss: 0.9008 - accuracy: 0.3969 - val_loss: 0.8904 - val_accuracy: 0.4236 - 34s/epoch - 7ms/step\n",
            "Epoch 11/15\n",
            "4537/4537 - 35s - loss: 0.8984 - accuracy: 0.3980 - val_loss: 0.9171 - val_accuracy: 0.3538 - 35s/epoch - 8ms/step\n",
            "Epoch 12/15\n",
            "4537/4537 - 28s - loss: 0.8968 - accuracy: 0.3976 - val_loss: 0.8910 - val_accuracy: 0.3928 - 28s/epoch - 6ms/step\n",
            "Epoch 13/15\n",
            "4537/4537 - 29s - loss: 0.8962 - accuracy: 0.3968 - val_loss: 0.9524 - val_accuracy: 0.3324 - 29s/epoch - 6ms/step\n",
            "Epoch 14/15\n",
            "4537/4537 - 28s - loss: 0.8948 - accuracy: 0.3958 - val_loss: 0.9333 - val_accuracy: 0.3208 - 28s/epoch - 6ms/step\n",
            "Epoch 15/15\n",
            "4537/4537 - 28s - loss: 0.8939 - accuracy: 0.3950 - val_loss: 0.8815 - val_accuracy: 0.4261 - 28s/epoch - 6ms/step\n"
          ]
        }
      ]
    },
    {
      "cell_type": "code",
      "source": [
        "learning_curve(history2)"
      ],
      "metadata": {
        "id": "JgxJaalOEKOV",
        "outputId": "5751b3fa-1943-459b-a3cd-388eaf347f16",
        "colab": {
          "base_uri": "https://localhost:8080/",
          "height": 1000
        }
      },
      "execution_count": 48,
      "outputs": [
        {
          "output_type": "display_data",
          "data": {
            "text/plain": [
              "<Figure size 1000x1200 with 2 Axes>"
            ],
            "image/png": "[encoded data removed]"
          },
          "metadata": {}
        }
      ]
    },
    {
      "cell_type": "markdown",
      "source": [
        "# Model Applicaton"
      ],
      "metadata": {
        "id": "jFJAf57w5vIr"
      }
    },
    {
      "cell_type": "code",
      "source": [],
      "metadata": {
        "id": "TyWjKHp15xI3"
      },
      "execution_count": null,
      "outputs": []
    },
    {
      "cell_type": "markdown",
      "source": [
        "# Model Extensions"
      ],
      "metadata": {
        "id": "1PZA70ZE7G9L"
      }
    },
    {
      "cell_type": "code",
      "source": [],
      "metadata": {
        "id": "Zu6csAiv7MZG"
      },
      "execution_count": null,
      "outputs": []
    }
  ]
}