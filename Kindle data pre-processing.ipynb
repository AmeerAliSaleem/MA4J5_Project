{
 "cells": [
  {
   "cell_type": "markdown",
   "id": "89b2966f-a31c-48c9-8ae2-72b4cf750d93",
   "metadata": {},
   "source": [
    "# Kindle data: data pre-processing\n",
    "---\n",
    "\n",
    "Before inputting our data straight into any neural network, it is important to get a grasp of the raw data and investigate any necessary amendments."
   ]
  },
  {
   "cell_type": "code",
   "execution_count": 13,
   "id": "24f8245b-87ab-4979-9ce4-184e3ae471ca",
   "metadata": {
    "tags": []
   },
   "outputs": [],
   "source": [
    "# imports\n",
    "import pandas as pd\n",
    "import gzip\n",
    "import json\n",
    "import matplotlib.pyplot as plt"
   ]
  },
  {
   "cell_type": "code",
   "execution_count": 1,
   "id": "fb1f0b5d-e4ad-4cb2-b7a5-9e5b3b55a476",
   "metadata": {
    "tags": []
   },
   "outputs": [],
   "source": [
    "# scraping data from online repository\n",
    "\n",
    "def parse(path):\n",
    "  g = gzip.open(path, 'rb')\n",
    "  for l in g:\n",
    "    yield json.loads(l)\n",
    "\n",
    "def getDF(path):\n",
    "  i = 0\n",
    "  df = {}\n",
    "  for d in parse(path):\n",
    "    df[i] = d\n",
    "    i += 1\n",
    "  return pd.DataFrame.from_dict(df, orient='index')"
   ]
  },
  {
   "cell_type": "markdown",
   "id": "369971b0-5f6b-4780-b286-add6ec86ea46",
   "metadata": {},
   "source": [
    "### The below cell takes a VERY long time to run, since we are scraping extracting the (very large) dataset from the online source. You have been warned!"
   ]
  },
  {
   "cell_type": "code",
   "execution_count": 2,
   "id": "de7134f4-0af5-45d9-8926-0320bf7cbeeb",
   "metadata": {
    "tags": []
   },
   "outputs": [],
   "source": [
    "df = getDF('Kindle_Store_5.json.gz')"
   ]
  },
  {
   "cell_type": "code",
   "execution_count": 3,
   "id": "46075aac-95e8-4ab6-9978-dcb9bfa2d281",
   "metadata": {
    "tags": []
   },
   "outputs": [
    {
     "data": {
      "text/html": [
       "<div>\n",
       "<style scoped>\n",
       "    .dataframe tbody tr th:only-of-type {\n",
       "        vertical-align: middle;\n",
       "    }\n",
       "\n",
       "    .dataframe tbody tr th {\n",
       "        vertical-align: top;\n",
       "    }\n",
       "\n",
       "    .dataframe thead th {\n",
       "        text-align: right;\n",
       "    }\n",
       "</style>\n",
       "<table border=\"1\" class=\"dataframe\">\n",
       "  <thead>\n",
       "    <tr style=\"text-align: right;\">\n",
       "      <th></th>\n",
       "      <th>overall</th>\n",
       "      <th>verified</th>\n",
       "      <th>reviewTime</th>\n",
       "      <th>reviewerID</th>\n",
       "      <th>asin</th>\n",
       "      <th>style</th>\n",
       "      <th>reviewerName</th>\n",
       "      <th>reviewText</th>\n",
       "      <th>summary</th>\n",
       "      <th>unixReviewTime</th>\n",
       "      <th>vote</th>\n",
       "      <th>image</th>\n",
       "    </tr>\n",
       "  </thead>\n",
       "  <tbody>\n",
       "    <tr>\n",
       "      <th>0</th>\n",
       "      <td>4.0</td>\n",
       "      <td>True</td>\n",
       "      <td>07 3, 2014</td>\n",
       "      <td>A2LSKD2H9U8N0J</td>\n",
       "      <td>B000FA5KK0</td>\n",
       "      <td>{'Format:': ' Kindle Edition'}</td>\n",
       "      <td>sandra sue marsolek</td>\n",
       "      <td>pretty good story, a little exaggerated, but I...</td>\n",
       "      <td>pretty good story</td>\n",
       "      <td>1404345600</td>\n",
       "      <td>NaN</td>\n",
       "      <td>NaN</td>\n",
       "    </tr>\n",
       "    <tr>\n",
       "      <th>1</th>\n",
       "      <td>5.0</td>\n",
       "      <td>True</td>\n",
       "      <td>05 26, 2014</td>\n",
       "      <td>A2QP13XTJND1QS</td>\n",
       "      <td>B000FA5KK0</td>\n",
       "      <td>{'Format:': ' Kindle Edition'}</td>\n",
       "      <td>Tpl</td>\n",
       "      <td>If you've read other max brand westerns, you k...</td>\n",
       "      <td>A very good book</td>\n",
       "      <td>1401062400</td>\n",
       "      <td>NaN</td>\n",
       "      <td>NaN</td>\n",
       "    </tr>\n",
       "    <tr>\n",
       "      <th>2</th>\n",
       "      <td>5.0</td>\n",
       "      <td>True</td>\n",
       "      <td>09 16, 2016</td>\n",
       "      <td>A8WQ7MAG3HFOZ</td>\n",
       "      <td>B000FA5KK0</td>\n",
       "      <td>{'Format:': ' Kindle Edition'}</td>\n",
       "      <td>Alverne F. Anderson</td>\n",
       "      <td>Love Max, always a fun twist</td>\n",
       "      <td>Five Stars</td>\n",
       "      <td>1473984000</td>\n",
       "      <td>NaN</td>\n",
       "      <td>NaN</td>\n",
       "    </tr>\n",
       "    <tr>\n",
       "      <th>3</th>\n",
       "      <td>5.0</td>\n",
       "      <td>True</td>\n",
       "      <td>03 3, 2016</td>\n",
       "      <td>A1E0MODSRYP7O</td>\n",
       "      <td>B000FA5KK0</td>\n",
       "      <td>{'Format:': ' Kindle Edition'}</td>\n",
       "      <td>Jeff</td>\n",
       "      <td>As usual for him, a good book</td>\n",
       "      <td>a good</td>\n",
       "      <td>1456963200</td>\n",
       "      <td>NaN</td>\n",
       "      <td>NaN</td>\n",
       "    </tr>\n",
       "    <tr>\n",
       "      <th>4</th>\n",
       "      <td>5.0</td>\n",
       "      <td>True</td>\n",
       "      <td>09 10, 2015</td>\n",
       "      <td>AYUTCGVSM1H7T</td>\n",
       "      <td>B000FA5KK0</td>\n",
       "      <td>{'Format:': ' Kindle Edition'}</td>\n",
       "      <td>DEHS - EddyRapcon</td>\n",
       "      <td>MB is one of the original western writers and ...</td>\n",
       "      <td>A Western</td>\n",
       "      <td>1441843200</td>\n",
       "      <td>2</td>\n",
       "      <td>NaN</td>\n",
       "    </tr>\n",
       "  </tbody>\n",
       "</table>\n",
       "</div>"
      ],
      "text/plain": [
       "   overall  verified   reviewTime      reviewerID        asin  \\\n",
       "0      4.0      True   07 3, 2014  A2LSKD2H9U8N0J  B000FA5KK0   \n",
       "1      5.0      True  05 26, 2014  A2QP13XTJND1QS  B000FA5KK0   \n",
       "2      5.0      True  09 16, 2016   A8WQ7MAG3HFOZ  B000FA5KK0   \n",
       "3      5.0      True   03 3, 2016   A1E0MODSRYP7O  B000FA5KK0   \n",
       "4      5.0      True  09 10, 2015   AYUTCGVSM1H7T  B000FA5KK0   \n",
       "\n",
       "                            style         reviewerName  \\\n",
       "0  {'Format:': ' Kindle Edition'}  sandra sue marsolek   \n",
       "1  {'Format:': ' Kindle Edition'}                  Tpl   \n",
       "2  {'Format:': ' Kindle Edition'}  Alverne F. Anderson   \n",
       "3  {'Format:': ' Kindle Edition'}                 Jeff   \n",
       "4  {'Format:': ' Kindle Edition'}    DEHS - EddyRapcon   \n",
       "\n",
       "                                          reviewText            summary  \\\n",
       "0  pretty good story, a little exaggerated, but I...  pretty good story   \n",
       "1  If you've read other max brand westerns, you k...   A very good book   \n",
       "2                       Love Max, always a fun twist         Five Stars   \n",
       "3                      As usual for him, a good book             a good   \n",
       "4  MB is one of the original western writers and ...          A Western   \n",
       "\n",
       "   unixReviewTime vote image  \n",
       "0      1404345600  NaN   NaN  \n",
       "1      1401062400  NaN   NaN  \n",
       "2      1473984000  NaN   NaN  \n",
       "3      1456963200  NaN   NaN  \n",
       "4      1441843200    2   NaN  "
      ]
     },
     "execution_count": 3,
     "metadata": {},
     "output_type": "execute_result"
    }
   ],
   "source": [
    "df.head()"
   ]
  },
  {
   "cell_type": "code",
   "execution_count": 4,
   "id": "1a31ef50-7501-42df-83e1-9e6ea8ad6bec",
   "metadata": {
    "tags": []
   },
   "outputs": [
    {
     "data": {
      "text/html": [
       "<div>\n",
       "<style scoped>\n",
       "    .dataframe tbody tr th:only-of-type {\n",
       "        vertical-align: middle;\n",
       "    }\n",
       "\n",
       "    .dataframe tbody tr th {\n",
       "        vertical-align: top;\n",
       "    }\n",
       "\n",
       "    .dataframe thead th {\n",
       "        text-align: right;\n",
       "    }\n",
       "</style>\n",
       "<table border=\"1\" class=\"dataframe\">\n",
       "  <thead>\n",
       "    <tr style=\"text-align: right;\">\n",
       "      <th></th>\n",
       "      <th>overall</th>\n",
       "      <th>unixReviewTime</th>\n",
       "    </tr>\n",
       "  </thead>\n",
       "  <tbody>\n",
       "    <tr>\n",
       "      <th>count</th>\n",
       "      <td>2.222983e+06</td>\n",
       "      <td>2.222983e+06</td>\n",
       "    </tr>\n",
       "    <tr>\n",
       "      <th>mean</th>\n",
       "      <td>4.394687e+00</td>\n",
       "      <td>1.433041e+09</td>\n",
       "    </tr>\n",
       "    <tr>\n",
       "      <th>std</th>\n",
       "      <td>9.260669e-01</td>\n",
       "      <td>4.430677e+07</td>\n",
       "    </tr>\n",
       "    <tr>\n",
       "      <th>min</th>\n",
       "      <td>1.000000e+00</td>\n",
       "      <td>8.820576e+08</td>\n",
       "    </tr>\n",
       "    <tr>\n",
       "      <th>25%</th>\n",
       "      <td>4.000000e+00</td>\n",
       "      <td>1.404778e+09</td>\n",
       "    </tr>\n",
       "    <tr>\n",
       "      <th>50%</th>\n",
       "      <td>5.000000e+00</td>\n",
       "      <td>1.434672e+09</td>\n",
       "    </tr>\n",
       "    <tr>\n",
       "      <th>75%</th>\n",
       "      <td>5.000000e+00</td>\n",
       "      <td>1.462234e+09</td>\n",
       "    </tr>\n",
       "    <tr>\n",
       "      <th>max</th>\n",
       "      <td>5.000000e+00</td>\n",
       "      <td>1.538525e+09</td>\n",
       "    </tr>\n",
       "  </tbody>\n",
       "</table>\n",
       "</div>"
      ],
      "text/plain": [
       "            overall  unixReviewTime\n",
       "count  2.222983e+06    2.222983e+06\n",
       "mean   4.394687e+00    1.433041e+09\n",
       "std    9.260669e-01    4.430677e+07\n",
       "min    1.000000e+00    8.820576e+08\n",
       "25%    4.000000e+00    1.404778e+09\n",
       "50%    5.000000e+00    1.434672e+09\n",
       "75%    5.000000e+00    1.462234e+09\n",
       "max    5.000000e+00    1.538525e+09"
      ]
     },
     "execution_count": 4,
     "metadata": {},
     "output_type": "execute_result"
    }
   ],
   "source": [
    "df.describe()"
   ]
  },
  {
   "cell_type": "code",
   "execution_count": 5,
   "id": "ad2bc76f-dd80-4629-a9e4-688769449891",
   "metadata": {
    "tags": []
   },
   "outputs": [
    {
     "name": "stdout",
     "output_type": "stream",
     "text": [
      "<class 'pandas.core.frame.DataFrame'>\n",
      "Index: 2222983 entries, 0 to 2222982\n",
      "Data columns (total 12 columns):\n",
      " #   Column          Dtype  \n",
      "---  ------          -----  \n",
      " 0   overall         float64\n",
      " 1   verified        bool   \n",
      " 2   reviewTime      object \n",
      " 3   reviewerID      object \n",
      " 4   asin            object \n",
      " 5   style           object \n",
      " 6   reviewerName    object \n",
      " 7   reviewText      object \n",
      " 8   summary         object \n",
      " 9   unixReviewTime  int64  \n",
      " 10  vote            object \n",
      " 11  image           object \n",
      "dtypes: bool(1), float64(1), int64(1), object(9)\n",
      "memory usage: 205.6+ MB\n"
     ]
    }
   ],
   "source": [
    "df.info()"
   ]
  },
  {
   "cell_type": "code",
   "execution_count": 7,
   "id": "a54af3ab-4365-494b-a353-10e7af0ad998",
   "metadata": {
    "tags": []
   },
   "outputs": [],
   "source": [
    "# cleaning up the dataset\n",
    "\n",
    "# only include verified reviews\n",
    "df_new = df[df[\"verified\"] == True]"
   ]
  },
  {
   "cell_type": "code",
   "execution_count": 8,
   "id": "d8d6faeb-9ff2-42b0-b92d-a3e42b0ed24b",
   "metadata": {
    "tags": []
   },
   "outputs": [],
   "source": [
    "# removing unnecessary columns\n",
    "df_new = df_new[[\"overall\", \"reviewTime\", \"reviewText\", \"summary\"]]"
   ]
  },
  {
   "cell_type": "code",
   "execution_count": 9,
   "id": "632c0fc7-f5f1-44ba-beec-d5eb6dcdb192",
   "metadata": {
    "tags": []
   },
   "outputs": [
    {
     "name": "stdout",
     "output_type": "stream",
     "text": [
      "<class 'pandas.core.frame.DataFrame'>\n",
      "Index: 1418037 entries, 0 to 2222982\n",
      "Data columns (total 4 columns):\n",
      " #   Column      Non-Null Count    Dtype  \n",
      "---  ------      --------------    -----  \n",
      " 0   overall     1418037 non-null  float64\n",
      " 1   reviewTime  1418037 non-null  object \n",
      " 2   reviewText  1417696 non-null  object \n",
      " 3   summary     1417127 non-null  object \n",
      "dtypes: float64(1), object(3)\n",
      "memory usage: 54.1+ MB\n"
     ]
    }
   ],
   "source": [
    "df_new.info()"
   ]
  },
  {
   "cell_type": "code",
   "execution_count": 11,
   "id": "163a2064-32c2-4c2e-bd74-a81b0b107ba4",
   "metadata": {
    "tags": []
   },
   "outputs": [
    {
     "data": {
      "text/html": [
       "<div>\n",
       "<style scoped>\n",
       "    .dataframe tbody tr th:only-of-type {\n",
       "        vertical-align: middle;\n",
       "    }\n",
       "\n",
       "    .dataframe tbody tr th {\n",
       "        vertical-align: top;\n",
       "    }\n",
       "\n",
       "    .dataframe thead th {\n",
       "        text-align: right;\n",
       "    }\n",
       "</style>\n",
       "<table border=\"1\" class=\"dataframe\">\n",
       "  <thead>\n",
       "    <tr style=\"text-align: right;\">\n",
       "      <th></th>\n",
       "      <th>overall</th>\n",
       "      <th>reviewTime</th>\n",
       "      <th>reviewText</th>\n",
       "      <th>summary</th>\n",
       "    </tr>\n",
       "  </thead>\n",
       "  <tbody>\n",
       "    <tr>\n",
       "      <th>0</th>\n",
       "      <td>4.0</td>\n",
       "      <td>07 3, 2014</td>\n",
       "      <td>pretty good story, a little exaggerated, but I...</td>\n",
       "      <td>pretty good story</td>\n",
       "    </tr>\n",
       "    <tr>\n",
       "      <th>1</th>\n",
       "      <td>5.0</td>\n",
       "      <td>05 26, 2014</td>\n",
       "      <td>If you've read other max brand westerns, you k...</td>\n",
       "      <td>A very good book</td>\n",
       "    </tr>\n",
       "    <tr>\n",
       "      <th>2</th>\n",
       "      <td>5.0</td>\n",
       "      <td>09 16, 2016</td>\n",
       "      <td>Love Max, always a fun twist</td>\n",
       "      <td>Five Stars</td>\n",
       "    </tr>\n",
       "    <tr>\n",
       "      <th>3</th>\n",
       "      <td>5.0</td>\n",
       "      <td>03 3, 2016</td>\n",
       "      <td>As usual for him, a good book</td>\n",
       "      <td>a good</td>\n",
       "    </tr>\n",
       "    <tr>\n",
       "      <th>4</th>\n",
       "      <td>5.0</td>\n",
       "      <td>09 10, 2015</td>\n",
       "      <td>MB is one of the original western writers and ...</td>\n",
       "      <td>A Western</td>\n",
       "    </tr>\n",
       "  </tbody>\n",
       "</table>\n",
       "</div>"
      ],
      "text/plain": [
       "   overall   reviewTime                                         reviewText  \\\n",
       "0      4.0   07 3, 2014  pretty good story, a little exaggerated, but I...   \n",
       "1      5.0  05 26, 2014  If you've read other max brand westerns, you k...   \n",
       "2      5.0  09 16, 2016                       Love Max, always a fun twist   \n",
       "3      5.0   03 3, 2016                      As usual for him, a good book   \n",
       "4      5.0  09 10, 2015  MB is one of the original western writers and ...   \n",
       "\n",
       "             summary  \n",
       "0  pretty good story  \n",
       "1   A very good book  \n",
       "2         Five Stars  \n",
       "3             a good  \n",
       "4          A Western  "
      ]
     },
     "execution_count": 11,
     "metadata": {},
     "output_type": "execute_result"
    }
   ],
   "source": [
    "df_new.head()"
   ]
  },
  {
   "cell_type": "code",
   "execution_count": 17,
   "id": "af3613c2-09da-4c37-b065-f156bbc0dd8b",
   "metadata": {
    "tags": []
   },
   "outputs": [
    {
     "data": {
      "image/png": "[encoded data removed]",
      "text/plain": [
       "<Figure size 800x600 with 1 Axes>"
      ]
     },
     "metadata": {},
     "output_type": "display_data"
    }
   ],
   "source": [
    "value_counts = df_new['overall'].value_counts()\n",
    "\n",
    "# Plotting bar chart of counts for each value in 'Category' column\n",
    "plt.figure(figsize=(8, 6))\n",
    "value_counts.plot(kind='bar', color='skyblue')\n",
    "plt.title('Bar chart of counts for each value in scores column')\n",
    "plt.xlabel('Review score')\n",
    "plt.ylabel('Count')\n",
    "plt.xticks(rotation=0)  # Rotate x labels if needed\n",
    "plt.grid(axis='y')\n",
    "plt.show()"
   ]
  },
  {
   "cell_type": "markdown",
   "id": "72b1ab63-40dc-4495-81f3-c572cc8562bc",
   "metadata": {},
   "source": [
    "An imbalance dataset will make it extremely difficult for our resultant model to learn properly. We utilise the method of undersampling to rectify this issue the best we can:"
   ]
  },
  {
   "cell_type": "code",
   "execution_count": 24,
   "id": "85ceeb37-c28b-45b7-8d93-e48b511d204e",
   "metadata": {
    "tags": []
   },
   "outputs": [
    {
     "name": "stdout",
     "output_type": "stream",
     "text": [
      "36293\n"
     ]
    }
   ],
   "source": [
    "count_specific_value = (df_new['overall'] == 1).sum()\n",
    "print(count_specific_value)"
   ]
  },
  {
   "cell_type": "code",
   "execution_count": 26,
   "id": "a692e5f6-f9e0-4001-b7ff-9b48cc0cfada",
   "metadata": {
    "tags": []
   },
   "outputs": [
    {
     "name": "stdout",
     "output_type": "stream",
     "text": [
      "49397\n"
     ]
    }
   ],
   "source": [
    "count_other_values = (df_new['overall'] == 2).sum()\n",
    "print(count_other_values)"
   ]
  },
  {
   "cell_type": "code",
   "execution_count": 27,
   "id": "7b8c7474-d0e9-4aaf-923b-8143d6d2356e",
   "metadata": {
    "tags": []
   },
   "outputs": [
    {
     "data": {
      "text/plain": [
       "array([4., 5., 3., 2., 1.])"
      ]
     },
     "execution_count": 27,
     "metadata": {},
     "output_type": "execute_result"
    }
   ],
   "source": [
    "df_new.overall.unique()"
   ]
  },
  {
   "cell_type": "code",
   "execution_count": 31,
   "id": "4e0c49a2-6ddb-49f4-95de-f58b75b3351f",
   "metadata": {
    "tags": []
   },
   "outputs": [],
   "source": [
    "# Calculate the minimum count among the different score values\n",
    "min_count = df_new['overall'].value_counts().min()\n",
    "\n",
    "# Undersample each score value to have the same count as the minimum count\n",
    "balanced_df = pd.concat([\n",
    "    df_new[df_new['overall'] == score].sample(min_count) for score in df_new['overall'].unique()\n",
    "])\n",
    "\n",
    "# Shuffle the balanced DataFrame\n",
    "balanced_df = balanced_df.sample(frac=1).reset_index(drop=True)"
   ]
  },
  {
   "cell_type": "code",
   "execution_count": 33,
   "id": "3e994fc4-422c-4734-97f2-44e3714a8f2a",
   "metadata": {
    "tags": []
   },
   "outputs": [
    {
     "name": "stdout",
     "output_type": "stream",
     "text": [
      "<class 'pandas.core.frame.DataFrame'>\n",
      "RangeIndex: 181465 entries, 0 to 181464\n",
      "Data columns (total 4 columns):\n",
      " #   Column      Non-Null Count   Dtype  \n",
      "---  ------      --------------   -----  \n",
      " 0   overall     181465 non-null  float64\n",
      " 1   reviewTime  181465 non-null  object \n",
      " 2   reviewText  181439 non-null  object \n",
      " 3   summary     181395 non-null  object \n",
      "dtypes: float64(1), object(3)\n",
      "memory usage: 5.5+ MB\n"
     ]
    }
   ],
   "source": [
    "balanced_df.info()"
   ]
  },
  {
   "cell_type": "code",
   "execution_count": 35,
   "id": "56cca241-6c86-4925-aa0c-89f36eeffd76",
   "metadata": {
    "tags": []
   },
   "outputs": [
    {
     "data": {
      "text/html": [
       "<div>\n",
       "<style scoped>\n",
       "    .dataframe tbody tr th:only-of-type {\n",
       "        vertical-align: middle;\n",
       "    }\n",
       "\n",
       "    .dataframe tbody tr th {\n",
       "        vertical-align: top;\n",
       "    }\n",
       "\n",
       "    .dataframe thead th {\n",
       "        text-align: right;\n",
       "    }\n",
       "</style>\n",
       "<table border=\"1\" class=\"dataframe\">\n",
       "  <thead>\n",
       "    <tr style=\"text-align: right;\">\n",
       "      <th></th>\n",
       "      <th>overall</th>\n",
       "      <th>reviewTime</th>\n",
       "      <th>reviewText</th>\n",
       "      <th>summary</th>\n",
       "    </tr>\n",
       "  </thead>\n",
       "  <tbody>\n",
       "    <tr>\n",
       "      <th>0</th>\n",
       "      <td>4.0</td>\n",
       "      <td>08 19, 2014</td>\n",
       "      <td>Very helpful on healing plants, could read it ...</td>\n",
       "      <td>Good reference book for anyone wanting to know...</td>\n",
       "    </tr>\n",
       "    <tr>\n",
       "      <th>1</th>\n",
       "      <td>4.0</td>\n",
       "      <td>08 23, 2014</td>\n",
       "      <td>Good read</td>\n",
       "      <td>Four Stars</td>\n",
       "    </tr>\n",
       "    <tr>\n",
       "      <th>2</th>\n",
       "      <td>3.0</td>\n",
       "      <td>07 24, 2013</td>\n",
       "      <td>Some of the chapters in this book were very us...</td>\n",
       "      <td>Some good, some not so.....</td>\n",
       "    </tr>\n",
       "    <tr>\n",
       "      <th>3</th>\n",
       "      <td>5.0</td>\n",
       "      <td>02 23, 2014</td>\n",
       "      <td>L.O.V.E.D!!!!!!  I absolutely love this erotic...</td>\n",
       "      <td>L.O.V.E.D</td>\n",
       "    </tr>\n",
       "    <tr>\n",
       "      <th>4</th>\n",
       "      <td>4.0</td>\n",
       "      <td>11 24, 2013</td>\n",
       "      <td>I am not sure why I got sucked in to this from...</td>\n",
       "      <td>very good start..</td>\n",
       "    </tr>\n",
       "  </tbody>\n",
       "</table>\n",
       "</div>"
      ],
      "text/plain": [
       "   overall   reviewTime                                         reviewText  \\\n",
       "0      4.0  08 19, 2014  Very helpful on healing plants, could read it ...   \n",
       "1      4.0  08 23, 2014                                          Good read   \n",
       "2      3.0  07 24, 2013  Some of the chapters in this book were very us...   \n",
       "3      5.0  02 23, 2014  L.O.V.E.D!!!!!!  I absolutely love this erotic...   \n",
       "4      4.0  11 24, 2013  I am not sure why I got sucked in to this from...   \n",
       "\n",
       "                                             summary  \n",
       "0  Good reference book for anyone wanting to know...  \n",
       "1                                         Four Stars  \n",
       "2                        Some good, some not so.....  \n",
       "3                                          L.O.V.E.D  \n",
       "4                                  very good start..  "
      ]
     },
     "execution_count": 35,
     "metadata": {},
     "output_type": "execute_result"
    }
   ],
   "source": [
    "balanced_df.head()"
   ]
  },
  {
   "cell_type": "code",
   "execution_count": 34,
   "id": "75c0fdc0-0863-4247-b913-1868715ced47",
   "metadata": {
    "tags": []
   },
   "outputs": [
    {
     "data": {
      "image/png": "[encoded data removed]",
      "text/plain": [
       "<Figure size 800x600 with 1 Axes>"
      ]
     },
     "metadata": {},
     "output_type": "display_data"
    }
   ],
   "source": [
    "value_counts_balanced = balanced_df['overall'].value_counts()\n",
    "\n",
    "# Plotting bar chart of counts for each value in 'Category' column\n",
    "plt.figure(figsize=(8, 6))\n",
    "value_counts_balanced.plot(kind='bar', color='skyblue')\n",
    "plt.title('Bar chart of counts for each value in scores column')\n",
    "plt.xlabel('Review score')\n",
    "plt.ylabel('Count')\n",
    "plt.xticks(rotation=0)  # Rotate x labels if needed\n",
    "plt.grid(axis='y')\n",
    "plt.show()"
   ]
  },
  {
   "cell_type": "code",
   "execution_count": 36,
   "id": "75a26814-2b1f-4709-8194-03705a5ba15a",
   "metadata": {
    "tags": []
   },
   "outputs": [],
   "source": [
    "balanced_df.to_csv(\"kindle_balanced.csv\")"
   ]
  },
  {
   "cell_type": "code",
   "execution_count": null,
   "id": "6960b7f8-467c-41cd-8929-d217d2607ee7",
   "metadata": {},
   "outputs": [],
   "source": []
  }
 ],
 "metadata": {
  "kernelspec": {
   "display_name": "Python 3 (ipykernel)",
   "language": "python",
   "name": "python3"
  },
  "language_info": {
   "codemirror_mode": {
    "name": "ipython",
    "version": 3
   },
   "file_extension": ".py",
   "mimetype": "text/x-python",
   "name": "python",
   "nbconvert_exporter": "python",
   "pygments_lexer": "ipython3",
   "version": "3.11.5"
  }
 },
 "nbformat": 4,
 "nbformat_minor": 5
}
