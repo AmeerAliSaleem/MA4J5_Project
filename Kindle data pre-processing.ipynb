{
 "cells": [
  {
   "cell_type": "markdown",
   "id": "89b2966f-a31c-48c9-8ae2-72b4cf750d93",
   "metadata": {},
   "source": [
    "# Kindle data: data pre-processing\n",
    "---\n",
    "\n",
    "We are using Amazon Kindle review data, the source of which can be found <a href='https://nijianmo.github.io/amazon/index.html'>here</a>.\n",
    "\n",
    "Before inputting our data straight into any neural network, it is important to get a grasp of the raw data and make any necessary amendments."
   ]
  },
  {
   "cell_type": "code",
   "execution_count": 29,
   "id": "24f8245b-87ab-4979-9ce4-184e3ae471ca",
   "metadata": {
    "tags": []
   },
   "outputs": [],
   "source": [
    "# imports\n",
    "import pandas as pd\n",
    "import gzip\n",
    "import json\n",
    "import matplotlib.pyplot as plt\n",
    "import seaborn as sns"
   ]
  },
  {
   "cell_type": "code",
   "execution_count": 2,
   "id": "fb1f0b5d-e4ad-4cb2-b7a5-9e5b3b55a476",
   "metadata": {
    "tags": []
   },
   "outputs": [],
   "source": [
    "# scraping data from online repository\n",
    "\n",
    "def parse(path):\n",
    "  g = gzip.open(path, 'rb')\n",
    "  for l in g:\n",
    "    yield json.loads(l)\n",
    "\n",
    "def getDF(path):\n",
    "  i = 0\n",
    "  df = {}\n",
    "  for d in parse(path):\n",
    "    df[i] = d\n",
    "    i += 1\n",
    "  return pd.DataFrame.from_dict(df, orient='index')"
   ]
  },
  {
   "cell_type": "markdown",
   "id": "369971b0-5f6b-4780-b286-add6ec86ea46",
   "metadata": {},
   "source": [
    "### The below cell takes a VERY long time to run, since we are scraping extracting the (very large) dataset from the online source."
   ]
  },
  {
   "cell_type": "code",
   "execution_count": 3,
   "id": "de7134f4-0af5-45d9-8926-0320bf7cbeeb",
   "metadata": {
    "tags": []
   },
   "outputs": [],
   "source": [
    "df = getDF('Kindle_Store_5.json.gz')"
   ]
  },
  {
   "cell_type": "code",
   "execution_count": 4,
   "id": "46075aac-95e8-4ab6-9978-dcb9bfa2d281",
   "metadata": {
    "tags": []
   },
   "outputs": [
    {
     "data": {
      "text/html": [
       "<div>\n",
       "<style scoped>\n",
       "    .dataframe tbody tr th:only-of-type {\n",
       "        vertical-align: middle;\n",
       "    }\n",
       "\n",
       "    .dataframe tbody tr th {\n",
       "        vertical-align: top;\n",
       "    }\n",
       "\n",
       "    .dataframe thead th {\n",
       "        text-align: right;\n",
       "    }\n",
       "</style>\n",
       "<table border=\"1\" class=\"dataframe\">\n",
       "  <thead>\n",
       "    <tr style=\"text-align: right;\">\n",
       "      <th></th>\n",
       "      <th>overall</th>\n",
       "      <th>verified</th>\n",
       "      <th>reviewTime</th>\n",
       "      <th>reviewerID</th>\n",
       "      <th>asin</th>\n",
       "      <th>style</th>\n",
       "      <th>reviewerName</th>\n",
       "      <th>reviewText</th>\n",
       "      <th>summary</th>\n",
       "      <th>unixReviewTime</th>\n",
       "      <th>vote</th>\n",
       "      <th>image</th>\n",
       "    </tr>\n",
       "  </thead>\n",
       "  <tbody>\n",
       "    <tr>\n",
       "      <th>0</th>\n",
       "      <td>4.0</td>\n",
       "      <td>True</td>\n",
       "      <td>07 3, 2014</td>\n",
       "      <td>A2LSKD2H9U8N0J</td>\n",
       "      <td>B000FA5KK0</td>\n",
       "      <td>{'Format:': ' Kindle Edition'}</td>\n",
       "      <td>sandra sue marsolek</td>\n",
       "      <td>pretty good story, a little exaggerated, but I...</td>\n",
       "      <td>pretty good story</td>\n",
       "      <td>1404345600</td>\n",
       "      <td>NaN</td>\n",
       "      <td>NaN</td>\n",
       "    </tr>\n",
       "    <tr>\n",
       "      <th>1</th>\n",
       "      <td>5.0</td>\n",
       "      <td>True</td>\n",
       "      <td>05 26, 2014</td>\n",
       "      <td>A2QP13XTJND1QS</td>\n",
       "      <td>B000FA5KK0</td>\n",
       "      <td>{'Format:': ' Kindle Edition'}</td>\n",
       "      <td>Tpl</td>\n",
       "      <td>If you've read other max brand westerns, you k...</td>\n",
       "      <td>A very good book</td>\n",
       "      <td>1401062400</td>\n",
       "      <td>NaN</td>\n",
       "      <td>NaN</td>\n",
       "    </tr>\n",
       "    <tr>\n",
       "      <th>2</th>\n",
       "      <td>5.0</td>\n",
       "      <td>True</td>\n",
       "      <td>09 16, 2016</td>\n",
       "      <td>A8WQ7MAG3HFOZ</td>\n",
       "      <td>B000FA5KK0</td>\n",
       "      <td>{'Format:': ' Kindle Edition'}</td>\n",
       "      <td>Alverne F. Anderson</td>\n",
       "      <td>Love Max, always a fun twist</td>\n",
       "      <td>Five Stars</td>\n",
       "      <td>1473984000</td>\n",
       "      <td>NaN</td>\n",
       "      <td>NaN</td>\n",
       "    </tr>\n",
       "    <tr>\n",
       "      <th>3</th>\n",
       "      <td>5.0</td>\n",
       "      <td>True</td>\n",
       "      <td>03 3, 2016</td>\n",
       "      <td>A1E0MODSRYP7O</td>\n",
       "      <td>B000FA5KK0</td>\n",
       "      <td>{'Format:': ' Kindle Edition'}</td>\n",
       "      <td>Jeff</td>\n",
       "      <td>As usual for him, a good book</td>\n",
       "      <td>a good</td>\n",
       "      <td>1456963200</td>\n",
       "      <td>NaN</td>\n",
       "      <td>NaN</td>\n",
       "    </tr>\n",
       "    <tr>\n",
       "      <th>4</th>\n",
       "      <td>5.0</td>\n",
       "      <td>True</td>\n",
       "      <td>09 10, 2015</td>\n",
       "      <td>AYUTCGVSM1H7T</td>\n",
       "      <td>B000FA5KK0</td>\n",
       "      <td>{'Format:': ' Kindle Edition'}</td>\n",
       "      <td>DEHS - EddyRapcon</td>\n",
       "      <td>MB is one of the original western writers and ...</td>\n",
       "      <td>A Western</td>\n",
       "      <td>1441843200</td>\n",
       "      <td>2</td>\n",
       "      <td>NaN</td>\n",
       "    </tr>\n",
       "  </tbody>\n",
       "</table>\n",
       "</div>"
      ],
      "text/plain": [
       "   overall  verified   reviewTime      reviewerID        asin  \\\n",
       "0      4.0      True   07 3, 2014  A2LSKD2H9U8N0J  B000FA5KK0   \n",
       "1      5.0      True  05 26, 2014  A2QP13XTJND1QS  B000FA5KK0   \n",
       "2      5.0      True  09 16, 2016   A8WQ7MAG3HFOZ  B000FA5KK0   \n",
       "3      5.0      True   03 3, 2016   A1E0MODSRYP7O  B000FA5KK0   \n",
       "4      5.0      True  09 10, 2015   AYUTCGVSM1H7T  B000FA5KK0   \n",
       "\n",
       "                            style         reviewerName  \\\n",
       "0  {'Format:': ' Kindle Edition'}  sandra sue marsolek   \n",
       "1  {'Format:': ' Kindle Edition'}                  Tpl   \n",
       "2  {'Format:': ' Kindle Edition'}  Alverne F. Anderson   \n",
       "3  {'Format:': ' Kindle Edition'}                 Jeff   \n",
       "4  {'Format:': ' Kindle Edition'}    DEHS - EddyRapcon   \n",
       "\n",
       "                                          reviewText            summary  \\\n",
       "0  pretty good story, a little exaggerated, but I...  pretty good story   \n",
       "1  If you've read other max brand westerns, you k...   A very good book   \n",
       "2                       Love Max, always a fun twist         Five Stars   \n",
       "3                      As usual for him, a good book             a good   \n",
       "4  MB is one of the original western writers and ...          A Western   \n",
       "\n",
       "   unixReviewTime vote image  \n",
       "0      1404345600  NaN   NaN  \n",
       "1      1401062400  NaN   NaN  \n",
       "2      1473984000  NaN   NaN  \n",
       "3      1456963200  NaN   NaN  \n",
       "4      1441843200    2   NaN  "
      ]
     },
     "execution_count": 4,
     "metadata": {},
     "output_type": "execute_result"
    }
   ],
   "source": [
    "df.head()"
   ]
  },
  {
   "cell_type": "code",
   "execution_count": 5,
   "id": "1a31ef50-7501-42df-83e1-9e6ea8ad6bec",
   "metadata": {
    "tags": []
   },
   "outputs": [
    {
     "data": {
      "text/html": [
       "<div>\n",
       "<style scoped>\n",
       "    .dataframe tbody tr th:only-of-type {\n",
       "        vertical-align: middle;\n",
       "    }\n",
       "\n",
       "    .dataframe tbody tr th {\n",
       "        vertical-align: top;\n",
       "    }\n",
       "\n",
       "    .dataframe thead th {\n",
       "        text-align: right;\n",
       "    }\n",
       "</style>\n",
       "<table border=\"1\" class=\"dataframe\">\n",
       "  <thead>\n",
       "    <tr style=\"text-align: right;\">\n",
       "      <th></th>\n",
       "      <th>overall</th>\n",
       "      <th>unixReviewTime</th>\n",
       "    </tr>\n",
       "  </thead>\n",
       "  <tbody>\n",
       "    <tr>\n",
       "      <th>count</th>\n",
       "      <td>2.222983e+06</td>\n",
       "      <td>2.222983e+06</td>\n",
       "    </tr>\n",
       "    <tr>\n",
       "      <th>mean</th>\n",
       "      <td>4.394687e+00</td>\n",
       "      <td>1.433041e+09</td>\n",
       "    </tr>\n",
       "    <tr>\n",
       "      <th>std</th>\n",
       "      <td>9.260669e-01</td>\n",
       "      <td>4.430677e+07</td>\n",
       "    </tr>\n",
       "    <tr>\n",
       "      <th>min</th>\n",
       "      <td>1.000000e+00</td>\n",
       "      <td>8.820576e+08</td>\n",
       "    </tr>\n",
       "    <tr>\n",
       "      <th>25%</th>\n",
       "      <td>4.000000e+00</td>\n",
       "      <td>1.404778e+09</td>\n",
       "    </tr>\n",
       "    <tr>\n",
       "      <th>50%</th>\n",
       "      <td>5.000000e+00</td>\n",
       "      <td>1.434672e+09</td>\n",
       "    </tr>\n",
       "    <tr>\n",
       "      <th>75%</th>\n",
       "      <td>5.000000e+00</td>\n",
       "      <td>1.462234e+09</td>\n",
       "    </tr>\n",
       "    <tr>\n",
       "      <th>max</th>\n",
       "      <td>5.000000e+00</td>\n",
       "      <td>1.538525e+09</td>\n",
       "    </tr>\n",
       "  </tbody>\n",
       "</table>\n",
       "</div>"
      ],
      "text/plain": [
       "            overall  unixReviewTime\n",
       "count  2.222983e+06    2.222983e+06\n",
       "mean   4.394687e+00    1.433041e+09\n",
       "std    9.260669e-01    4.430677e+07\n",
       "min    1.000000e+00    8.820576e+08\n",
       "25%    4.000000e+00    1.404778e+09\n",
       "50%    5.000000e+00    1.434672e+09\n",
       "75%    5.000000e+00    1.462234e+09\n",
       "max    5.000000e+00    1.538525e+09"
      ]
     },
     "execution_count": 5,
     "metadata": {},
     "output_type": "execute_result"
    }
   ],
   "source": [
    "df.describe()"
   ]
  },
  {
   "cell_type": "code",
   "execution_count": 6,
   "id": "ad2bc76f-dd80-4629-a9e4-688769449891",
   "metadata": {
    "tags": []
   },
   "outputs": [
    {
     "name": "stdout",
     "output_type": "stream",
     "text": [
      "<class 'pandas.core.frame.DataFrame'>\n",
      "Index: 2222983 entries, 0 to 2222982\n",
      "Data columns (total 12 columns):\n",
      " #   Column          Dtype  \n",
      "---  ------          -----  \n",
      " 0   overall         float64\n",
      " 1   verified        bool   \n",
      " 2   reviewTime      object \n",
      " 3   reviewerID      object \n",
      " 4   asin            object \n",
      " 5   style           object \n",
      " 6   reviewerName    object \n",
      " 7   reviewText      object \n",
      " 8   summary         object \n",
      " 9   unixReviewTime  int64  \n",
      " 10  vote            object \n",
      " 11  image           object \n",
      "dtypes: bool(1), float64(1), int64(1), object(9)\n",
      "memory usage: 205.6+ MB\n"
     ]
    }
   ],
   "source": [
    "df.info()"
   ]
  },
  {
   "cell_type": "markdown",
   "id": "cad6124e-1e91-4a9c-ab00-23f5af20297b",
   "metadata": {},
   "source": [
    "We begin by removing any unverified reviews and removing unnecessary columns:"
   ]
  },
  {
   "cell_type": "code",
   "execution_count": 7,
   "id": "a54af3ab-4365-494b-a353-10e7af0ad998",
   "metadata": {
    "tags": []
   },
   "outputs": [],
   "source": [
    "# cleaning up the dataset\n",
    "\n",
    "# only include verified reviews\n",
    "df_new = df[df[\"verified\"] == True]"
   ]
  },
  {
   "cell_type": "code",
   "execution_count": 8,
   "id": "d8d6faeb-9ff2-42b0-b92d-a3e42b0ed24b",
   "metadata": {
    "tags": []
   },
   "outputs": [],
   "source": [
    "# removing unnecessary columns\n",
    "df_new = df_new[[\"overall\", \"reviewTime\", \"reviewText\", \"summary\"]]"
   ]
  },
  {
   "cell_type": "code",
   "execution_count": 9,
   "id": "632c0fc7-f5f1-44ba-beec-d5eb6dcdb192",
   "metadata": {
    "tags": []
   },
   "outputs": [
    {
     "name": "stdout",
     "output_type": "stream",
     "text": [
      "<class 'pandas.core.frame.DataFrame'>\n",
      "Index: 1418037 entries, 0 to 2222982\n",
      "Data columns (total 4 columns):\n",
      " #   Column      Non-Null Count    Dtype  \n",
      "---  ------      --------------    -----  \n",
      " 0   overall     1418037 non-null  float64\n",
      " 1   reviewTime  1418037 non-null  object \n",
      " 2   reviewText  1417696 non-null  object \n",
      " 3   summary     1417127 non-null  object \n",
      "dtypes: float64(1), object(3)\n",
      "memory usage: 54.1+ MB\n"
     ]
    }
   ],
   "source": [
    "df_new.info()"
   ]
  },
  {
   "cell_type": "code",
   "execution_count": 10,
   "id": "163a2064-32c2-4c2e-bd74-a81b0b107ba4",
   "metadata": {
    "tags": []
   },
   "outputs": [
    {
     "data": {
      "text/html": [
       "<div>\n",
       "<style scoped>\n",
       "    .dataframe tbody tr th:only-of-type {\n",
       "        vertical-align: middle;\n",
       "    }\n",
       "\n",
       "    .dataframe tbody tr th {\n",
       "        vertical-align: top;\n",
       "    }\n",
       "\n",
       "    .dataframe thead th {\n",
       "        text-align: right;\n",
       "    }\n",
       "</style>\n",
       "<table border=\"1\" class=\"dataframe\">\n",
       "  <thead>\n",
       "    <tr style=\"text-align: right;\">\n",
       "      <th></th>\n",
       "      <th>overall</th>\n",
       "      <th>reviewTime</th>\n",
       "      <th>reviewText</th>\n",
       "      <th>summary</th>\n",
       "    </tr>\n",
       "  </thead>\n",
       "  <tbody>\n",
       "    <tr>\n",
       "      <th>0</th>\n",
       "      <td>4.0</td>\n",
       "      <td>07 3, 2014</td>\n",
       "      <td>pretty good story, a little exaggerated, but I...</td>\n",
       "      <td>pretty good story</td>\n",
       "    </tr>\n",
       "    <tr>\n",
       "      <th>1</th>\n",
       "      <td>5.0</td>\n",
       "      <td>05 26, 2014</td>\n",
       "      <td>If you've read other max brand westerns, you k...</td>\n",
       "      <td>A very good book</td>\n",
       "    </tr>\n",
       "    <tr>\n",
       "      <th>2</th>\n",
       "      <td>5.0</td>\n",
       "      <td>09 16, 2016</td>\n",
       "      <td>Love Max, always a fun twist</td>\n",
       "      <td>Five Stars</td>\n",
       "    </tr>\n",
       "    <tr>\n",
       "      <th>3</th>\n",
       "      <td>5.0</td>\n",
       "      <td>03 3, 2016</td>\n",
       "      <td>As usual for him, a good book</td>\n",
       "      <td>a good</td>\n",
       "    </tr>\n",
       "    <tr>\n",
       "      <th>4</th>\n",
       "      <td>5.0</td>\n",
       "      <td>09 10, 2015</td>\n",
       "      <td>MB is one of the original western writers and ...</td>\n",
       "      <td>A Western</td>\n",
       "    </tr>\n",
       "  </tbody>\n",
       "</table>\n",
       "</div>"
      ],
      "text/plain": [
       "   overall   reviewTime                                         reviewText  \\\n",
       "0      4.0   07 3, 2014  pretty good story, a little exaggerated, but I...   \n",
       "1      5.0  05 26, 2014  If you've read other max brand westerns, you k...   \n",
       "2      5.0  09 16, 2016                       Love Max, always a fun twist   \n",
       "3      5.0   03 3, 2016                      As usual for him, a good book   \n",
       "4      5.0  09 10, 2015  MB is one of the original western writers and ...   \n",
       "\n",
       "             summary  \n",
       "0  pretty good story  \n",
       "1   A very good book  \n",
       "2         Five Stars  \n",
       "3             a good  \n",
       "4          A Western  "
      ]
     },
     "execution_count": 10,
     "metadata": {},
     "output_type": "execute_result"
    }
   ],
   "source": [
    "df_new.head()"
   ]
  },
  {
   "cell_type": "markdown",
   "id": "83ef9b7a-fd3f-42eb-a1d2-dfbedd91dbb2",
   "metadata": {},
   "source": [
    "## 5-category classification problem"
   ]
  },
  {
   "cell_type": "code",
   "execution_count": 63,
   "id": "af3613c2-09da-4c37-b065-f156bbc0dd8b",
   "metadata": {
    "tags": []
   },
   "outputs": [
    {
     "data": {
      "image/png": "[encoded data removed]",
      "text/plain": [
       "<Figure size 640x480 with 1 Axes>"
      ]
     },
     "metadata": {},
     "output_type": "display_data"
    }
   ],
   "source": [
    "value_counts = df_new['overall'].value_counts()\n",
    "\n",
    "# Plotting bar chart of counts for each value in 'Category' column\n",
    "#plt.figure(figsize=(8, 6))\n",
    "value_counts.plot(kind='bar', color='skyblue')\n",
    "plt.title('Counts for each value in scores column')\n",
    "plt.xlabel('Review score')\n",
    "plt.ylabel('Frequency')\n",
    "plt.xticks(rotation=0)  # Rotate x labels if needed\n",
    "plt.grid(axis='y')\n",
    "plt.show()"
   ]
  },
  {
   "cell_type": "markdown",
   "id": "72b1ab63-40dc-4495-81f3-c572cc8562bc",
   "metadata": {},
   "source": [
    "An imbalanced dataset will make it extremely difficult for our resultant model to learn properly. We utilise undersampling to mitigate the problem:"
   ]
  },
  {
   "cell_type": "code",
   "execution_count": 12,
   "id": "85ceeb37-c28b-45b7-8d93-e48b511d204e",
   "metadata": {
    "tags": []
   },
   "outputs": [
    {
     "name": "stdout",
     "output_type": "stream",
     "text": [
      "36293\n"
     ]
    }
   ],
   "source": [
    "count_specific_value = (df_new['overall'] == 1).sum()\n",
    "print(count_specific_value)"
   ]
  },
  {
   "cell_type": "code",
   "execution_count": 13,
   "id": "a692e5f6-f9e0-4001-b7ff-9b48cc0cfada",
   "metadata": {
    "tags": []
   },
   "outputs": [
    {
     "name": "stdout",
     "output_type": "stream",
     "text": [
      "49397\n"
     ]
    }
   ],
   "source": [
    "count_other_values = (df_new['overall'] == 2).sum()\n",
    "print(count_other_values)"
   ]
  },
  {
   "cell_type": "code",
   "execution_count": 14,
   "id": "7b8c7474-d0e9-4aaf-923b-8143d6d2356e",
   "metadata": {
    "tags": []
   },
   "outputs": [
    {
     "data": {
      "text/plain": [
       "array([4., 5., 3., 2., 1.])"
      ]
     },
     "execution_count": 14,
     "metadata": {},
     "output_type": "execute_result"
    }
   ],
   "source": [
    "df_new.overall.unique()"
   ]
  },
  {
   "cell_type": "code",
   "execution_count": 15,
   "id": "4e0c49a2-6ddb-49f4-95de-f58b75b3351f",
   "metadata": {
    "tags": []
   },
   "outputs": [],
   "source": [
    "# Calculate the minimum count among the different score values\n",
    "min_count = df_new['overall'].value_counts().min()\n",
    "\n",
    "# Undersample each score value to have the same count as the minimum count\n",
    "balanced_df = pd.concat([\n",
    "    df_new[df_new['overall'] == score].sample(min_count) for score in df_new['overall'].unique()\n",
    "])\n",
    "\n",
    "# Shuffle the balanced DataFrame\n",
    "balanced_df = balanced_df.sample(frac=1).reset_index(drop=True)"
   ]
  },
  {
   "cell_type": "code",
   "execution_count": 16,
   "id": "3e994fc4-422c-4734-97f2-44e3714a8f2a",
   "metadata": {
    "tags": []
   },
   "outputs": [
    {
     "name": "stdout",
     "output_type": "stream",
     "text": [
      "<class 'pandas.core.frame.DataFrame'>\n",
      "RangeIndex: 181465 entries, 0 to 181464\n",
      "Data columns (total 4 columns):\n",
      " #   Column      Non-Null Count   Dtype  \n",
      "---  ------      --------------   -----  \n",
      " 0   overall     181465 non-null  float64\n",
      " 1   reviewTime  181465 non-null  object \n",
      " 2   reviewText  181432 non-null  object \n",
      " 3   summary     181401 non-null  object \n",
      "dtypes: float64(1), object(3)\n",
      "memory usage: 5.5+ MB\n"
     ]
    }
   ],
   "source": [
    "balanced_df.info()"
   ]
  },
  {
   "cell_type": "code",
   "execution_count": 17,
   "id": "56cca241-6c86-4925-aa0c-89f36eeffd76",
   "metadata": {
    "tags": []
   },
   "outputs": [
    {
     "data": {
      "text/html": [
       "<div>\n",
       "<style scoped>\n",
       "    .dataframe tbody tr th:only-of-type {\n",
       "        vertical-align: middle;\n",
       "    }\n",
       "\n",
       "    .dataframe tbody tr th {\n",
       "        vertical-align: top;\n",
       "    }\n",
       "\n",
       "    .dataframe thead th {\n",
       "        text-align: right;\n",
       "    }\n",
       "</style>\n",
       "<table border=\"1\" class=\"dataframe\">\n",
       "  <thead>\n",
       "    <tr style=\"text-align: right;\">\n",
       "      <th></th>\n",
       "      <th>overall</th>\n",
       "      <th>reviewTime</th>\n",
       "      <th>reviewText</th>\n",
       "      <th>summary</th>\n",
       "    </tr>\n",
       "  </thead>\n",
       "  <tbody>\n",
       "    <tr>\n",
       "      <th>0</th>\n",
       "      <td>1.0</td>\n",
       "      <td>05 6, 2016</td>\n",
       "      <td>This reading did not have any real imagination...</td>\n",
       "      <td>This reading did not have any real imagination...</td>\n",
       "    </tr>\n",
       "    <tr>\n",
       "      <th>1</th>\n",
       "      <td>4.0</td>\n",
       "      <td>05 19, 2013</td>\n",
       "      <td>This is a good read,I just wish we would get m...</td>\n",
       "      <td>good read</td>\n",
       "    </tr>\n",
       "    <tr>\n",
       "      <th>2</th>\n",
       "      <td>1.0</td>\n",
       "      <td>09 16, 2016</td>\n",
       "      <td>Really?</td>\n",
       "      <td>One Star</td>\n",
       "    </tr>\n",
       "    <tr>\n",
       "      <th>3</th>\n",
       "      <td>3.0</td>\n",
       "      <td>12 5, 2014</td>\n",
       "      <td>I thought the book was kind of disjointed.  It...</td>\n",
       "      <td>The book had a good story, but just a confusin...</td>\n",
       "    </tr>\n",
       "    <tr>\n",
       "      <th>4</th>\n",
       "      <td>1.0</td>\n",
       "      <td>04 29, 2015</td>\n",
       "      <td>Really a waste of time. Horribly boring.</td>\n",
       "      <td>Save your time...not worth it.</td>\n",
       "    </tr>\n",
       "  </tbody>\n",
       "</table>\n",
       "</div>"
      ],
      "text/plain": [
       "   overall   reviewTime                                         reviewText  \\\n",
       "0      1.0   05 6, 2016  This reading did not have any real imagination...   \n",
       "1      4.0  05 19, 2013  This is a good read,I just wish we would get m...   \n",
       "2      1.0  09 16, 2016                                            Really?   \n",
       "3      3.0   12 5, 2014  I thought the book was kind of disjointed.  It...   \n",
       "4      1.0  04 29, 2015           Really a waste of time. Horribly boring.   \n",
       "\n",
       "                                             summary  \n",
       "0  This reading did not have any real imagination...  \n",
       "1                                          good read  \n",
       "2                                           One Star  \n",
       "3  The book had a good story, but just a confusin...  \n",
       "4                     Save your time...not worth it.  "
      ]
     },
     "execution_count": 17,
     "metadata": {},
     "output_type": "execute_result"
    }
   ],
   "source": [
    "balanced_df.head()"
   ]
  },
  {
   "cell_type": "code",
   "execution_count": 64,
   "id": "75c0fdc0-0863-4247-b913-1868715ced47",
   "metadata": {
    "tags": []
   },
   "outputs": [
    {
     "data": {
      "image/png": "[encoded data removed]",
      "text/plain": [
       "<Figure size 640x480 with 1 Axes>"
      ]
     },
     "metadata": {},
     "output_type": "display_data"
    }
   ],
   "source": [
    "value_counts_balanced = balanced_df['overall'].value_counts()\n",
    "\n",
    "# Plotting bar chart of counts for each value in 'Category' column\n",
    "# plt.figure(figsize=(8, 6))\n",
    "value_counts_balanced.plot(kind='bar', color='skyblue')\n",
    "plt.title('Counts for each value in scores column')\n",
    "plt.xlabel('Review score')\n",
    "plt.ylabel('Frequency')\n",
    "plt.xticks(rotation=0)  # Rotate x labels if needed\n",
    "plt.grid(axis='y')\n",
    "plt.show()"
   ]
  },
  {
   "cell_type": "code",
   "execution_count": 19,
   "id": "75a26814-2b1f-4709-8194-03705a5ba15a",
   "metadata": {
    "tags": []
   },
   "outputs": [],
   "source": [
    "balanced_df.to_csv(\"kindle_balanced.csv\", index=False)"
   ]
  },
  {
   "cell_type": "markdown",
   "id": "e3725eb2-da86-4b62-b45a-119978d3d5f3",
   "metadata": {},
   "source": [
    "## 3-category classification problem\n",
    "\n",
    "A simplified version of our original problem involves grouping the review scores into 'Positive', 'Negative' and 'Neutral' sentiment. That is, we group together the 4 and 5 star reviews for positive, 1 and 2 star reviews for negative and relabel 3 start reviews as neutral."
   ]
  },
  {
   "cell_type": "code",
   "execution_count": 20,
   "id": "e8c7079c-e5ea-42c8-ad3b-f4649c2c16df",
   "metadata": {
    "tags": []
   },
   "outputs": [],
   "source": [
    "# df_one = df_new[df_new['overall'] == 1]\n",
    "# df_two = df_new[df_new['overall'] == 2]\n",
    "# df_three = df_new[df_new['overall'] == 3]\n",
    "# df_four = df_new[df_new['overall'] == 4]\n",
    "# df_five = df_new[df_new['overall'] == 5]"
   ]
  },
  {
   "cell_type": "code",
   "execution_count": 33,
   "id": "be12261d-d80e-4e7e-a9c4-b365f03d62a9",
   "metadata": {
    "tags": []
   },
   "outputs": [],
   "source": [
    "df_sent = df_new.copy()"
   ]
  },
  {
   "cell_type": "code",
   "execution_count": 34,
   "id": "f2e17466-48a0-4d13-a15d-642f5c4488b7",
   "metadata": {
    "tags": []
   },
   "outputs": [],
   "source": [
    "scores_to_sentiment = {1:'Negative', 2:'Negative', 3:'Neutral', 4:'Positive', 5:'Positive'}\n",
    "\n",
    "# replace scores with sentiment labels\n",
    "df_sent['overall'] = df_sent['overall'].replace(scores_to_sentiment)"
   ]
  },
  {
   "cell_type": "code",
   "execution_count": 36,
   "id": "313de155-cdd0-4df0-940c-563ab539a5fb",
   "metadata": {
    "tags": []
   },
   "outputs": [
    {
     "data": {
      "text/plain": [
       "overall\n",
       "Positive    1197045\n",
       "Neutral      135302\n",
       "Negative      85690\n",
       "Name: count, dtype: int64"
      ]
     },
     "execution_count": 36,
     "metadata": {},
     "output_type": "execute_result"
    }
   ],
   "source": [
    "df_sent['overall'].value_counts()"
   ]
  },
  {
   "cell_type": "code",
   "execution_count": 39,
   "id": "07c50523-6cdc-41b4-9f8e-960f88e04fa9",
   "metadata": {
    "tags": []
   },
   "outputs": [
    {
     "data": {
      "text/html": [
       "<div>\n",
       "<style scoped>\n",
       "    .dataframe tbody tr th:only-of-type {\n",
       "        vertical-align: middle;\n",
       "    }\n",
       "\n",
       "    .dataframe tbody tr th {\n",
       "        vertical-align: top;\n",
       "    }\n",
       "\n",
       "    .dataframe thead th {\n",
       "        text-align: right;\n",
       "    }\n",
       "</style>\n",
       "<table border=\"1\" class=\"dataframe\">\n",
       "  <thead>\n",
       "    <tr style=\"text-align: right;\">\n",
       "      <th></th>\n",
       "      <th>overall</th>\n",
       "      <th>reviewTime</th>\n",
       "      <th>reviewText</th>\n",
       "      <th>summary</th>\n",
       "    </tr>\n",
       "  </thead>\n",
       "  <tbody>\n",
       "    <tr>\n",
       "      <th>0</th>\n",
       "      <td>Positive</td>\n",
       "      <td>07 3, 2014</td>\n",
       "      <td>pretty good story, a little exaggerated, but I...</td>\n",
       "      <td>pretty good story</td>\n",
       "    </tr>\n",
       "    <tr>\n",
       "      <th>1</th>\n",
       "      <td>Positive</td>\n",
       "      <td>05 26, 2014</td>\n",
       "      <td>If you've read other max brand westerns, you k...</td>\n",
       "      <td>A very good book</td>\n",
       "    </tr>\n",
       "    <tr>\n",
       "      <th>2</th>\n",
       "      <td>Positive</td>\n",
       "      <td>09 16, 2016</td>\n",
       "      <td>Love Max, always a fun twist</td>\n",
       "      <td>Five Stars</td>\n",
       "    </tr>\n",
       "    <tr>\n",
       "      <th>3</th>\n",
       "      <td>Positive</td>\n",
       "      <td>03 3, 2016</td>\n",
       "      <td>As usual for him, a good book</td>\n",
       "      <td>a good</td>\n",
       "    </tr>\n",
       "    <tr>\n",
       "      <th>4</th>\n",
       "      <td>Positive</td>\n",
       "      <td>09 10, 2015</td>\n",
       "      <td>MB is one of the original western writers and ...</td>\n",
       "      <td>A Western</td>\n",
       "    </tr>\n",
       "  </tbody>\n",
       "</table>\n",
       "</div>"
      ],
      "text/plain": [
       "    overall   reviewTime                                         reviewText  \\\n",
       "0  Positive   07 3, 2014  pretty good story, a little exaggerated, but I...   \n",
       "1  Positive  05 26, 2014  If you've read other max brand westerns, you k...   \n",
       "2  Positive  09 16, 2016                       Love Max, always a fun twist   \n",
       "3  Positive   03 3, 2016                      As usual for him, a good book   \n",
       "4  Positive  09 10, 2015  MB is one of the original western writers and ...   \n",
       "\n",
       "             summary  \n",
       "0  pretty good story  \n",
       "1   A very good book  \n",
       "2         Five Stars  \n",
       "3             a good  \n",
       "4          A Western  "
      ]
     },
     "execution_count": 39,
     "metadata": {},
     "output_type": "execute_result"
    }
   ],
   "source": [
    "df_sent.head()"
   ]
  },
  {
   "cell_type": "code",
   "execution_count": 65,
   "id": "d22b759c-931c-40e3-acce-eff2ee5de724",
   "metadata": {
    "tags": []
   },
   "outputs": [
    {
     "data": {
      "image/png": "[encoded data removed]",
      "text/plain": [
       "<Figure size 640x480 with 1 Axes>"
      ]
     },
     "metadata": {},
     "output_type": "display_data"
    }
   ],
   "source": [
    "df_sent['overall'].value_counts().plot(kind='bar', color='springgreen')\n",
    "plt.title('Logarithmic counts for each sentiment class')\n",
    "plt.xlabel('Review sentiment')\n",
    "plt.ylabel('Frequency')\n",
    "plt.yscale('log')\n",
    "plt.xticks(rotation=45)  # Rotate x labels if needed\n",
    "plt.grid(axis='y')\n",
    "plt.show()"
   ]
  },
  {
   "cell_type": "code",
   "execution_count": 45,
   "id": "9ce57df6-b281-4443-9c60-a9efb0e73ba3",
   "metadata": {
    "tags": []
   },
   "outputs": [],
   "source": [
    "# Calculate the minimum count among the different score values\n",
    "min_count_sent = df_sent['overall'].value_counts().min()\n",
    "\n",
    "# Undersample each score value to have the same count as the minimum count\n",
    "balanced_df_sent = pd.concat([\n",
    "    df_sent[df_sent['overall'] == score].sample(min_count_sent) for score in df_sent['overall'].unique()\n",
    "])\n",
    "\n",
    "# Shuffle the balanced DataFrame\n",
    "balanced_df_sent = balanced_df_sent.sample(frac=1).reset_index(drop=True)"
   ]
  },
  {
   "cell_type": "code",
   "execution_count": 66,
   "id": "9714795d-1ed3-47e0-a687-6b947ce6dc8d",
   "metadata": {
    "tags": []
   },
   "outputs": [
    {
     "data": {
      "image/png": "[encoded data removed]",
      "text/plain": [
       "<Figure size 640x480 with 1 Axes>"
      ]
     },
     "metadata": {},
     "output_type": "display_data"
    }
   ],
   "source": [
    "balanced_df_sent['overall'].value_counts().plot(kind='bar', color='springgreen')\n",
    "plt.title('Counts for each sentiment class')\n",
    "plt.xlabel('Review sentiment')\n",
    "plt.ylabel('Frequency')\n",
    "plt.xticks(rotation=45)  # Rotate x labels if needed\n",
    "plt.grid(axis='y')\n",
    "plt.show()"
   ]
  },
  {
   "cell_type": "code",
   "execution_count": 54,
   "id": "a1b3a43c-b797-49f3-a8d2-7f4e6dab6b74",
   "metadata": {
    "tags": []
   },
   "outputs": [],
   "source": [
    "balanced_df_sent.to_csv('three_class_balanced.csv', index=False)"
   ]
  },
  {
   "cell_type": "code",
   "execution_count": null,
   "id": "fd2d7d88-3d2a-42f0-a7c4-9e7ac89c6568",
   "metadata": {},
   "outputs": [],
   "source": []
  }
 ],
 "metadata": {
  "kernelspec": {
   "display_name": "Python 3 (ipykernel)",
   "language": "python",
   "name": "python3"
  },
  "language_info": {
   "codemirror_mode": {
    "name": "ipython",
    "version": 3
   },
   "file_extension": ".py",
   "mimetype": "text/x-python",
   "name": "python",
   "nbconvert_exporter": "python",
   "pygments_lexer": "ipython3",
   "version": "3.11.5"
  }
 },
 "nbformat": 4,
 "nbformat_minor": 5
}
