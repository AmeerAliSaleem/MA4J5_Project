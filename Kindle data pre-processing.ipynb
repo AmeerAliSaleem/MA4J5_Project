{
 "cells": [
  {
   "cell_type": "markdown",
   "id": "89b2966f-a31c-48c9-8ae2-72b4cf750d93",
   "metadata": {},
   "source": [
    "# Kindle data: data pre-processing\n",
    "---\n",
    "\n",
    "We are using Amazon Kindle review data, the source of which can be found <a href='https://nijianmo.github.io/amazon/index.html'>here</a>.\n",
    "\n",
    "Before inputting our data straight into any neural network, it is important to get a grasp of the raw data and make any necessary amendments."
   ]
  },
  {
   "cell_type": "code",
   "execution_count": 1,
   "id": "24f8245b-87ab-4979-9ce4-184e3ae471ca",
   "metadata": {
    "tags": []
   },
   "outputs": [],
   "source": [
    "# imports\n",
    "import pandas as pd\n",
    "import gzip\n",
    "import json\n",
    "import matplotlib.pyplot as plt\n",
    "import seaborn as sns"
   ]
  },
  {
   "cell_type": "code",
   "execution_count": 2,
   "id": "fb1f0b5d-e4ad-4cb2-b7a5-9e5b3b55a476",
   "metadata": {
    "tags": []
   },
   "outputs": [],
   "source": [
    "# scraping data from online repository\n",
    "\n",
    "def parse(path):\n",
    "  g = gzip.open(path, 'rb')\n",
    "  for l in g:\n",
    "    yield json.loads(l)\n",
    "\n",
    "def getDF(path):\n",
    "  i = 0\n",
    "  df = {}\n",
    "  for d in parse(path):\n",
    "    df[i] = d\n",
    "    i += 1\n",
    "  return pd.DataFrame.from_dict(df, orient='index')"
   ]
  },
  {
   "cell_type": "markdown",
   "id": "369971b0-5f6b-4780-b286-add6ec86ea46",
   "metadata": {},
   "source": [
    "### The below cell takes a VERY long time to run, since we are scraping the (very large) dataset from the online source."
   ]
  },
  {
   "cell_type": "code",
   "execution_count": 3,
   "id": "de7134f4-0af5-45d9-8926-0320bf7cbeeb",
   "metadata": {
    "tags": []
   },
   "outputs": [],
   "source": [
    "df = getDF('Kindle_Store_5.json.gz')"
   ]
  },
  {
   "cell_type": "code",
   "execution_count": 4,
   "id": "46075aac-95e8-4ab6-9978-dcb9bfa2d281",
   "metadata": {
    "tags": []
   },
   "outputs": [
    {
     "data": {
      "text/html": [
       "<div>\n",
       "<style scoped>\n",
       "    .dataframe tbody tr th:only-of-type {\n",
       "        vertical-align: middle;\n",
       "    }\n",
       "\n",
       "    .dataframe tbody tr th {\n",
       "        vertical-align: top;\n",
       "    }\n",
       "\n",
       "    .dataframe thead th {\n",
       "        text-align: right;\n",
       "    }\n",
       "</style>\n",
       "<table border=\"1\" class=\"dataframe\">\n",
       "  <thead>\n",
       "    <tr style=\"text-align: right;\">\n",
       "      <th></th>\n",
       "      <th>overall</th>\n",
       "      <th>verified</th>\n",
       "      <th>reviewTime</th>\n",
       "      <th>reviewerID</th>\n",
       "      <th>asin</th>\n",
       "      <th>style</th>\n",
       "      <th>reviewerName</th>\n",
       "      <th>reviewText</th>\n",
       "      <th>summary</th>\n",
       "      <th>unixReviewTime</th>\n",
       "      <th>vote</th>\n",
       "      <th>image</th>\n",
       "    </tr>\n",
       "  </thead>\n",
       "  <tbody>\n",
       "    <tr>\n",
       "      <th>0</th>\n",
       "      <td>4.0</td>\n",
       "      <td>True</td>\n",
       "      <td>07 3, 2014</td>\n",
       "      <td>A2LSKD2H9U8N0J</td>\n",
       "      <td>B000FA5KK0</td>\n",
       "      <td>{'Format:': ' Kindle Edition'}</td>\n",
       "      <td>sandra sue marsolek</td>\n",
       "      <td>pretty good story, a little exaggerated, but I...</td>\n",
       "      <td>pretty good story</td>\n",
       "      <td>1404345600</td>\n",
       "      <td>NaN</td>\n",
       "      <td>NaN</td>\n",
       "    </tr>\n",
       "    <tr>\n",
       "      <th>1</th>\n",
       "      <td>5.0</td>\n",
       "      <td>True</td>\n",
       "      <td>05 26, 2014</td>\n",
       "      <td>A2QP13XTJND1QS</td>\n",
       "      <td>B000FA5KK0</td>\n",
       "      <td>{'Format:': ' Kindle Edition'}</td>\n",
       "      <td>Tpl</td>\n",
       "      <td>If you've read other max brand westerns, you k...</td>\n",
       "      <td>A very good book</td>\n",
       "      <td>1401062400</td>\n",
       "      <td>NaN</td>\n",
       "      <td>NaN</td>\n",
       "    </tr>\n",
       "    <tr>\n",
       "      <th>2</th>\n",
       "      <td>5.0</td>\n",
       "      <td>True</td>\n",
       "      <td>09 16, 2016</td>\n",
       "      <td>A8WQ7MAG3HFOZ</td>\n",
       "      <td>B000FA5KK0</td>\n",
       "      <td>{'Format:': ' Kindle Edition'}</td>\n",
       "      <td>Alverne F. Anderson</td>\n",
       "      <td>Love Max, always a fun twist</td>\n",
       "      <td>Five Stars</td>\n",
       "      <td>1473984000</td>\n",
       "      <td>NaN</td>\n",
       "      <td>NaN</td>\n",
       "    </tr>\n",
       "    <tr>\n",
       "      <th>3</th>\n",
       "      <td>5.0</td>\n",
       "      <td>True</td>\n",
       "      <td>03 3, 2016</td>\n",
       "      <td>A1E0MODSRYP7O</td>\n",
       "      <td>B000FA5KK0</td>\n",
       "      <td>{'Format:': ' Kindle Edition'}</td>\n",
       "      <td>Jeff</td>\n",
       "      <td>As usual for him, a good book</td>\n",
       "      <td>a good</td>\n",
       "      <td>1456963200</td>\n",
       "      <td>NaN</td>\n",
       "      <td>NaN</td>\n",
       "    </tr>\n",
       "    <tr>\n",
       "      <th>4</th>\n",
       "      <td>5.0</td>\n",
       "      <td>True</td>\n",
       "      <td>09 10, 2015</td>\n",
       "      <td>AYUTCGVSM1H7T</td>\n",
       "      <td>B000FA5KK0</td>\n",
       "      <td>{'Format:': ' Kindle Edition'}</td>\n",
       "      <td>DEHS - EddyRapcon</td>\n",
       "      <td>MB is one of the original western writers and ...</td>\n",
       "      <td>A Western</td>\n",
       "      <td>1441843200</td>\n",
       "      <td>2</td>\n",
       "      <td>NaN</td>\n",
       "    </tr>\n",
       "  </tbody>\n",
       "</table>\n",
       "</div>"
      ],
      "text/plain": [
       "   overall  verified   reviewTime      reviewerID        asin  \\\n",
       "0      4.0      True   07 3, 2014  A2LSKD2H9U8N0J  B000FA5KK0   \n",
       "1      5.0      True  05 26, 2014  A2QP13XTJND1QS  B000FA5KK0   \n",
       "2      5.0      True  09 16, 2016   A8WQ7MAG3HFOZ  B000FA5KK0   \n",
       "3      5.0      True   03 3, 2016   A1E0MODSRYP7O  B000FA5KK0   \n",
       "4      5.0      True  09 10, 2015   AYUTCGVSM1H7T  B000FA5KK0   \n",
       "\n",
       "                            style         reviewerName  \\\n",
       "0  {'Format:': ' Kindle Edition'}  sandra sue marsolek   \n",
       "1  {'Format:': ' Kindle Edition'}                  Tpl   \n",
       "2  {'Format:': ' Kindle Edition'}  Alverne F. Anderson   \n",
       "3  {'Format:': ' Kindle Edition'}                 Jeff   \n",
       "4  {'Format:': ' Kindle Edition'}    DEHS - EddyRapcon   \n",
       "\n",
       "                                          reviewText            summary  \\\n",
       "0  pretty good story, a little exaggerated, but I...  pretty good story   \n",
       "1  If you've read other max brand westerns, you k...   A very good book   \n",
       "2                       Love Max, always a fun twist         Five Stars   \n",
       "3                      As usual for him, a good book             a good   \n",
       "4  MB is one of the original western writers and ...          A Western   \n",
       "\n",
       "   unixReviewTime vote image  \n",
       "0      1404345600  NaN   NaN  \n",
       "1      1401062400  NaN   NaN  \n",
       "2      1473984000  NaN   NaN  \n",
       "3      1456963200  NaN   NaN  \n",
       "4      1441843200    2   NaN  "
      ]
     },
     "execution_count": 4,
     "metadata": {},
     "output_type": "execute_result"
    }
   ],
   "source": [
    "df.head()"
   ]
  },
  {
   "cell_type": "code",
   "execution_count": 5,
   "id": "1a31ef50-7501-42df-83e1-9e6ea8ad6bec",
   "metadata": {
    "tags": []
   },
   "outputs": [
    {
     "data": {
      "text/html": [
       "<div>\n",
       "<style scoped>\n",
       "    .dataframe tbody tr th:only-of-type {\n",
       "        vertical-align: middle;\n",
       "    }\n",
       "\n",
       "    .dataframe tbody tr th {\n",
       "        vertical-align: top;\n",
       "    }\n",
       "\n",
       "    .dataframe thead th {\n",
       "        text-align: right;\n",
       "    }\n",
       "</style>\n",
       "<table border=\"1\" class=\"dataframe\">\n",
       "  <thead>\n",
       "    <tr style=\"text-align: right;\">\n",
       "      <th></th>\n",
       "      <th>overall</th>\n",
       "      <th>unixReviewTime</th>\n",
       "    </tr>\n",
       "  </thead>\n",
       "  <tbody>\n",
       "    <tr>\n",
       "      <th>count</th>\n",
       "      <td>2.222983e+06</td>\n",
       "      <td>2.222983e+06</td>\n",
       "    </tr>\n",
       "    <tr>\n",
       "      <th>mean</th>\n",
       "      <td>4.394687e+00</td>\n",
       "      <td>1.433041e+09</td>\n",
       "    </tr>\n",
       "    <tr>\n",
       "      <th>std</th>\n",
       "      <td>9.260669e-01</td>\n",
       "      <td>4.430677e+07</td>\n",
       "    </tr>\n",
       "    <tr>\n",
       "      <th>min</th>\n",
       "      <td>1.000000e+00</td>\n",
       "      <td>8.820576e+08</td>\n",
       "    </tr>\n",
       "    <tr>\n",
       "      <th>25%</th>\n",
       "      <td>4.000000e+00</td>\n",
       "      <td>1.404778e+09</td>\n",
       "    </tr>\n",
       "    <tr>\n",
       "      <th>50%</th>\n",
       "      <td>5.000000e+00</td>\n",
       "      <td>1.434672e+09</td>\n",
       "    </tr>\n",
       "    <tr>\n",
       "      <th>75%</th>\n",
       "      <td>5.000000e+00</td>\n",
       "      <td>1.462234e+09</td>\n",
       "    </tr>\n",
       "    <tr>\n",
       "      <th>max</th>\n",
       "      <td>5.000000e+00</td>\n",
       "      <td>1.538525e+09</td>\n",
       "    </tr>\n",
       "  </tbody>\n",
       "</table>\n",
       "</div>"
      ],
      "text/plain": [
       "            overall  unixReviewTime\n",
       "count  2.222983e+06    2.222983e+06\n",
       "mean   4.394687e+00    1.433041e+09\n",
       "std    9.260669e-01    4.430677e+07\n",
       "min    1.000000e+00    8.820576e+08\n",
       "25%    4.000000e+00    1.404778e+09\n",
       "50%    5.000000e+00    1.434672e+09\n",
       "75%    5.000000e+00    1.462234e+09\n",
       "max    5.000000e+00    1.538525e+09"
      ]
     },
     "execution_count": 5,
     "metadata": {},
     "output_type": "execute_result"
    }
   ],
   "source": [
    "df.describe()"
   ]
  },
  {
   "cell_type": "code",
   "execution_count": 6,
   "id": "ad2bc76f-dd80-4629-a9e4-688769449891",
   "metadata": {
    "tags": []
   },
   "outputs": [
    {
     "name": "stdout",
     "output_type": "stream",
     "text": [
      "<class 'pandas.core.frame.DataFrame'>\n",
      "Index: 2222983 entries, 0 to 2222982\n",
      "Data columns (total 12 columns):\n",
      " #   Column          Dtype  \n",
      "---  ------          -----  \n",
      " 0   overall         float64\n",
      " 1   verified        bool   \n",
      " 2   reviewTime      object \n",
      " 3   reviewerID      object \n",
      " 4   asin            object \n",
      " 5   style           object \n",
      " 6   reviewerName    object \n",
      " 7   reviewText      object \n",
      " 8   summary         object \n",
      " 9   unixReviewTime  int64  \n",
      " 10  vote            object \n",
      " 11  image           object \n",
      "dtypes: bool(1), float64(1), int64(1), object(9)\n",
      "memory usage: 205.6+ MB\n"
     ]
    }
   ],
   "source": [
    "df.info()"
   ]
  },
  {
   "cell_type": "markdown",
   "id": "cad6124e-1e91-4a9c-ab00-23f5af20297b",
   "metadata": {},
   "source": [
    "We begin by removing any unverified reviews and removing unnecessary columns:"
   ]
  },
  {
   "cell_type": "code",
   "execution_count": 7,
   "id": "a54af3ab-4365-494b-a353-10e7af0ad998",
   "metadata": {
    "tags": []
   },
   "outputs": [],
   "source": [
    "# cleaning up the dataset\n",
    "\n",
    "# only include verified reviews\n",
    "df_new = df[df[\"verified\"] == True]"
   ]
  },
  {
   "cell_type": "code",
   "execution_count": 8,
   "id": "d8d6faeb-9ff2-42b0-b92d-a3e42b0ed24b",
   "metadata": {
    "tags": []
   },
   "outputs": [],
   "source": [
    "# removing unnecessary columns\n",
    "df_new = df_new[[\"overall\", \"reviewTime\", \"reviewText\", \"summary\"]]"
   ]
  },
  {
   "cell_type": "code",
   "execution_count": 9,
   "id": "632c0fc7-f5f1-44ba-beec-d5eb6dcdb192",
   "metadata": {
    "tags": []
   },
   "outputs": [
    {
     "name": "stdout",
     "output_type": "stream",
     "text": [
      "<class 'pandas.core.frame.DataFrame'>\n",
      "Index: 1418037 entries, 0 to 2222982\n",
      "Data columns (total 4 columns):\n",
      " #   Column      Non-Null Count    Dtype  \n",
      "---  ------      --------------    -----  \n",
      " 0   overall     1418037 non-null  float64\n",
      " 1   reviewTime  1418037 non-null  object \n",
      " 2   reviewText  1417696 non-null  object \n",
      " 3   summary     1417127 non-null  object \n",
      "dtypes: float64(1), object(3)\n",
      "memory usage: 54.1+ MB\n"
     ]
    }
   ],
   "source": [
    "df_new.info()"
   ]
  },
  {
   "cell_type": "code",
   "execution_count": 10,
   "id": "163a2064-32c2-4c2e-bd74-a81b0b107ba4",
   "metadata": {
    "tags": []
   },
   "outputs": [
    {
     "data": {
      "text/html": [
       "<div>\n",
       "<style scoped>\n",
       "    .dataframe tbody tr th:only-of-type {\n",
       "        vertical-align: middle;\n",
       "    }\n",
       "\n",
       "    .dataframe tbody tr th {\n",
       "        vertical-align: top;\n",
       "    }\n",
       "\n",
       "    .dataframe thead th {\n",
       "        text-align: right;\n",
       "    }\n",
       "</style>\n",
       "<table border=\"1\" class=\"dataframe\">\n",
       "  <thead>\n",
       "    <tr style=\"text-align: right;\">\n",
       "      <th></th>\n",
       "      <th>overall</th>\n",
       "      <th>reviewTime</th>\n",
       "      <th>reviewText</th>\n",
       "      <th>summary</th>\n",
       "    </tr>\n",
       "  </thead>\n",
       "  <tbody>\n",
       "    <tr>\n",
       "      <th>0</th>\n",
       "      <td>4.0</td>\n",
       "      <td>07 3, 2014</td>\n",
       "      <td>pretty good story, a little exaggerated, but I...</td>\n",
       "      <td>pretty good story</td>\n",
       "    </tr>\n",
       "    <tr>\n",
       "      <th>1</th>\n",
       "      <td>5.0</td>\n",
       "      <td>05 26, 2014</td>\n",
       "      <td>If you've read other max brand westerns, you k...</td>\n",
       "      <td>A very good book</td>\n",
       "    </tr>\n",
       "    <tr>\n",
       "      <th>2</th>\n",
       "      <td>5.0</td>\n",
       "      <td>09 16, 2016</td>\n",
       "      <td>Love Max, always a fun twist</td>\n",
       "      <td>Five Stars</td>\n",
       "    </tr>\n",
       "    <tr>\n",
       "      <th>3</th>\n",
       "      <td>5.0</td>\n",
       "      <td>03 3, 2016</td>\n",
       "      <td>As usual for him, a good book</td>\n",
       "      <td>a good</td>\n",
       "    </tr>\n",
       "    <tr>\n",
       "      <th>4</th>\n",
       "      <td>5.0</td>\n",
       "      <td>09 10, 2015</td>\n",
       "      <td>MB is one of the original western writers and ...</td>\n",
       "      <td>A Western</td>\n",
       "    </tr>\n",
       "  </tbody>\n",
       "</table>\n",
       "</div>"
      ],
      "text/plain": [
       "   overall   reviewTime                                         reviewText  \\\n",
       "0      4.0   07 3, 2014  pretty good story, a little exaggerated, but I...   \n",
       "1      5.0  05 26, 2014  If you've read other max brand westerns, you k...   \n",
       "2      5.0  09 16, 2016                       Love Max, always a fun twist   \n",
       "3      5.0   03 3, 2016                      As usual for him, a good book   \n",
       "4      5.0  09 10, 2015  MB is one of the original western writers and ...   \n",
       "\n",
       "             summary  \n",
       "0  pretty good story  \n",
       "1   A very good book  \n",
       "2         Five Stars  \n",
       "3             a good  \n",
       "4          A Western  "
      ]
     },
     "execution_count": 10,
     "metadata": {},
     "output_type": "execute_result"
    }
   ],
   "source": [
    "df_new.head()"
   ]
  },
  {
   "cell_type": "markdown",
   "id": "83ef9b7a-fd3f-42eb-a1d2-dfbedd91dbb2",
   "metadata": {},
   "source": [
    "## 5-category classification problem"
   ]
  },
  {
   "cell_type": "code",
   "execution_count": 11,
   "id": "279d0e45-54b6-4d7c-bdf9-9e1810f42e38",
   "metadata": {
    "tags": []
   },
   "outputs": [
    {
     "data": {
      "text/html": [
       "<div>\n",
       "<style scoped>\n",
       "    .dataframe tbody tr th:only-of-type {\n",
       "        vertical-align: middle;\n",
       "    }\n",
       "\n",
       "    .dataframe tbody tr th {\n",
       "        vertical-align: top;\n",
       "    }\n",
       "\n",
       "    .dataframe thead th {\n",
       "        text-align: right;\n",
       "    }\n",
       "</style>\n",
       "<table border=\"1\" class=\"dataframe\">\n",
       "  <thead>\n",
       "    <tr style=\"text-align: right;\">\n",
       "      <th></th>\n",
       "      <th>overall</th>\n",
       "      <th>reviewTime</th>\n",
       "      <th>reviewText</th>\n",
       "      <th>summary</th>\n",
       "    </tr>\n",
       "  </thead>\n",
       "  <tbody>\n",
       "    <tr>\n",
       "      <th>1835207</th>\n",
       "      <td>1.0</td>\n",
       "      <td>06 16, 2016</td>\n",
       "      <td>This is terrible and, sadly, could have been g...</td>\n",
       "      <td>Tripe</td>\n",
       "    </tr>\n",
       "    <tr>\n",
       "      <th>2167108</th>\n",
       "      <td>1.0</td>\n",
       "      <td>03 14, 2016</td>\n",
       "      <td>The whole diary thing didn't work at all.  It ...</td>\n",
       "      <td>Stupid idea</td>\n",
       "    </tr>\n",
       "    <tr>\n",
       "      <th>943273</th>\n",
       "      <td>1.0</td>\n",
       "      <td>03 20, 2017</td>\n",
       "      <td>This is a free short story on Amazon. It's fil...</td>\n",
       "      <td>Not for me</td>\n",
       "    </tr>\n",
       "    <tr>\n",
       "      <th>2167105</th>\n",
       "      <td>1.0</td>\n",
       "      <td>10 28, 2016</td>\n",
       "      <td>Free at least! That's the best part about this...</td>\n",
       "      <td>Considering it is free.</td>\n",
       "    </tr>\n",
       "    <tr>\n",
       "      <th>2167103</th>\n",
       "      <td>1.0</td>\n",
       "      <td>01 10, 2018</td>\n",
       "      <td>A waste of time should have started woth the s...</td>\n",
       "      <td>Dont waste your time</td>\n",
       "    </tr>\n",
       "  </tbody>\n",
       "</table>\n",
       "</div>"
      ],
      "text/plain": [
       "         overall   reviewTime  \\\n",
       "1835207      1.0  06 16, 2016   \n",
       "2167108      1.0  03 14, 2016   \n",
       "943273       1.0  03 20, 2017   \n",
       "2167105      1.0  10 28, 2016   \n",
       "2167103      1.0  01 10, 2018   \n",
       "\n",
       "                                                reviewText  \\\n",
       "1835207  This is terrible and, sadly, could have been g...   \n",
       "2167108  The whole diary thing didn't work at all.  It ...   \n",
       "943273   This is a free short story on Amazon. It's fil...   \n",
       "2167105  Free at least! That's the best part about this...   \n",
       "2167103  A waste of time should have started woth the s...   \n",
       "\n",
       "                         summary  \n",
       "1835207                    Tripe  \n",
       "2167108              Stupid idea  \n",
       "943273                Not for me  \n",
       "2167105  Considering it is free.  \n",
       "2167103     Dont waste your time  "
      ]
     },
     "execution_count": 11,
     "metadata": {},
     "output_type": "execute_result"
    }
   ],
   "source": [
    "df_new = df_new.sort_values('overall')\n",
    "\n",
    "df_new.head()"
   ]
  },
  {
   "cell_type": "code",
   "execution_count": 12,
   "id": "af3613c2-09da-4c37-b065-f156bbc0dd8b",
   "metadata": {
    "tags": []
   },
   "outputs": [
    {
     "data": {
      "image/png": "[encoded data removed]",
      "text/plain": [
       "<Figure size 640x480 with 1 Axes>"
      ]
     },
     "metadata": {},
     "output_type": "display_data"
    }
   ],
   "source": [
    "value_counts = df_new['overall'].value_counts()\n",
    "\n",
    "# Plotting bar chart of counts for each value in 'Category' column\n",
    "#plt.figure(figsize=(8, 6))\n",
    "value_counts.plot(kind='bar', color='skyblue')\n",
    "plt.title('Counts for each value in scores column')\n",
    "plt.xlabel('Review score')\n",
    "plt.ylabel('Frequency')\n",
    "plt.xticks(rotation=0)  # Rotate x labels if needed\n",
    "plt.grid(axis='y')\n",
    "plt.show()"
   ]
  },
  {
   "cell_type": "markdown",
   "id": "72b1ab63-40dc-4495-81f3-c572cc8562bc",
   "metadata": {},
   "source": [
    "An imbalanced dataset will make it extremely difficult for our resultant model to learn properly. We utilise undersampling to mitigate the problem:"
   ]
  },
  {
   "cell_type": "code",
   "execution_count": 20,
   "id": "4e0c49a2-6ddb-49f4-95de-f58b75b3351f",
   "metadata": {
    "tags": []
   },
   "outputs": [],
   "source": [
    "# Calculate the minimum count among the different score values\n",
    "min_count = df_new['overall'].value_counts().min()\n",
    "\n",
    "# Undersample each score value to have the same count as the minimum count\n",
    "balanced_df = pd.concat([\n",
    "    df_new[df_new['overall'] == score].sample(min_count) for score in df_new['overall'].unique()\n",
    "])\n",
    "\n",
    "# Shuffle the balanced DataFrame\n",
    "balanced_df = balanced_df.sample(frac=1).reset_index(drop=True)"
   ]
  },
  {
   "cell_type": "code",
   "execution_count": 21,
   "id": "3e994fc4-422c-4734-97f2-44e3714a8f2a",
   "metadata": {
    "tags": []
   },
   "outputs": [
    {
     "name": "stdout",
     "output_type": "stream",
     "text": [
      "<class 'pandas.core.frame.DataFrame'>\n",
      "RangeIndex: 181465 entries, 0 to 181464\n",
      "Data columns (total 4 columns):\n",
      " #   Column      Non-Null Count   Dtype  \n",
      "---  ------      --------------   -----  \n",
      " 0   overall     181465 non-null  float64\n",
      " 1   reviewTime  181465 non-null  object \n",
      " 2   reviewText  181433 non-null  object \n",
      " 3   summary     181383 non-null  object \n",
      "dtypes: float64(1), object(3)\n",
      "memory usage: 5.5+ MB\n"
     ]
    }
   ],
   "source": [
    "balanced_df.info()"
   ]
  },
  {
   "cell_type": "code",
   "execution_count": 22,
   "id": "56cca241-6c86-4925-aa0c-89f36eeffd76",
   "metadata": {
    "tags": []
   },
   "outputs": [
    {
     "data": {
      "text/html": [
       "<div>\n",
       "<style scoped>\n",
       "    .dataframe tbody tr th:only-of-type {\n",
       "        vertical-align: middle;\n",
       "    }\n",
       "\n",
       "    .dataframe tbody tr th {\n",
       "        vertical-align: top;\n",
       "    }\n",
       "\n",
       "    .dataframe thead th {\n",
       "        text-align: right;\n",
       "    }\n",
       "</style>\n",
       "<table border=\"1\" class=\"dataframe\">\n",
       "  <thead>\n",
       "    <tr style=\"text-align: right;\">\n",
       "      <th></th>\n",
       "      <th>overall</th>\n",
       "      <th>reviewTime</th>\n",
       "      <th>reviewText</th>\n",
       "      <th>summary</th>\n",
       "    </tr>\n",
       "  </thead>\n",
       "  <tbody>\n",
       "    <tr>\n",
       "      <th>0</th>\n",
       "      <td>3.0</td>\n",
       "      <td>05 1, 2015</td>\n",
       "      <td>Si bien es entretenido y una lectura f&amp;aacute;...</td>\n",
       "      <td>Poco original</td>\n",
       "    </tr>\n",
       "    <tr>\n",
       "      <th>1</th>\n",
       "      <td>4.0</td>\n",
       "      <td>10 23, 2015</td>\n",
       "      <td>Love Mary Calmes and love this series.</td>\n",
       "      <td>Four Stars</td>\n",
       "    </tr>\n",
       "    <tr>\n",
       "      <th>2</th>\n",
       "      <td>2.0</td>\n",
       "      <td>03 11, 2015</td>\n",
       "      <td>I am a huge Charlie Richards fan. I have read ...</td>\n",
       "      <td>I guess I am spoiled...</td>\n",
       "    </tr>\n",
       "    <tr>\n",
       "      <th>3</th>\n",
       "      <td>3.0</td>\n",
       "      <td>03 22, 2016</td>\n",
       "      <td>I was captivated by the characters in this nov...</td>\n",
       "      <td>Interesting read</td>\n",
       "    </tr>\n",
       "    <tr>\n",
       "      <th>4</th>\n",
       "      <td>3.0</td>\n",
       "      <td>10 27, 2013</td>\n",
       "      <td>Not bad, but way too sweet for me, it needed a...</td>\n",
       "      <td>Sweet</td>\n",
       "    </tr>\n",
       "  </tbody>\n",
       "</table>\n",
       "</div>"
      ],
      "text/plain": [
       "   overall   reviewTime                                         reviewText  \\\n",
       "0      3.0   05 1, 2015  Si bien es entretenido y una lectura f&aacute;...   \n",
       "1      4.0  10 23, 2015             Love Mary Calmes and love this series.   \n",
       "2      2.0  03 11, 2015  I am a huge Charlie Richards fan. I have read ...   \n",
       "3      3.0  03 22, 2016  I was captivated by the characters in this nov...   \n",
       "4      3.0  10 27, 2013  Not bad, but way too sweet for me, it needed a...   \n",
       "\n",
       "                   summary  \n",
       "0            Poco original  \n",
       "1               Four Stars  \n",
       "2  I guess I am spoiled...  \n",
       "3         Interesting read  \n",
       "4                    Sweet  "
      ]
     },
     "execution_count": 22,
     "metadata": {},
     "output_type": "execute_result"
    }
   ],
   "source": [
    "balanced_df.head()"
   ]
  },
  {
   "cell_type": "code",
   "execution_count": 23,
   "id": "75c0fdc0-0863-4247-b913-1868715ced47",
   "metadata": {
    "tags": []
   },
   "outputs": [
    {
     "data": {
      "image/png": "[encoded data removed]",
      "text/plain": [
       "<Figure size 640x480 with 1 Axes>"
      ]
     },
     "metadata": {},
     "output_type": "display_data"
    }
   ],
   "source": [
    "value_counts_balanced = balanced_df['overall'].value_counts()\n",
    "\n",
    "# Plotting bar chart of counts for each value in 'Category' column\n",
    "# plt.figure(figsize=(8, 6))\n",
    "value_counts_balanced.plot(kind='bar', color='skyblue')\n",
    "plt.title('Counts for each value in scores column')\n",
    "plt.xlabel('Review score')\n",
    "plt.ylabel('Frequency')\n",
    "plt.xticks(rotation=0)  # Rotate x labels if needed\n",
    "plt.grid(axis='y')\n",
    "plt.show()"
   ]
  },
  {
   "cell_type": "code",
   "execution_count": 24,
   "id": "db1b4c7e-d752-435c-b8bd-ff0aea422c93",
   "metadata": {
    "tags": []
   },
   "outputs": [
    {
     "data": {
      "text/html": [
       "<div>\n",
       "<style scoped>\n",
       "    .dataframe tbody tr th:only-of-type {\n",
       "        vertical-align: middle;\n",
       "    }\n",
       "\n",
       "    .dataframe tbody tr th {\n",
       "        vertical-align: top;\n",
       "    }\n",
       "\n",
       "    .dataframe thead th {\n",
       "        text-align: right;\n",
       "    }\n",
       "</style>\n",
       "<table border=\"1\" class=\"dataframe\">\n",
       "  <thead>\n",
       "    <tr style=\"text-align: right;\">\n",
       "      <th></th>\n",
       "      <th>overall</th>\n",
       "      <th>reviewTime</th>\n",
       "      <th>reviewText</th>\n",
       "      <th>summary</th>\n",
       "    </tr>\n",
       "  </thead>\n",
       "  <tbody>\n",
       "    <tr>\n",
       "      <th>136024</th>\n",
       "      <td>1.0</td>\n",
       "      <td>08 21, 2015</td>\n",
       "      <td>Good grief! Do cops really act like this. All ...</td>\n",
       "      <td>I think I've gained ten pounds!</td>\n",
       "    </tr>\n",
       "    <tr>\n",
       "      <th>114503</th>\n",
       "      <td>1.0</td>\n",
       "      <td>08 2, 2014</td>\n",
       "      <td>Bad. Just bad.</td>\n",
       "      <td>Don't waste your time</td>\n",
       "    </tr>\n",
       "    <tr>\n",
       "      <th>114505</th>\n",
       "      <td>1.0</td>\n",
       "      <td>01 22, 2018</td>\n",
       "      <td>Message to author:  the write up on your book ...</td>\n",
       "      <td>Forget it</td>\n",
       "    </tr>\n",
       "    <tr>\n",
       "      <th>67052</th>\n",
       "      <td>1.0</td>\n",
       "      <td>05 16, 2015</td>\n",
       "      <td>Single-handedly the worst book I have ever rea...</td>\n",
       "      <td>Slow read. Torture. Pure torture.</td>\n",
       "    </tr>\n",
       "    <tr>\n",
       "      <th>114511</th>\n",
       "      <td>1.0</td>\n",
       "      <td>02 14, 2015</td>\n",
       "      <td>Not my type of book.</td>\n",
       "      <td>One Star</td>\n",
       "    </tr>\n",
       "  </tbody>\n",
       "</table>\n",
       "</div>"
      ],
      "text/plain": [
       "        overall   reviewTime  \\\n",
       "136024      1.0  08 21, 2015   \n",
       "114503      1.0   08 2, 2014   \n",
       "114505      1.0  01 22, 2018   \n",
       "67052       1.0  05 16, 2015   \n",
       "114511      1.0  02 14, 2015   \n",
       "\n",
       "                                               reviewText  \\\n",
       "136024  Good grief! Do cops really act like this. All ...   \n",
       "114503                                     Bad. Just bad.   \n",
       "114505  Message to author:  the write up on your book ...   \n",
       "67052   Single-handedly the worst book I have ever rea...   \n",
       "114511                               Not my type of book.   \n",
       "\n",
       "                                  summary  \n",
       "136024    I think I've gained ten pounds!  \n",
       "114503              Don't waste your time  \n",
       "114505                          Forget it  \n",
       "67052   Slow read. Torture. Pure torture.  \n",
       "114511                           One Star  "
      ]
     },
     "execution_count": 24,
     "metadata": {},
     "output_type": "execute_result"
    }
   ],
   "source": [
    "balanced_df = balanced_df.sort_values('overall')\n",
    "\n",
    "balanced_df.head()"
   ]
  },
  {
   "cell_type": "code",
   "execution_count": 37,
   "id": "99164489-3d4d-4064-9322-9869b977f656",
   "metadata": {
    "tags": []
   },
   "outputs": [
    {
     "data": {
      "image/png": "[encoded data removed]",
      "text/plain": [
       "<Figure size 1000x500 with 2 Axes>"
      ]
     },
     "metadata": {},
     "output_type": "display_data"
    }
   ],
   "source": [
    "# convert floats to integers\n",
    "df_new['overall'] = df_new['overall'].astype(int)\n",
    "balanced_df['overall'] = balanced_df['overall'].astype(int)\n",
    "\n",
    "# countplots side by side\n",
    "sns.set()\n",
    "fig, ax =plt.subplots(1,2, figsize=((10,5)))\n",
    "sns.countplot(data=df_new, x='overall', ax=ax[0])\n",
    "sns.countplot(data=balanced_df, x='overall', ax=ax[1])\n",
    "\n",
    "ax[0].set_title('Counts of Raw Kindle Ratings')\n",
    "ax[0].set_xlabel('No. of Stars')\n",
    "ax[0].set_ylabel('Frequency')\n",
    "ax[1].set_title('Counts of Class-Balanced Kindle Ratings')\n",
    "ax[1].set_xlabel('No. of Stars')\n",
    "ax[1].set_ylabel('Frequency')\n",
    "\n",
    "plt.tight_layout()\n",
    "plt.show()"
   ]
  },
  {
   "cell_type": "code",
   "execution_count": 19,
   "id": "75a26814-2b1f-4709-8194-03705a5ba15a",
   "metadata": {
    "tags": []
   },
   "outputs": [],
   "source": [
    "balanced_df.to_csv(\"kindle_balanced.csv\", index=False)"
   ]
  },
  {
   "cell_type": "markdown",
   "id": "e3725eb2-da86-4b62-b45a-119978d3d5f3",
   "metadata": {},
   "source": [
    "## 3-category classification problem\n",
    "\n",
    "A simplified version of our original problem involves grouping the review scores into 'Positive', 'Negative' and 'Neutral' sentiment. That is, we group together the 4 and 5 star reviews for positive, 1 and 2 star reviews for negative and relabel 3 start reviews as neutral."
   ]
  },
  {
   "cell_type": "code",
   "execution_count": 20,
   "id": "e8c7079c-e5ea-42c8-ad3b-f4649c2c16df",
   "metadata": {
    "tags": []
   },
   "outputs": [],
   "source": [
    "# df_one = df_new[df_new['overall'] == 1]\n",
    "# df_two = df_new[df_new['overall'] == 2]\n",
    "# df_three = df_new[df_new['overall'] == 3]\n",
    "# df_four = df_new[df_new['overall'] == 4]\n",
    "# df_five = df_new[df_new['overall'] == 5]"
   ]
  },
  {
   "cell_type": "code",
   "execution_count": 33,
   "id": "be12261d-d80e-4e7e-a9c4-b365f03d62a9",
   "metadata": {
    "tags": []
   },
   "outputs": [],
   "source": [
    "df_sent = df_new.copy()"
   ]
  },
  {
   "cell_type": "code",
   "execution_count": 34,
   "id": "f2e17466-48a0-4d13-a15d-642f5c4488b7",
   "metadata": {
    "tags": []
   },
   "outputs": [],
   "source": [
    "scores_to_sentiment = {1:'Negative', 2:'Negative', 3:'Neutral', 4:'Positive', 5:'Positive'}\n",
    "\n",
    "# replace scores with sentiment labels\n",
    "df_sent['overall'] = df_sent['overall'].replace(scores_to_sentiment)"
   ]
  },
  {
   "cell_type": "code",
   "execution_count": 36,
   "id": "313de155-cdd0-4df0-940c-563ab539a5fb",
   "metadata": {
    "tags": []
   },
   "outputs": [
    {
     "data": {
      "text/plain": [
       "overall\n",
       "Positive    1197045\n",
       "Neutral      135302\n",
       "Negative      85690\n",
       "Name: count, dtype: int64"
      ]
     },
     "execution_count": 36,
     "metadata": {},
     "output_type": "execute_result"
    }
   ],
   "source": [
    "df_sent['overall'].value_counts()"
   ]
  },
  {
   "cell_type": "code",
   "execution_count": 39,
   "id": "07c50523-6cdc-41b4-9f8e-960f88e04fa9",
   "metadata": {
    "tags": []
   },
   "outputs": [
    {
     "data": {
      "text/html": [
       "<div>\n",
       "<style scoped>\n",
       "    .dataframe tbody tr th:only-of-type {\n",
       "        vertical-align: middle;\n",
       "    }\n",
       "\n",
       "    .dataframe tbody tr th {\n",
       "        vertical-align: top;\n",
       "    }\n",
       "\n",
       "    .dataframe thead th {\n",
       "        text-align: right;\n",
       "    }\n",
       "</style>\n",
       "<table border=\"1\" class=\"dataframe\">\n",
       "  <thead>\n",
       "    <tr style=\"text-align: right;\">\n",
       "      <th></th>\n",
       "      <th>overall</th>\n",
       "      <th>reviewTime</th>\n",
       "      <th>reviewText</th>\n",
       "      <th>summary</th>\n",
       "    </tr>\n",
       "  </thead>\n",
       "  <tbody>\n",
       "    <tr>\n",
       "      <th>0</th>\n",
       "      <td>Positive</td>\n",
       "      <td>07 3, 2014</td>\n",
       "      <td>pretty good story, a little exaggerated, but I...</td>\n",
       "      <td>pretty good story</td>\n",
       "    </tr>\n",
       "    <tr>\n",
       "      <th>1</th>\n",
       "      <td>Positive</td>\n",
       "      <td>05 26, 2014</td>\n",
       "      <td>If you've read other max brand westerns, you k...</td>\n",
       "      <td>A very good book</td>\n",
       "    </tr>\n",
       "    <tr>\n",
       "      <th>2</th>\n",
       "      <td>Positive</td>\n",
       "      <td>09 16, 2016</td>\n",
       "      <td>Love Max, always a fun twist</td>\n",
       "      <td>Five Stars</td>\n",
       "    </tr>\n",
       "    <tr>\n",
       "      <th>3</th>\n",
       "      <td>Positive</td>\n",
       "      <td>03 3, 2016</td>\n",
       "      <td>As usual for him, a good book</td>\n",
       "      <td>a good</td>\n",
       "    </tr>\n",
       "    <tr>\n",
       "      <th>4</th>\n",
       "      <td>Positive</td>\n",
       "      <td>09 10, 2015</td>\n",
       "      <td>MB is one of the original western writers and ...</td>\n",
       "      <td>A Western</td>\n",
       "    </tr>\n",
       "  </tbody>\n",
       "</table>\n",
       "</div>"
      ],
      "text/plain": [
       "    overall   reviewTime                                         reviewText  \\\n",
       "0  Positive   07 3, 2014  pretty good story, a little exaggerated, but I...   \n",
       "1  Positive  05 26, 2014  If you've read other max brand westerns, you k...   \n",
       "2  Positive  09 16, 2016                       Love Max, always a fun twist   \n",
       "3  Positive   03 3, 2016                      As usual for him, a good book   \n",
       "4  Positive  09 10, 2015  MB is one of the original western writers and ...   \n",
       "\n",
       "             summary  \n",
       "0  pretty good story  \n",
       "1   A very good book  \n",
       "2         Five Stars  \n",
       "3             a good  \n",
       "4          A Western  "
      ]
     },
     "execution_count": 39,
     "metadata": {},
     "output_type": "execute_result"
    }
   ],
   "source": [
    "df_sent.head()"
   ]
  },
  {
   "cell_type": "code",
   "execution_count": 65,
   "id": "d22b759c-931c-40e3-acce-eff2ee5de724",
   "metadata": {
    "tags": []
   },
   "outputs": [
    {
     "data": {
      "image/png": "[encoded data removed]",
      "text/plain": [
       "<Figure size 640x480 with 1 Axes>"
      ]
     },
     "metadata": {},
     "output_type": "display_data"
    }
   ],
   "source": [
    "df_sent['overall'].value_counts().plot(kind='bar', color='springgreen')\n",
    "plt.title('Logarithmic counts for each sentiment class')\n",
    "plt.xlabel('Review sentiment')\n",
    "plt.ylabel('Frequency')\n",
    "plt.yscale('log')\n",
    "plt.xticks(rotation=45)  # Rotate x labels if needed\n",
    "plt.grid(axis='y')\n",
    "plt.show()"
   ]
  },
  {
   "cell_type": "code",
   "execution_count": 45,
   "id": "9ce57df6-b281-4443-9c60-a9efb0e73ba3",
   "metadata": {
    "tags": []
   },
   "outputs": [],
   "source": [
    "# Calculate the minimum count among the different score values\n",
    "min_count_sent = df_sent['overall'].value_counts().min()\n",
    "\n",
    "# Undersample each score value to have the same count as the minimum count\n",
    "balanced_df_sent = pd.concat([\n",
    "    df_sent[df_sent['overall'] == score].sample(min_count_sent) for score in df_sent['overall'].unique()\n",
    "])\n",
    "\n",
    "# Shuffle the balanced DataFrame\n",
    "balanced_df_sent = balanced_df_sent.sample(frac=1).reset_index(drop=True)"
   ]
  },
  {
   "cell_type": "code",
   "execution_count": 66,
   "id": "9714795d-1ed3-47e0-a687-6b947ce6dc8d",
   "metadata": {
    "tags": []
   },
   "outputs": [
    {
     "data": {
      "image/png": "[encoded data removed]",
      "text/plain": [
       "<Figure size 640x480 with 1 Axes>"
      ]
     },
     "metadata": {},
     "output_type": "display_data"
    }
   ],
   "source": [
    "balanced_df_sent['overall'].value_counts().plot(kind='bar', color='springgreen')\n",
    "plt.title('Counts for each sentiment class')\n",
    "plt.xlabel('Review sentiment')\n",
    "plt.ylabel('Frequency')\n",
    "plt.xticks(rotation=45)  # Rotate x labels if needed\n",
    "plt.grid(axis='y')\n",
    "plt.show()"
   ]
  },
  {
   "cell_type": "code",
   "execution_count": 54,
   "id": "a1b3a43c-b797-49f3-a8d2-7f4e6dab6b74",
   "metadata": {
    "tags": []
   },
   "outputs": [],
   "source": [
    "balanced_df_sent.to_csv('three_class_balanced.csv', index=False)"
   ]
  },
  {
   "cell_type": "markdown",
   "id": "baa421dc-87cb-4841-90b6-100554fb2f41",
   "metadata": {},
   "source": [
    "### Preparing data for binary classification\n",
    "---\n",
    "Finally, we create the class-balanced dataset containing just positive and negative reviews, i.e. we just remove the neutral sentiment reviews from the previous dataset."
   ]
  },
  {
   "cell_type": "code",
   "execution_count": 2,
   "id": "3bedebe2-0e4d-474e-85f0-398f1f38cddf",
   "metadata": {
    "tags": []
   },
   "outputs": [],
   "source": [
    "df_final = pd.read_csv('three_class_balanced.csv')"
   ]
  },
  {
   "cell_type": "code",
   "execution_count": 3,
   "id": "fe3d8fde-fc0b-4bc8-a5e7-ad85f3a94a8c",
   "metadata": {
    "tags": []
   },
   "outputs": [
    {
     "data": {
      "text/html": [
       "<div>\n",
       "<style scoped>\n",
       "    .dataframe tbody tr th:only-of-type {\n",
       "        vertical-align: middle;\n",
       "    }\n",
       "\n",
       "    .dataframe tbody tr th {\n",
       "        vertical-align: top;\n",
       "    }\n",
       "\n",
       "    .dataframe thead th {\n",
       "        text-align: right;\n",
       "    }\n",
       "</style>\n",
       "<table border=\"1\" class=\"dataframe\">\n",
       "  <thead>\n",
       "    <tr style=\"text-align: right;\">\n",
       "      <th></th>\n",
       "      <th>overall</th>\n",
       "      <th>reviewTime</th>\n",
       "      <th>reviewText</th>\n",
       "      <th>summary</th>\n",
       "    </tr>\n",
       "  </thead>\n",
       "  <tbody>\n",
       "    <tr>\n",
       "      <th>0</th>\n",
       "      <td>Negative</td>\n",
       "      <td>11 12, 2013</td>\n",
       "      <td>I could not read the entire story. The book wa...</td>\n",
       "      <td>nope</td>\n",
       "    </tr>\n",
       "    <tr>\n",
       "      <th>1</th>\n",
       "      <td>Neutral</td>\n",
       "      <td>10 7, 2014</td>\n",
       "      <td>This was a sweet read.....i recommend if your ...</td>\n",
       "      <td>A sweet read.</td>\n",
       "    </tr>\n",
       "    <tr>\n",
       "      <th>2</th>\n",
       "      <td>Positive</td>\n",
       "      <td>09 9, 2013</td>\n",
       "      <td>Greetings from Australia. A brilliant story. W...</td>\n",
       "      <td>Brilliant</td>\n",
       "    </tr>\n",
       "    <tr>\n",
       "      <th>3</th>\n",
       "      <td>Positive</td>\n",
       "      <td>01 25, 2014</td>\n",
       "      <td>My first book from this author and I really li...</td>\n",
       "      <td>Beautiful</td>\n",
       "    </tr>\n",
       "    <tr>\n",
       "      <th>4</th>\n",
       "      <td>Positive</td>\n",
       "      <td>02 24, 2016</td>\n",
       "      <td>Dark City is quite a dark novel, chilling and ...</td>\n",
       "      <td>Dark thriller, worth reading.</td>\n",
       "    </tr>\n",
       "  </tbody>\n",
       "</table>\n",
       "</div>"
      ],
      "text/plain": [
       "    overall   reviewTime                                         reviewText  \\\n",
       "0  Negative  11 12, 2013  I could not read the entire story. The book wa...   \n",
       "1   Neutral   10 7, 2014  This was a sweet read.....i recommend if your ...   \n",
       "2  Positive   09 9, 2013  Greetings from Australia. A brilliant story. W...   \n",
       "3  Positive  01 25, 2014  My first book from this author and I really li...   \n",
       "4  Positive  02 24, 2016  Dark City is quite a dark novel, chilling and ...   \n",
       "\n",
       "                         summary  \n",
       "0                           nope  \n",
       "1                  A sweet read.  \n",
       "2                      Brilliant  \n",
       "3                      Beautiful  \n",
       "4  Dark thriller, worth reading.  "
      ]
     },
     "execution_count": 3,
     "metadata": {},
     "output_type": "execute_result"
    }
   ],
   "source": [
    "df_final.head()"
   ]
  },
  {
   "cell_type": "code",
   "execution_count": 4,
   "id": "e87fbfc3-9a59-4009-95fb-b77312104d73",
   "metadata": {
    "tags": []
   },
   "outputs": [],
   "source": [
    "# filter out neutral-sentiment reviews\n",
    "df_final = df_final[df_final['overall'] != 'Neutral']"
   ]
  },
  {
   "cell_type": "code",
   "execution_count": 5,
   "id": "d307b014-fbae-4a0d-946f-d2769c566edc",
   "metadata": {
    "tags": []
   },
   "outputs": [
    {
     "data": {
      "text/plain": [
       "overall\n",
       "Negative    85690\n",
       "Positive    85690\n",
       "Name: count, dtype: int64"
      ]
     },
     "execution_count": 5,
     "metadata": {},
     "output_type": "execute_result"
    }
   ],
   "source": [
    "df_final['overall'].value_counts()"
   ]
  },
  {
   "cell_type": "code",
   "execution_count": 7,
   "id": "8c49c773-bfce-45a0-8fc9-d8b31b98d6bc",
   "metadata": {
    "tags": []
   },
   "outputs": [],
   "source": [
    "df_final.to_csv('binary_class_balanced.csv', index=False)"
   ]
  },
  {
   "cell_type": "code",
   "execution_count": null,
   "id": "bbe657b6-b112-496a-af6b-5be4f996b16d",
   "metadata": {},
   "outputs": [],
   "source": []
  }
 ],
 "metadata": {
  "kernelspec": {
   "display_name": "Python 3 (ipykernel)",
   "language": "python",
   "name": "python3"
  },
  "language_info": {
   "codemirror_mode": {
    "name": "ipython",
    "version": 3
   },
   "file_extension": ".py",
   "mimetype": "text/x-python",
   "name": "python",
   "nbconvert_exporter": "python",
   "pygments_lexer": "ipython3",
   "version": "3.11.5"
  }
 },
 "nbformat": 4,
 "nbformat_minor": 5
}
